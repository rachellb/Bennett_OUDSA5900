{
 "cells": [
  {
   "cell_type": "code",
   "execution_count": 25,
   "metadata": {},
   "outputs": [],
   "source": [
    "#For handling data\n",
    "import pandas as pd\n",
    "import numpy as np\n",
    "import os\n",
    "from datetime import datetime\n",
    "\n",
    "from math import floor, log10\n",
    "pd.set_option('display.max_columns', 999)\n",
    "pd.set_option('display.max_rows', 999)\n",
    "import seaborn as sns\n",
    "import matplotlib.pyplot as plt\n",
    "from matplotlib.pyplot import *\n",
    "%matplotlib inline\n",
    " \n",
    "from IPython.display import set_matplotlib_formats\n",
    "set_matplotlib_formats('png', 'pdf')\n",
    "font = {'family' : 'times',\n",
    "        'size'   : 12}\n",
    "\n",
    "matplotlib.rc('font', **font)"
   ]
  },
  {
   "cell_type": "code",
   "execution_count": 2,
   "metadata": {},
   "outputs": [],
   "source": [
    "system = 'linux'"
   ]
  },
  {
   "cell_type": "code",
   "execution_count": 3,
   "metadata": {},
   "outputs": [
    {
     "name": "stderr",
     "output_type": "stream",
     "text": [
      "/home/rachel/anaconda3/lib/python3.8/site-packages/pandas/core/indexing.py:1637: SettingWithCopyWarning: \n",
      "A value is trying to be set on a copy of a slice from a DataFrame\n",
      "\n",
      "See the caveats in the documentation: https://pandas.pydata.org/pandas-docs/stable/user_guide/indexing.html#returning-a-view-versus-a-copy\n",
      "  self._setitem_single_block(indexer, value, name)\n"
     ]
    }
   ],
   "source": [
    "parent = os.path.dirname(os.getcwd())\n",
    "\n",
    "if system == 'linux':\n",
    "    dataPathq1 = os.path.join(parent, r\"Data/Texas_PUDF/PUDF_base1_1q2013_tab.txt\")\n",
    "    dataPathq2 = os.path.join(parent, r\"Data/Texas_PUDF/PUDF_base1_2q2013_tab.txt\")\n",
    "    dataPathq3 = os.path.join(parent, r\"Data/Texas_PUDF/PUDF_base1_3q2013_tab.txt\")\n",
    "    dataPathq4 = os.path.join(parent, r\"Data/Texas_PUDF/PUDF_base1_4q2013_tab.txt\")\n",
    "\n",
    "else: \n",
    "    dataPathq1 = os.path.join(parent, r\"Data\\Texas_PUDF\\PUDF_base1_1q2013_tab.txt\")\n",
    "    dataPathq2 = os.path.join(parent, r\"Data\\Texas_PUDF\\PUDF_base1_2q2013_tab.txt\")\n",
    "    dataPathq3 = os.path.join(parent, r\"Data\\Texas_PUDF\\PUDF_base1_3q2013_tab.txt\")\n",
    "    dataPathq4 = os.path.join(parent, r\"Data\\Texas_PUDF\\PUDF_base1_4q2013_tab.txt\")\n",
    "\n",
    "\n",
    "quarter1 = pd.read_csv(dataPathq1, delimiter=\"\\t\", usecols=['RECORD_ID',\n",
    "                                                                                             'DISCHARGE',\n",
    "                                                                                             'SOURCE_OF_ADMISSION',\n",
    "                                                                                             'PAT_STATUS',\n",
    "                                                                                             'PAT_STATE',\n",
    "                                                                                             'COUNTY',\n",
    "                                                                                             'SEX_CODE',\n",
    "                                                                                             'RACE',\n",
    "                                                                                             'ETHNICITY',\n",
    "                                                                                             'PAT_AGE',\n",
    "                                                                                             'FIRST_PAYMENT_SRC',\n",
    "                                                                                             'SECONDARY_PAYMENT_SRC',\n",
    "                                                                                             'LENGTH_OF_STAY',\n",
    "                                                                                             'ADMITTING_DIAGNOSIS',\n",
    "                                                                                             'PRINC_DIAG_CODE',\n",
    "                                                                                             'OTH_DIAG_CODE_1',\n",
    "                                                                                             'OTH_DIAG_CODE_2',\n",
    "                                                                                             'OTH_DIAG_CODE_3',\n",
    "                                                                                             'OTH_DIAG_CODE_4',\n",
    "                                                                                             'OTH_DIAG_CODE_5',\n",
    "                                                                                             'OTH_DIAG_CODE_6',\n",
    "                                                                                             'OTH_DIAG_CODE_7',\n",
    "                                                                                             'OTH_DIAG_CODE_8',\n",
    "                                                                                             'OTH_DIAG_CODE_9',\n",
    "                                                                                             'OTH_DIAG_CODE_10',\n",
    "                                                                                             'OTH_DIAG_CODE_11',\n",
    "                                                                                             'OTH_DIAG_CODE_12',\n",
    "                                                                                             'OTH_DIAG_CODE_13',\n",
    "                                                                                             'OTH_DIAG_CODE_14',\n",
    "                                                                                             'OTH_DIAG_CODE_15',\n",
    "                                                                                             'OTH_DIAG_CODE_16',\n",
    "                                                                                             'OTH_DIAG_CODE_17',\n",
    "                                                                                             'OTH_DIAG_CODE_18',\n",
    "                                                                                             'OTH_DIAG_CODE_19',\n",
    "                                                                                             'OTH_DIAG_CODE_20',\n",
    "                                                                                             'OTH_DIAG_CODE_21',\n",
    "                                                                                             'OTH_DIAG_CODE_22',\n",
    "                                                                                             'OTH_DIAG_CODE_23',\n",
    "                                                                                             'OTH_DIAG_CODE_24', ],\n",
    "                       dtype={'RECORD_ID': object,\n",
    "                              'DISCHARGE': object,\n",
    "                              'PAT_STATUS': object,\n",
    "                              'PAT_STATE': str,\n",
    "                              'COUNTY': str,\n",
    "                              'SOURCE_OF_ADMISSION': object,\n",
    "                              'SEX_CODE': object,\n",
    "                              'RACE': object,\n",
    "                              'ETHNICITY': object,\n",
    "                              'PAT_AGE': object,\n",
    "                              'FIRST_PAYMENT_SRC': object,\n",
    "                              'SECONDARY_PAYMENT_SRC': object,\n",
    "                              'LENGTH_OF_STAY': float,\n",
    "                              'ADMITTING_DIAGNOSIS': str,\n",
    "                              'PRINC_DIAG_CODE': str,\n",
    "                              'OTH_DIAG_CODE_1': str,\n",
    "                              'OTH_DIAG_CODE_2': str,\n",
    "                              'OTH_DIAG_CODE_3': str,\n",
    "                              'OTH_DIAG_CODE_4': str,\n",
    "                              'OTH_DIAG_CODE_5': str,\n",
    "                              'OTH_DIAG_CODE_6': str,\n",
    "                              'OTH_DIAG_CODE_7': str,\n",
    "                              'OTH_DIAG_CODE_8': str,\n",
    "                              'OTH_DIAG_CODE_9': str,\n",
    "                              'OTH_DIAG_CODE_10': str,\n",
    "                              'OTH_DIAG_CODE_11': str,\n",
    "                              'OTH_DIAG_CODE_12': str,\n",
    "                              'OTH_DIAG_CODE_13': str,\n",
    "                              'OTH_DIAG_CODE_14': str,\n",
    "                              'OTH_DIAG_CODE_15': str,\n",
    "                              'OTH_DIAG_CODE_16': str,\n",
    "                              'OTH_DIAG_CODE_17': str,\n",
    "                              'OTH_DIAG_CODE_18': str,\n",
    "                              'OTH_DIAG_CODE_19': str,\n",
    "                              'OTH_DIAG_CODE_20': str,\n",
    "                              'OTH_DIAG_CODE_21': str,\n",
    "                              'OTH_DIAG_CODE_22': str,\n",
    "                              'OTH_DIAG_CODE_23': str,\n",
    "                              'OTH_DIAG_CODE_24': str})\n",
    "\n",
    "quarter2 = pd.read_csv(dataPathq2, delimiter=\"\\t\", usecols=['RECORD_ID',\n",
    "                                                                                             'DISCHARGE',\n",
    "                                                                                             'SOURCE_OF_ADMISSION',\n",
    "                                                                                             'PAT_STATUS',\n",
    "                                                                                             'PAT_STATE',\n",
    "                                                                                             'COUNTY',\n",
    "                                                                                             'SEX_CODE',\n",
    "                                                                                             'RACE',\n",
    "                                                                                             'ETHNICITY',\n",
    "                                                                                             'PAT_AGE',\n",
    "                                                                                             'FIRST_PAYMENT_SRC',\n",
    "                                                                                             'SECONDARY_PAYMENT_SRC',\n",
    "                                                                                             'LENGTH_OF_STAY',\n",
    "                                                                                             'ADMITTING_DIAGNOSIS',\n",
    "                                                                                             'PRINC_DIAG_CODE',\n",
    "                                                                                             'OTH_DIAG_CODE_1',\n",
    "                                                                                             'OTH_DIAG_CODE_2',\n",
    "                                                                                             'OTH_DIAG_CODE_3',\n",
    "                                                                                             'OTH_DIAG_CODE_4',\n",
    "                                                                                             'OTH_DIAG_CODE_5',\n",
    "                                                                                             'OTH_DIAG_CODE_6',\n",
    "                                                                                             'OTH_DIAG_CODE_7',\n",
    "                                                                                             'OTH_DIAG_CODE_8',\n",
    "                                                                                             'OTH_DIAG_CODE_9',\n",
    "                                                                                             'OTH_DIAG_CODE_10',\n",
    "                                                                                             'OTH_DIAG_CODE_11',\n",
    "                                                                                             'OTH_DIAG_CODE_12',\n",
    "                                                                                             'OTH_DIAG_CODE_13',\n",
    "                                                                                             'OTH_DIAG_CODE_14',\n",
    "                                                                                             'OTH_DIAG_CODE_15',\n",
    "                                                                                             'OTH_DIAG_CODE_16',\n",
    "                                                                                             'OTH_DIAG_CODE_17',\n",
    "                                                                                             'OTH_DIAG_CODE_18',\n",
    "                                                                                             'OTH_DIAG_CODE_19',\n",
    "                                                                                             'OTH_DIAG_CODE_20',\n",
    "                                                                                             'OTH_DIAG_CODE_21',\n",
    "                                                                                             'OTH_DIAG_CODE_22',\n",
    "                                                                                             'OTH_DIAG_CODE_23',\n",
    "                                                                                             'OTH_DIAG_CODE_24', ],\n",
    "                       dtype={'RECORD_ID': object,\n",
    "                              'DISCHARGE': object,\n",
    "                              'SOURCE_OF_ADMISSION': object,\n",
    "                              'PAT_STATUS': object,\n",
    "                              'PAT_STATE': str,\n",
    "                              'COUNTY': str,\n",
    "                              'SEX_CODE': object,\n",
    "                              'RACE': object,\n",
    "                              'ETHNICITY': object,\n",
    "                              'PAT_AGE': object,\n",
    "                              'FIRST_PAYMENT_SRC': object,\n",
    "                              'SECONDARY_PAYMENT_SRC': object,\n",
    "                              'LENGTH_OF_STAY': float,\n",
    "                              'ADMITTING_DIAGNOSIS': str,\n",
    "                              'PRINC_DIAG_CODE': str,\n",
    "                              'OTH_DIAG_CODE_1': str,\n",
    "                              'OTH_DIAG_CODE_2': str,\n",
    "                              'OTH_DIAG_CODE_3': str,\n",
    "                              'OTH_DIAG_CODE_4': str,\n",
    "                              'OTH_DIAG_CODE_5': str,\n",
    "                              'OTH_DIAG_CODE_6': str,\n",
    "                              'OTH_DIAG_CODE_7': str,\n",
    "                              'OTH_DIAG_CODE_8': str,\n",
    "                              'OTH_DIAG_CODE_9': str,\n",
    "                              'OTH_DIAG_CODE_10': str,\n",
    "                              'OTH_DIAG_CODE_11': str,\n",
    "                              'OTH_DIAG_CODE_12': str,\n",
    "                              'OTH_DIAG_CODE_13': str,\n",
    "                              'OTH_DIAG_CODE_14': str,\n",
    "                              'OTH_DIAG_CODE_15': str,\n",
    "                              'OTH_DIAG_CODE_16': str,\n",
    "                              'OTH_DIAG_CODE_17': str,\n",
    "                              'OTH_DIAG_CODE_18': str,\n",
    "                              'OTH_DIAG_CODE_19': str,\n",
    "                              'OTH_DIAG_CODE_20': str,\n",
    "                              'OTH_DIAG_CODE_21': str,\n",
    "                              'OTH_DIAG_CODE_22': str,\n",
    "                              'OTH_DIAG_CODE_23': str,\n",
    "                              'OTH_DIAG_CODE_24': str})\n",
    "\n",
    "quarter3 = pd.read_csv(dataPathq3, delimiter=\"\\t\", usecols=['RECORD_ID',\n",
    "                                                                                             'DISCHARGE',\n",
    "                                                                                             'SOURCE_OF_ADMISSION',\n",
    "                                                                                             'PAT_STATUS',\n",
    "                                                                                             'PAT_STATE',\n",
    "                                                                                             'COUNTY',\n",
    "                                                                                             'SEX_CODE',\n",
    "                                                                                             'RACE',\n",
    "                                                                                             'ETHNICITY',\n",
    "                                                                                             'PAT_AGE',\n",
    "                                                                                             'FIRST_PAYMENT_SRC',\n",
    "                                                                                             'SECONDARY_PAYMENT_SRC',\n",
    "                                                                                             'LENGTH_OF_STAY',\n",
    "                                                                                             'ADMITTING_DIAGNOSIS',\n",
    "                                                                                             'PRINC_DIAG_CODE',\n",
    "                                                                                             'OTH_DIAG_CODE_1',\n",
    "                                                                                             'OTH_DIAG_CODE_2',\n",
    "                                                                                             'OTH_DIAG_CODE_3',\n",
    "                                                                                             'OTH_DIAG_CODE_4',\n",
    "                                                                                             'OTH_DIAG_CODE_5',\n",
    "                                                                                             'OTH_DIAG_CODE_6',\n",
    "                                                                                             'OTH_DIAG_CODE_7',\n",
    "                                                                                             'OTH_DIAG_CODE_8',\n",
    "                                                                                             'OTH_DIAG_CODE_9',\n",
    "                                                                                             'OTH_DIAG_CODE_10',\n",
    "                                                                                             'OTH_DIAG_CODE_11',\n",
    "                                                                                             'OTH_DIAG_CODE_12',\n",
    "                                                                                             'OTH_DIAG_CODE_13',\n",
    "                                                                                             'OTH_DIAG_CODE_14',\n",
    "                                                                                             'OTH_DIAG_CODE_15',\n",
    "                                                                                             'OTH_DIAG_CODE_16',\n",
    "                                                                                             'OTH_DIAG_CODE_17',\n",
    "                                                                                             'OTH_DIAG_CODE_18',\n",
    "                                                                                             'OTH_DIAG_CODE_19',\n",
    "                                                                                             'OTH_DIAG_CODE_20',\n",
    "                                                                                             'OTH_DIAG_CODE_21',\n",
    "                                                                                             'OTH_DIAG_CODE_22',\n",
    "                                                                                             'OTH_DIAG_CODE_23',\n",
    "                                                                                             'OTH_DIAG_CODE_24', ],\n",
    "                       dtype={'RECORD_ID': object,\n",
    "                              'DISCHARGE': object,\n",
    "                              'SOURCE_OF_ADMISSION': object,\n",
    "                              'PAT_STATUS': object,\n",
    "                              'PAT_STATE': str,\n",
    "                              'COUNTY': str,\n",
    "                              'SEX_CODE': object,\n",
    "                              'RACE': object,\n",
    "                              'ETHNICITY': object,\n",
    "                              'PAT_AGE': object,\n",
    "                              'FIRST_PAYMENT_SRC': object,\n",
    "                              'SECONDARY_PAYMENT_SRC': object,\n",
    "                              'LENGTH_OF_STAY': float,\n",
    "                              'ADMITTING_DIAGNOSIS': str,\n",
    "                              'PRINC_DIAG_CODE': str,\n",
    "                              'OTH_DIAG_CODE_1': str,\n",
    "                              'OTH_DIAG_CODE_2': str,\n",
    "                              'OTH_DIAG_CODE_3': str,\n",
    "                              'OTH_DIAG_CODE_4': str,\n",
    "                              'OTH_DIAG_CODE_5': str,\n",
    "                              'OTH_DIAG_CODE_6': str,\n",
    "                              'OTH_DIAG_CODE_7': str,\n",
    "                              'OTH_DIAG_CODE_8': str,\n",
    "                              'OTH_DIAG_CODE_9': str,\n",
    "                              'OTH_DIAG_CODE_10': str,\n",
    "                              'OTH_DIAG_CODE_11': str,\n",
    "                              'OTH_DIAG_CODE_12': str,\n",
    "                              'OTH_DIAG_CODE_13': str,\n",
    "                              'OTH_DIAG_CODE_14': str,\n",
    "                              'OTH_DIAG_CODE_15': str,\n",
    "                              'OTH_DIAG_CODE_16': str,\n",
    "                              'OTH_DIAG_CODE_17': str,\n",
    "                              'OTH_DIAG_CODE_18': str,\n",
    "                              'OTH_DIAG_CODE_19': str,\n",
    "                              'OTH_DIAG_CODE_20': str,\n",
    "                              'OTH_DIAG_CODE_21': str,\n",
    "                              'OTH_DIAG_CODE_22': str,\n",
    "                              'OTH_DIAG_CODE_23': str,\n",
    "                              'OTH_DIAG_CODE_24': str})\n",
    "\n",
    "quarter4 = pd.read_csv(dataPathq4, delimiter=\"\\t\", usecols=['RECORD_ID',\n",
    "                                                                        'DISCHARGE',\n",
    "                                                                        'SOURCE_OF_ADMISSION',\n",
    "                                                                        'PAT_STATUS',\n",
    "                                                                        'PAT_STATE',\n",
    "                                                                        'COUNTY',\n",
    "                                                                        'SEX_CODE',\n",
    "                                                                        'RACE',\n",
    "                                                                        'ETHNICITY',\n",
    "                                                                        'PAT_AGE',\n",
    "                                                                        'FIRST_PAYMENT_SRC',\n",
    "                                                                        'SECONDARY_PAYMENT_SRC',\n",
    "                                                                        'LENGTH_OF_STAY',\n",
    "                                                                        'ADMITTING_DIAGNOSIS',\n",
    "                                                                        'PRINC_DIAG_CODE',\n",
    "                                                                        'OTH_DIAG_CODE_1',\n",
    "                                                                        'OTH_DIAG_CODE_2',\n",
    "                                                                        'OTH_DIAG_CODE_3',\n",
    "                                                                        'OTH_DIAG_CODE_4',\n",
    "                                                                        'OTH_DIAG_CODE_5',\n",
    "                                                                        'OTH_DIAG_CODE_6',\n",
    "                                                                        'OTH_DIAG_CODE_7',\n",
    "                                                                        'OTH_DIAG_CODE_8',\n",
    "                                                                        'OTH_DIAG_CODE_9',\n",
    "                                                                        'OTH_DIAG_CODE_10',\n",
    "                                                                        'OTH_DIAG_CODE_11',\n",
    "                                                                        'OTH_DIAG_CODE_12',\n",
    "                                                                        'OTH_DIAG_CODE_13',\n",
    "                                                                        'OTH_DIAG_CODE_14',\n",
    "                                                                        'OTH_DIAG_CODE_15',\n",
    "                                                                        'OTH_DIAG_CODE_16',\n",
    "                                                                        'OTH_DIAG_CODE_17',\n",
    "                                                                        'OTH_DIAG_CODE_18',\n",
    "                                                                        'OTH_DIAG_CODE_19',\n",
    "                                                                        'OTH_DIAG_CODE_20',\n",
    "                                                                        'OTH_DIAG_CODE_21',\n",
    "                                                                        'OTH_DIAG_CODE_22',\n",
    "                                                                        'OTH_DIAG_CODE_23',\n",
    "                                                                        'OTH_DIAG_CODE_24', ],\n",
    "                       dtype={'RECORD_ID': object,\n",
    "                              'DISCHARGE': object,\n",
    "                              'SOURCE_OF_ADMISSION': object,\n",
    "                              'PAT_STATUS': object,\n",
    "                              'PAT_STATE': str,\n",
    "                              'COUNTY': str,\n",
    "                              'SEX_CODE': object,\n",
    "                              'RACE': object,\n",
    "                              'ETHNICITY': object,\n",
    "                              'PAT_AGE': object,\n",
    "                              'FIRST_PAYMENT_SRC': object,\n",
    "                              'SECONDARY_PAYMENT_SRC': object,\n",
    "                              'LENGTH_OF_STAY': float,\n",
    "                              'ADMITTING_DIAGNOSIS': str,\n",
    "                              'PRINC_DIAG_CODE': str,\n",
    "                              'OTH_DIAG_CODE_1': str,\n",
    "                              'OTH_DIAG_CODE_2': str,\n",
    "                              'OTH_DIAG_CODE_3': str,\n",
    "                              'OTH_DIAG_CODE_4': str,\n",
    "                              'OTH_DIAG_CODE_5': str,\n",
    "                              'OTH_DIAG_CODE_6': str,\n",
    "                              'OTH_DIAG_CODE_7': str,\n",
    "                              'OTH_DIAG_CODE_8': str,\n",
    "                              'OTH_DIAG_CODE_9': str,\n",
    "                              'OTH_DIAG_CODE_10': str,\n",
    "                              'OTH_DIAG_CODE_11': str,\n",
    "                              'OTH_DIAG_CODE_12': str,\n",
    "                              'OTH_DIAG_CODE_13': str,\n",
    "                              'OTH_DIAG_CODE_14': str,\n",
    "                              'OTH_DIAG_CODE_15': str,\n",
    "                              'OTH_DIAG_CODE_16': str,\n",
    "                              'OTH_DIAG_CODE_17': str,\n",
    "                              'OTH_DIAG_CODE_18': str,\n",
    "                              'OTH_DIAG_CODE_19': str,\n",
    "                              'OTH_DIAG_CODE_20': str,\n",
    "                              'OTH_DIAG_CODE_21': str,\n",
    "                              'OTH_DIAG_CODE_22': str,\n",
    "                              'OTH_DIAG_CODE_23': str,\n",
    "                              'OTH_DIAG_CODE_24': str})\n",
    "# Combining all the quarters into one dataframe\n",
    "frames = [quarter1, quarter2, quarter3, quarter4]\n",
    "year2013 = pd.concat(frames)\n",
    "\n",
    "# County Information ----------------------------------------------------------------------------\n",
    "\n",
    "# fips code of each county in Border Area\n",
    "on_border = ['043', '047', '061', '105',\n",
    "             '109', '127', '131', '137',\n",
    "             '141', '163', '215', '229',\n",
    "             '243', '247', '261', '271',\n",
    "             '283', '323', '311', '371',\n",
    "             '377', '385', '389', '427',\n",
    "             '435', '443', '463', '465',\n",
    "             '479', '489', '505', '507']\n",
    "\n",
    "year2013['On Border'] = 0\n",
    "year2013.loc[year2013['COUNTY'].isin(on_border), ['On Border']] = 1\n",
    "# If the value is missing in county, set new value to missing\n",
    "year2013['On Border'].loc[year2013['COUNTY'].isna()] = np.nan\n",
    "\n",
    "# Filter by hospital delivery\n",
    "# Checks if a delivery-type code (V27*) is in any of the icd9 columns\n",
    "year2013 = year2013.loc[(year2013['ADMITTING_DIAGNOSIS'].str.startswith('V27'))\n",
    "                                 | year2013['PRINC_DIAG_CODE'].str.startswith('V27')\n",
    "                                 | year2013['OTH_DIAG_CODE_1'].str.startswith('V27')\n",
    "                                 | year2013['OTH_DIAG_CODE_2'].str.startswith('V27')\n",
    "                                 | year2013['OTH_DIAG_CODE_3'].str.startswith('V27')\n",
    "                                 | year2013['OTH_DIAG_CODE_4'].str.startswith('V27')\n",
    "                                 | year2013['OTH_DIAG_CODE_5'].str.startswith('V27')\n",
    "                                 | year2013['OTH_DIAG_CODE_6'].str.startswith('V27')\n",
    "                                 | year2013['OTH_DIAG_CODE_7'].str.startswith('V27')\n",
    "                                 | year2013['OTH_DIAG_CODE_8'].str.startswith('V27')\n",
    "                                 | year2013['OTH_DIAG_CODE_9'].str.startswith('V27')\n",
    "                                 | year2013['OTH_DIAG_CODE_10'].str.startswith('V27')\n",
    "                                 | year2013['OTH_DIAG_CODE_11'].str.startswith('V27')\n",
    "                                 | year2013['OTH_DIAG_CODE_12'].str.startswith('V27')\n",
    "                                 | year2013['OTH_DIAG_CODE_13'].str.startswith('V27')\n",
    "                                 | year2013['OTH_DIAG_CODE_14'].str.startswith('V27')\n",
    "                                 | year2013['OTH_DIAG_CODE_15'].str.startswith('V27')\n",
    "                                 | year2013['OTH_DIAG_CODE_16'].str.startswith('V27')\n",
    "                                 | year2013['OTH_DIAG_CODE_17'].str.startswith('V27')\n",
    "                                 | year2013['OTH_DIAG_CODE_18'].str.startswith('V27')\n",
    "                                 | year2013['OTH_DIAG_CODE_19'].str.startswith('V27')\n",
    "                                 | year2013['OTH_DIAG_CODE_20'].str.startswith('V27')\n",
    "                                 | year2013['OTH_DIAG_CODE_21'].str.startswith('V27')\n",
    "                                 | year2013['OTH_DIAG_CODE_22'].str.startswith('V27')\n",
    "                                 | year2013['OTH_DIAG_CODE_23'].str.startswith('V27')\n",
    "                                 | year2013['OTH_DIAG_CODE_24'].str.startswith('V27')]\n",
    "\n",
    "# Drop year2012\n",
    "year2013 = year2013[year2013['DISCHARGE'] != '2012Q4']\n",
    "\n",
    "# Selecting appropriate age groups\n",
    "year2013 = year2013.query('PAT_AGE >= \"04\" & PAT_AGE <= \"13\"')\n",
    "\n",
    "# Drop Invalid gender rows\n",
    "year2013 = year2013[year2013['SEX_CODE'] != 'U']\n",
    "\n",
    "# Re-label Invalid gender rows\n",
    "year2013['SEX_CODE'] = year2013['SEX_CODE'].replace('M', 'F')\n",
    "\n",
    "# Replace all tick marks with nan, either impute or drop later\n",
    "year2013 = year2013.replace('`', np.NaN)\n",
    "\n",
    "# Replace sex code nan with F, since at this point we should have only females in the df\n",
    "year2013['SEX_CODE'] = year2013['SEX_CODE'].replace(np.NaN, 'F')\n",
    "\n",
    "# All of this is fine\n",
    "# Insurance Codes\n",
    "medicare = ['16', 'MA', 'MB']\n",
    "medicaid = ['MC']\n",
    "sc = ['09', 'ZZ']\n",
    "other = ['10', '11', 'AM', 'CI', 'LI',\n",
    "         'LM', '12', '13', '14', '15',\n",
    "         'BL', 'CH', 'HM', 'OF', 'WC',\n",
    "         'DS', 'VA', 'TV']\n",
    "\n",
    "# Changes payment sources from codes to corresponding categories\n",
    "year2013['FIRST_PAYMENT_SRC'] = year2013['FIRST_PAYMENT_SRC'].replace(medicare, \"Medicare\")\n",
    "year2013['FIRST_PAYMENT_SRC'] = year2013['FIRST_PAYMENT_SRC'].replace(medicaid, \"Medicaid\")\n",
    "year2013['FIRST_PAYMENT_SRC'] = year2013['FIRST_PAYMENT_SRC'].replace(sc, \"Self-pay or Charity\")\n",
    "year2013['FIRST_PAYMENT_SRC'] = year2013['FIRST_PAYMENT_SRC'].replace(other,\"Other Insurance\")\n",
    "\n",
    "year2013['SECONDARY_PAYMENT_SRC'] = year2013['SECONDARY_PAYMENT_SRC'].replace(medicare,\"Medicare\")\n",
    "year2013['SECONDARY_PAYMENT_SRC'] = year2013['SECONDARY_PAYMENT_SRC'].replace(medicaid,\"Medicaid\")\n",
    "year2013['SECONDARY_PAYMENT_SRC'] = year2013['SECONDARY_PAYMENT_SRC'].replace(sc,\"Self-pay or Charity\")\n",
    "year2013['SECONDARY_PAYMENT_SRC'] = year2013['SECONDARY_PAYMENT_SRC'].replace(other,\"Other Insurance\")\n",
    "\n",
    "# Setting dummies to true makes a column for each category that states whether or not it is missing (0 or 1).\n",
    "year2013 = pd.get_dummies(year2013, prefix_sep=\"__\", dummy_na=True,\n",
    "                              columns=['FIRST_PAYMENT_SRC', 'SECONDARY_PAYMENT_SRC'])\n",
    "\n",
    "# Propogates the missing values via the indicator columns\n",
    "year2013.loc[year2013[\"FIRST_PAYMENT_SRC__nan\"] == 1, year2013.columns.str.startswith(\"FIRST_PAYMENT_SRC__\")] = np.nan\n",
    "year2013.loc[year2013[\"SECONDARY_PAYMENT_SRC__nan\"] == 1, year2013.columns.str.startswith(\"SECONDARY_PAYMENT_SRC__\")] = np.nan\n",
    "\n",
    "# Create category columns\n",
    "year2013['Medicaid'] = 0\n",
    "year2013['Medicare'] = 0\n",
    "year2013['Self-pay or Charity'] = 0\n",
    "year2013['Other Insurance'] = 0\n",
    "\n",
    "year2013['Medicaid'] = np.where(year2013['FIRST_PAYMENT_SRC__Medicaid'] == 1, 1,\n",
    "                                         year2013[\n",
    "                                             'Medicaid'])  # Change to 1 if 1, otherwise leave as is\n",
    "year2013['Medicaid'] = np.where(year2013['SECONDARY_PAYMENT_SRC__Medicaid'] == 1, 1,\n",
    "                                         year2013['Medicaid'])\n",
    "year2013['Medicare'] = np.where(year2013['FIRST_PAYMENT_SRC__Medicare'] == 1, 1,\n",
    "                                         year2013['Medicare'])\n",
    "year2013['Medicare'] = np.where(year2013['SECONDARY_PAYMENT_SRC__Medicare'] == 1, 1,\n",
    "                                         year2013['Medicare'])\n",
    "year2013['Self-pay or Charity'] = np.where(year2013['FIRST_PAYMENT_SRC__Self-pay or Charity'] == 1, 1,\n",
    "    year2013['Self-pay or Charity'])\n",
    "year2013['Self-pay or Charity'] = np.where(\n",
    "    year2013['SECONDARY_PAYMENT_SRC__Self-pay or Charity'] == 1, 1,\n",
    "    year2013['Self-pay or Charity'])\n",
    "year2013['Other Insurance'] = np.where(year2013['FIRST_PAYMENT_SRC__Other Insurance'] == 1, 1,\n",
    "                                                year2013['Other Insurance'])\n",
    "year2013['Other Insurance'] = np.where(year2013['SECONDARY_PAYMENT_SRC__Other Insurance'] == 1,\n",
    "                                                1, year2013['Other Insurance'])\n",
    "\n",
    "year2013['Medicaid'] = np.where(((year2013['FIRST_PAYMENT_SRC__nan'].isnull()) & (year2013['SECONDARY_PAYMENT_SRC__nan'].isnull())), np.NaN, year2013['Medicaid'])\n",
    "year2013['Medicare'] = np.where(((year2013['FIRST_PAYMENT_SRC__nan'].isnull()) & (year2013['SECONDARY_PAYMENT_SRC__nan'].isnull())), np.NaN, year2013['Medicare'])\n",
    "year2013['Self-pay or Charity'] = np.where(((year2013['FIRST_PAYMENT_SRC__nan'].isnull()) & (year2013['SECONDARY_PAYMENT_SRC__nan'].isnull())), np.NaN,year2013['Self-pay or Charity'])\n",
    "year2013['Other Insurance'] = np.where(((year2013['FIRST_PAYMENT_SRC__nan'].isnull()) & (year2013['SECONDARY_PAYMENT_SRC__nan'].isnull())), np.NaN,year2013['Other Insurance'])\n",
    "\n",
    "# Drop columns with dummies\n",
    "year2013.drop(columns=['FIRST_PAYMENT_SRC__Medicaid',\n",
    "                                'SECONDARY_PAYMENT_SRC__Medicaid',\n",
    "                                'FIRST_PAYMENT_SRC__Medicare',\n",
    "                                'SECONDARY_PAYMENT_SRC__Medicare',\n",
    "                                'FIRST_PAYMENT_SRC__Self-pay or Charity',\n",
    "                                'SECONDARY_PAYMENT_SRC__Self-pay or Charity',\n",
    "                                'FIRST_PAYMENT_SRC__Other Insurance',\n",
    "                                'SECONDARY_PAYMENT_SRC__Other Insurance',\n",
    "                      'FIRST_PAYMENT_SRC__nan',\n",
    "                      'SECONDARY_PAYMENT_SRC__nan']\n",
    "                       , axis=1, inplace=True)\n",
    "\n",
    "\n",
    "\n",
    "#Rename Age groups\n",
    "\n",
    "year2013.PAT_AGE.replace(['04'],'10-14',inplace=True)\n",
    "year2013.PAT_AGE.replace(['05', '06'],'15-19',inplace=True)\n",
    "year2013.PAT_AGE.replace(['07'],'20-24',inplace=True)\n",
    "year2013.PAT_AGE.replace(['08'],'25-29',inplace=True)\n",
    "year2013.PAT_AGE.replace(['09'],'30-34',inplace=True)\n",
    "year2013.PAT_AGE.replace(['10'],'35-39',inplace=True)\n",
    "year2013.PAT_AGE.replace(['11'],'40-44',inplace=True)\n",
    "year2013.PAT_AGE.replace(['12'],'45-49',inplace=True)\n",
    "year2013.PAT_AGE.replace(['13'],'50-54',inplace=True)\n",
    "\n",
    "# Columns for scanning ICD9 codes\n",
    "diagnosisColumns = ['ADMITTING_DIAGNOSIS',\n",
    "                    'PRINC_DIAG_CODE',\n",
    "                    'OTH_DIAG_CODE_1',\n",
    "                    'OTH_DIAG_CODE_2',\n",
    "                    'OTH_DIAG_CODE_3',\n",
    "                    'OTH_DIAG_CODE_4',\n",
    "                    'OTH_DIAG_CODE_5',\n",
    "                    'OTH_DIAG_CODE_6',\n",
    "                    'OTH_DIAG_CODE_7',\n",
    "                    'OTH_DIAG_CODE_8',\n",
    "                    'OTH_DIAG_CODE_9',\n",
    "                    'OTH_DIAG_CODE_10',\n",
    "                    'OTH_DIAG_CODE_11',\n",
    "                    'OTH_DIAG_CODE_12',\n",
    "                    'OTH_DIAG_CODE_13',\n",
    "                    'OTH_DIAG_CODE_14',\n",
    "                    'OTH_DIAG_CODE_15',\n",
    "                    'OTH_DIAG_CODE_16',\n",
    "                    'OTH_DIAG_CODE_17',\n",
    "                    'OTH_DIAG_CODE_18',\n",
    "                    'OTH_DIAG_CODE_19',\n",
    "                    'OTH_DIAG_CODE_20',\n",
    "                    'OTH_DIAG_CODE_21',\n",
    "                    'OTH_DIAG_CODE_22',\n",
    "                    'OTH_DIAG_CODE_23',\n",
    "                    'OTH_DIAG_CODE_24']\n",
    "\n",
    "# Creating a dictionary to hold keys and values\n",
    "diseaseDictionary = {}\n",
    "\n",
    "diseaseDictionary['Obesity'] = ['V853', 'V854', '27800', '27801', '27803', '6491']\n",
    "diseaseDictionary['Pregnancy resulting from assisted reproductive technology'] = ['V2385']\n",
    "diseaseDictionary['Cocaine dependence'] = ['3042', '3056']\n",
    "diseaseDictionary['Amphetamine dependence'] = ['3044', '3057']\n",
    "diseaseDictionary['Gestational diabetes mellitus'] = ['6488']\n",
    "diseaseDictionary['Pre-existing diabetes mellitus'] = ['250', '6480']\n",
    "diseaseDictionary['Anxiety'] = ['3000']\n",
    "diseaseDictionary['Anemia NOS'] = ['2859']\n",
    "diseaseDictionary['Iron deficiency anemia'] = ['280']\n",
    "diseaseDictionary['Other anemia'] = ['281']\n",
    "diseaseDictionary['Depression'] = ['311']\n",
    "diseaseDictionary['Primigravidas at the extremes of maternal age'] = ['6595', 'V2381', 'V2383']\n",
    "diseaseDictionary['Hemorrhagic disorders due to intrinsic circulating antibodies'] = ['2865']\n",
    "diseaseDictionary['Systemic lupus erythematosus'] = ['7100']\n",
    "diseaseDictionary['Lupus erythematosus'] = ['6954']\n",
    "diseaseDictionary['Autoimmune disease not elsewhere classified'] = ['27949']\n",
    "diseaseDictionary['Pure hypercholesterolemia'] = ['2720']\n",
    "diseaseDictionary['Unspecified vitamin D deficiency'] = ['2689']\n",
    "diseaseDictionary['Proteinuria'] = ['7910']\n",
    "diseaseDictionary['Tobacco use disorder'] = ['3051', '6490']\n",
    "diseaseDictionary['History of tobacco use'] = ['V1582']\n",
    "diseaseDictionary['Hypertension'] = ['401']\n",
    "diseaseDictionary['Hypertensive heart disease'] = ['402']\n",
    "diseaseDictionary['Chronic venous hypertension'] = ['4593']\n",
    "diseaseDictionary['Unspecified renal disease in pregnancy without mention of hypertension'] = ['6462']\n",
    "diseaseDictionary['Chronic kidney disease'] = ['585']\n",
    "diseaseDictionary['Hypertensive kidney disease'] = ['403']\n",
    "diseaseDictionary['Hypertensive heart and chronic kidney disease'] = ['404']\n",
    "diseaseDictionary['Renal failure not elsewhere classified'] = ['586']\n",
    "diseaseDictionary['Infections of genitourinary tract in pregnancy'] = ['6466']\n",
    "diseaseDictionary['UTI'] = ['5990']\n",
    "diseaseDictionary['Personal history of trophoblastic disease'] = ['V131']\n",
    "diseaseDictionary['Supervision of high-risk pregnancy with history of trophoblastic disease'] = ['V231']\n",
    "diseaseDictionary['Thrombophilia'] = ['28981']\n",
    "diseaseDictionary['History of premature delivery'] = ['V1321']\n",
    "diseaseDictionary['Hemorrhage in early pregnancy'] = ['640']\n",
    "diseaseDictionary[\n",
    "    'Congenital abnormalities of the uterus including those complicating pregnancy, childbirth, or the puerperium'] = [\n",
    "    '6540', '7522', '7523']\n",
    "diseaseDictionary['Multiple Gestations'] = ['651']\n",
    "diseaseDictionary['Fetal Growth Restriction'] = ['764']\n",
    "diseaseDictionary['Asthma'] = ['493']\n",
    "diseaseDictionary['Obstructive Sleep Apnea'] = ['32723']\n",
    "diseaseDictionary['Other cardiovascular diseases complicating pregnancy and childbirth or the puerperium'] = [\n",
    "    '6486']\n",
    "diseaseDictionary['Sickle cell disease'] = ['28260']\n",
    "diseaseDictionary['Thyroid Disease'] = ['240', '241', '242', '243', '244', '245', '246']\n",
    "diseaseDictionary['Inadequate Prenatal Care'] = ['V237']\n",
    "diseaseDictionary['Periodontal disease'] = ['523']\n",
    "diseaseDictionary['Preeclampsia/Eclampsia'] = ['6424', '6425', '6426', '6427']\n",
    "diseaseDictionary['HELLP'] = ['6425']\n",
    "diseaseDictionary['Stroke'] = ['43']\n",
    "diseaseDictionary['Renal Disease'] = ['585', '6462', '5939', '584', '791.0', '403', '59381', '7531', '58289']\n",
    "diseaseDictionary['Pulmonary Edema'] = ['5184']\n",
    "diseaseDictionary['Acute Heart Failure'] = ['428']\n",
    "diseaseDictionary['Eclampsia'] = ['6424', '6426']\n",
    "diseaseDictionary['Diabetes'] = ['6488','250', '6480']\n",
    "\n",
    "\n",
    "# Adds Disease column\n",
    "for disease in diseaseDictionary:\n",
    "    year2013[disease] = 0  # This is how to add columns and default to 0\n",
    "\n",
    "# Filling out the diseases\n",
    "for disease in diseaseDictionary:\n",
    "    for codes in diseaseDictionary[disease]:\n",
    "        for col in diagnosisColumns:\n",
    "            year2013.loc[year2013[col].str.startswith(codes, na=False), [disease]] = 1\n",
    "\n",
    "eclampExclude = ['64243', '64253', '64263', '64273']  # Exclude codes ending in 3\n",
    "for codes in eclampExclude:\n",
    "    for col in diagnosisColumns:\n",
    "        year2013.loc[\n",
    "            year2013[col].str.startswith(codes, na=False), ['Preeclampsia/Eclampsia']] = 0\n",
    "\n",
    "# Drop columns with ICD-9 codes\n",
    "year2013.drop(columns=\n",
    "                       ['ADMITTING_DIAGNOSIS', 'PRINC_DIAG_CODE', 'OTH_DIAG_CODE_1',\n",
    "                        'OTH_DIAG_CODE_2', 'OTH_DIAG_CODE_3', 'OTH_DIAG_CODE_4',\n",
    "                        'OTH_DIAG_CODE_5', 'OTH_DIAG_CODE_6', 'OTH_DIAG_CODE_7',\n",
    "                        'OTH_DIAG_CODE_8', 'OTH_DIAG_CODE_9', 'OTH_DIAG_CODE_10',\n",
    "                        'OTH_DIAG_CODE_11', 'OTH_DIAG_CODE_12', 'OTH_DIAG_CODE_13',\n",
    "                        'OTH_DIAG_CODE_14', 'OTH_DIAG_CODE_15', 'OTH_DIAG_CODE_16',\n",
    "                        'OTH_DIAG_CODE_17', 'OTH_DIAG_CODE_18', 'OTH_DIAG_CODE_19',\n",
    "                        'OTH_DIAG_CODE_20', 'OTH_DIAG_CODE_21', 'OTH_DIAG_CODE_22',\n",
    "                        'OTH_DIAG_CODE_23', 'OTH_DIAG_CODE_24'], axis=1, inplace=True)"
   ]
  },
  {
   "cell_type": "code",
   "execution_count": 24,
   "metadata": {},
   "outputs": [
    {
     "data": {
      "text/plain": [
       "(360943, 71)"
      ]
     },
     "execution_count": 24,
     "metadata": {},
     "output_type": "execute_result"
    }
   ],
   "source": [
    "year2013.shape"
   ]
  },
  {
   "cell_type": "code",
   "execution_count": 4,
   "metadata": {},
   "outputs": [],
   "source": [
    "conditions = [\n",
    "    year2013['RACE'].eq('4') & year2013['ETHNICITY'].eq('1'),\n",
    "    year2013['RACE'].eq('3') & year2013['ETHNICITY'].eq('1'),\n",
    "    year2013['RACE'].eq('2') & year2013['ETHNICITY'].eq('1'),\n",
    "    year2013['RACE'].eq('1') & year2013['ETHNICITY'].eq('1'),\n",
    "    year2013['RACE'].eq('5') & year2013['ETHNICITY'].eq('1'),\n",
    "    year2013['RACE'].eq('4') & year2013['ETHNICITY'].eq('2'),\n",
    "    year2013['RACE'].eq('3') & year2013['ETHNICITY'].eq('2'),\n",
    "    year2013['RACE'].eq('2') & year2013['ETHNICITY'].eq('2'),\n",
    "    year2013['RACE'].eq('1') & year2013['ETHNICITY'].eq('2'),\n",
    "    year2013['RACE'].eq('5') & year2013['ETHNICITY'].eq('2')\n",
    "    \n",
    "]\n",
    "\n",
    "choices = ['White Hispanic','African American Hispanic','Asian/Pacific Islander Hispanic','Native American Hispanic',\n",
    "          'Other Race Hispanic','White Non-Hispanic','African American Non-Hispanic','Asian/Pacific Islander Non-Hispanic',\n",
    "          'Native American Non-Hispanic','Other Race Non-Hispanic']\n",
    "\n",
    "year2013['RaceEthnic'] = np.select(conditions, choices, default=None)\n",
    "\n",
    "race = year2013.copy()"
   ]
  },
  {
   "cell_type": "markdown",
   "metadata": {},
   "source": [
    "# Missing Exploration"
   ]
  },
  {
   "cell_type": "code",
   "execution_count": 15,
   "metadata": {},
   "outputs": [
    {
     "data": {
      "text/plain": [
       "SOURCE_OF_ADMISSION     147\n",
       "PAT_STATE               225\n",
       "COUNTY                 9018\n",
       "PAT_STATUS              251\n",
       "SEX_CODE                  0\n",
       "RACE                    878\n",
       "ETHNICITY              3418\n",
       "LENGTH_OF_STAY            0\n",
       "PAT_AGE                   0\n",
       "On Border              9018\n",
       "Medicaid                149\n",
       "Medicare                149\n",
       "Self-pay or Charity     149\n",
       "Other Insurance         149\n",
       "dtype: int64"
      ]
     },
     "execution_count": 15,
     "metadata": {},
     "output_type": "execute_result"
    }
   ],
   "source": [
    "year2013.iloc[:,2:16].isnull().sum()"
   ]
  },
  {
   "cell_type": "code",
   "execution_count": 19,
   "metadata": {},
   "outputs": [
    {
     "data": {
      "text/plain": [
       "4236"
      ]
     },
     "execution_count": 19,
     "metadata": {},
     "output_type": "execute_result"
    }
   ],
   "source": [
    "year2013.iloc[:,-1].isnull().sum()"
   ]
  },
  {
   "cell_type": "code",
   "execution_count": 16,
   "metadata": {},
   "outputs": [
    {
     "data": {
      "text/plain": [
       "SOURCE_OF_ADMISSION    0.040727\n",
       "PAT_STATE              0.062337\n",
       "COUNTY                 2.498455\n",
       "PAT_STATUS             0.069540\n",
       "SEX_CODE               0.000000\n",
       "RACE                   0.243252\n",
       "ETHNICITY              0.946964\n",
       "LENGTH_OF_STAY         0.000000\n",
       "PAT_AGE                0.000000\n",
       "On Border              2.498455\n",
       "Medicaid               0.041281\n",
       "Medicare               0.041281\n",
       "Self-pay or Charity    0.041281\n",
       "Other Insurance        0.041281\n",
       "dtype: float64"
      ]
     },
     "execution_count": 16,
     "metadata": {},
     "output_type": "execute_result"
    }
   ],
   "source": [
    "year2013.iloc[:,2:16].isnull().sum()/len(year2013.iloc[:,2:16])*100"
   ]
  },
  {
   "cell_type": "code",
   "execution_count": 5,
   "metadata": {
    "scrolled": true
   },
   "outputs": [],
   "source": [
    "year2013.RACE.replace('1','Native American',inplace=True)\n",
    "year2013.RACE.replace('2','Asian',inplace=True)\n",
    "year2013.RACE.replace('3','African American',inplace=True)\n",
    "year2013.RACE.replace('4','White',inplace=True)\n",
    "year2013.RACE.replace('5','Other Race',inplace=True)\n",
    "year2013.RACE.replace(np.NaN,'Missing',inplace=True)\n",
    "\n",
    "\n",
    "year2013.ETHNICITY.replace('1','Hispanic',inplace=True)\n",
    "year2013.ETHNICITY.replace('2','Non-Hispanic',inplace=True)\n",
    "year2013.ETHNICITY.replace(np.NaN,'Missing',inplace=True)"
   ]
  },
  {
   "cell_type": "code",
   "execution_count": 21,
   "metadata": {},
   "outputs": [
    {
     "data": {
      "text/plain": [
       "Index(['African American', 'Asian', 'Missing', 'Native American', 'Other Race',\n",
       "       'White'],\n",
       "      dtype='object', name='RACE')"
      ]
     },
     "execution_count": 21,
     "metadata": {},
     "output_type": "execute_result"
    }
   ],
   "source": [
    "x.index.get_level_values(0).unique()"
   ]
  },
  {
   "cell_type": "code",
   "execution_count": 30,
   "metadata": {},
   "outputs": [
    {
     "data": {
      "text/plain": [
       "<AxesSubplot:ylabel='RACE'>"
      ]
     },
     "execution_count": 30,
     "metadata": {},
     "output_type": "execute_result"
    },
    {
     "data": {
      "image/png": "[encoded data removed]",
      "text/plain": [
       "<Figure size 432x288 with 1 Axes>"
      ]
     },
     "metadata": {
      "needs_background": "light"
     },
     "output_type": "display_data"
    }
   ],
   "source": [
    "#sns.set_palette(\"cubehelix\", 3)\n",
    "sns.set_palette(sns.cubehelix_palette(3, rot=1.3))\n",
    "x = year2013.groupby(['RACE'])['ETHNICITY'].value_counts(dropna=False, normalize=True).unstack()\n",
    "x.reindex(['African American', 'Asian',  'Native American', 'Other Race',\n",
    "       'White','Missing']).plot.barh(stacked=True)\n",
    "\n"
   ]
  },
  {
   "cell_type": "code",
   "execution_count": 69,
   "metadata": {},
   "outputs": [
    {
     "data": {
      "image/png": "[encoded data removed]",
      "text/plain": [
       "<Figure size 432x288 with 1 Axes>"
      ]
     },
     "metadata": {
      "needs_background": "light"
     },
     "output_type": "display_data"
    }
   ],
   "source": [
    "ax = year2013.groupby(['RACE'])['ETHNICITY'].value_counts(dropna=False, normalize=True).sort_index().unstack().plot.barh(stacked=True)\n",
    "ax.legend(loc='center left', bbox_to_anchor=(1.0, 0.5), title=\"Ethnicity\")\n",
    "\n",
    "ax.set_ylabel(\"Race\") \n",
    "ax.set_xlabel(\"Proportion\") \n",
    "plt.show()\n"
   ]
  },
  {
   "cell_type": "code",
   "execution_count": 36,
   "metadata": {},
   "outputs": [
    {
     "data": {
      "text/plain": [
       "ETHNICITY     RACE                                 \n",
       "Hispanic      Other Race                                88505\n",
       "              White                                     59500\n",
       "              Black                                      1125\n",
       "              American Indian/Eskimo/Aleut Hispanic       390\n",
       "              Asian/Pacific Islander                      333\n",
       "              NaN                                         178\n",
       "Non-Hispanic  White                                    134246\n",
       "              Black                                     39743\n",
       "              Other Race                                19384\n",
       "              Asian/Pacific Islander                    12676\n",
       "              American Indian/Eskimo/Aleut Hispanic       805\n",
       "              NaN                                         640\n",
       "Name: RACE, dtype: int64"
      ]
     },
     "execution_count": 36,
     "metadata": {},
     "output_type": "execute_result"
    }
   ],
   "source": [
    "year2013.groupby(['ETHNICITY'])['RACE'].value_counts(dropna=False)"
   ]
  },
  {
   "cell_type": "code",
   "execution_count": 45,
   "metadata": {},
   "outputs": [
    {
     "data": {
      "image/png": "[encoded data removed]",
      "text/plain": [
       "<Figure size 432x288 with 1 Axes>"
      ]
     },
     "metadata": {
      "needs_background": "light"
     },
     "output_type": "display_data"
    }
   ],
   "source": [
    "ax = year2013.groupby(['ETHNICITY'])['RACE'].value_counts(dropna=False, normalize=True)[['','Non-Hispanic','Missing']].unstack().plot.barh(stacked=True)\n",
    "ax.legend(loc='center left', bbox_to_anchor=(1.0, 0.5), title=\"Race\") \n",
    "ax.set_xlabel(\"Proportion\")\n",
    "ax.set_ylabel(\"Ethnicity\")\n",
    "plt.show()"
   ]
  },
  {
   "cell_type": "code",
   "execution_count": 6,
   "metadata": {},
   "outputs": [],
   "source": [
    "# Fill out columns with appropriate numbers\n",
    "year2013['RaceEthnic'] = np.where(((year2013['RACE'] == 4) & (year2013['ETHNICITY'] == 1)), 'White Hispanic','x')\n",
    "year2013['RaceEthnic'] = np.where(((year2013['RACE'] == 3) & (year2013['ETHNICITY'] == 1)), 'Black Hispanic','x')\n",
    "year2013['RaceEthnic'] = np.where(((year2013['RACE'] == 2) & (year2013['ETHNICITY'] == 1)), 'Asian/Pacific Islander Hispanic','x')\n",
    "year2013['RaceEthnic'] = np.where(((year2013['RACE'] == 1) & (year2013['ETHNICITY'] == 1)), 'American Indian/Eskimo/Aleut Hispanic','x')\n",
    "year2013['RaceEthnic'] = np.where(((year2013['RACE'] == 5) & (year2013['ETHNICITY'] == 1)), 'Other Race Hispanic','x')\n",
    "year2013['RaceEthnic'] = np.where(((year2013['RACE'] == 4) & (year2013['ETHNICITY'] == 2)), 'White Non-Hispanic','x')\n",
    "year2013['RaceEthnic'] = np.where(((year2013['RACE'] == 3) & (year2013['ETHNICITY'] == 2)), 'Black Non-Hispanic','x')\n",
    "year2013['RaceEthnic'] = np.where(((year2013['RACE'] == 2) & (year2013['ETHNICITY'] == 2)), 'Asian/Pacific Islander Non-Hispanic','x')\n",
    "year2013['RaceEthnic'] = np.where(((year2013['RACE'] == 1) & (year2013['ETHNICITY'] == 2)), 'American Indian/Eskimo/Aleut Non-Hispanic','x')\n",
    "year2013['RaceEthnic'] = np.where(((year2013['RACE'] == 5) & (year2013['ETHNICITY'] == 2)), 'Other Race Non-Hispanic','x')"
   ]
  },
  {
   "cell_type": "markdown",
   "metadata": {},
   "source": [
    "# Length of Stay Exploration"
   ]
  },
  {
   "cell_type": "code",
   "execution_count": 55,
   "metadata": {},
   "outputs": [
    {
     "data": {
      "text/plain": [
       "<seaborn.axisgrid.FacetGrid at 0x7f11aacffac0>"
      ]
     },
     "execution_count": 55,
     "metadata": {},
     "output_type": "execute_result"
    },
    {
     "data": {
      "image/png": "[encoded data removed]",
      "text/plain": [
       "<Figure size 488.875x360 with 1 Axes>"
      ]
     },
     "metadata": {
      "needs_background": "light"
     },
     "output_type": "display_data"
    }
   ],
   "source": [
    "# Doesn't seem super descriptive\n",
    "sns.displot(year2013.loc[year2013[\"LENGTH_OF_STAY\"]<20], x=\"LENGTH_OF_STAY\", hue = \"Preeclampsia/Eclampsia\",bins=20)"
   ]
  },
  {
   "cell_type": "code",
   "execution_count": 20,
   "metadata": {},
   "outputs": [
    {
     "data": {
      "application/pdf": "[encoded data removed]",
      "image/png": "[encoded data removed]",
      "text/plain": [
       "<Figure size 360x360 with 1 Axes>"
      ]
     },
     "metadata": {
      "needs_background": "light"
     },
     "output_type": "display_data"
    }
   ],
   "source": [
    "# Doesn't seem super descriptive\n",
    "ax = sns.displot(year2013.loc[(year2013[\"Preeclampsia/Eclampsia\"]==1) &( year2013[\"LENGTH_OF_STAY\"]<20)  ], x=\"LENGTH_OF_STAY\", bins=20, color='cornflowerblue')\n",
    "ax.set_axis_labels(\"Length of Stay\")\n",
    "plt.show()"
   ]
  },
  {
   "cell_type": "code",
   "execution_count": 23,
   "metadata": {
    "scrolled": true
   },
   "outputs": [
    {
     "data": {
      "application/pdf": "[encoded data removed]",
      "image/png": "[encoded data removed]",
      "text/plain": [
       "<Figure size 360x360 with 1 Axes>"
      ]
     },
     "metadata": {
      "needs_background": "light"
     },
     "output_type": "display_data"
    }
   ],
   "source": [
    "# Doesn't seem super descriptive\n",
    "ax = sns.displot(year2013.loc[(year2013[\"Preeclampsia/Eclampsia\"]==0) &( year2013[\"LENGTH_OF_STAY\"]<20) ], x=\"LENGTH_OF_STAY\", bins=20, color='cornflowerblue')\n",
    "ax.set_axis_labels(\"Length of Stay\")\n",
    "plt.show()"
   ]
  },
  {
   "cell_type": "code",
   "execution_count": 54,
   "metadata": {},
   "outputs": [
    {
     "data": {
      "text/html": [
       "<div>\n",
       "<style scoped>\n",
       "    .dataframe tbody tr th:only-of-type {\n",
       "        vertical-align: middle;\n",
       "    }\n",
       "\n",
       "    .dataframe tbody tr th {\n",
       "        vertical-align: top;\n",
       "    }\n",
       "\n",
       "    .dataframe thead th {\n",
       "        text-align: right;\n",
       "    }\n",
       "</style>\n",
       "<table border=\"1\" class=\"dataframe\">\n",
       "  <thead>\n",
       "    <tr style=\"text-align: right;\">\n",
       "      <th></th>\n",
       "      <th>count</th>\n",
       "      <th>mean</th>\n",
       "      <th>std</th>\n",
       "      <th>min</th>\n",
       "      <th>25%</th>\n",
       "      <th>50%</th>\n",
       "      <th>75%</th>\n",
       "      <th>max</th>\n",
       "    </tr>\n",
       "    <tr>\n",
       "      <th>RaceEthnic</th>\n",
       "      <th></th>\n",
       "      <th></th>\n",
       "      <th></th>\n",
       "      <th></th>\n",
       "      <th></th>\n",
       "      <th></th>\n",
       "      <th></th>\n",
       "      <th></th>\n",
       "    </tr>\n",
       "  </thead>\n",
       "  <tbody>\n",
       "    <tr>\n",
       "      <th>African American Hispanic</th>\n",
       "      <td>1018.0</td>\n",
       "      <td>3.166994</td>\n",
       "      <td>3.768838</td>\n",
       "      <td>1.0</td>\n",
       "      <td>2.0</td>\n",
       "      <td>3.0</td>\n",
       "      <td>3.0</td>\n",
       "      <td>62.0</td>\n",
       "    </tr>\n",
       "    <tr>\n",
       "      <th>African American Non-Hispanic</th>\n",
       "      <td>37625.0</td>\n",
       "      <td>2.840266</td>\n",
       "      <td>3.057123</td>\n",
       "      <td>1.0</td>\n",
       "      <td>2.0</td>\n",
       "      <td>2.0</td>\n",
       "      <td>3.0</td>\n",
       "      <td>113.0</td>\n",
       "    </tr>\n",
       "    <tr>\n",
       "      <th>Asian/Pacific Islander Hispanic</th>\n",
       "      <td>329.0</td>\n",
       "      <td>2.234043</td>\n",
       "      <td>0.885139</td>\n",
       "      <td>1.0</td>\n",
       "      <td>2.0</td>\n",
       "      <td>2.0</td>\n",
       "      <td>3.0</td>\n",
       "      <td>7.0</td>\n",
       "    </tr>\n",
       "    <tr>\n",
       "      <th>Asian/Pacific Islander Non-Hispanic</th>\n",
       "      <td>12387.0</td>\n",
       "      <td>2.716961</td>\n",
       "      <td>2.797626</td>\n",
       "      <td>1.0</td>\n",
       "      <td>2.0</td>\n",
       "      <td>2.0</td>\n",
       "      <td>3.0</td>\n",
       "      <td>96.0</td>\n",
       "    </tr>\n",
       "    <tr>\n",
       "      <th>Native American Hispanic</th>\n",
       "      <td>374.0</td>\n",
       "      <td>2.676471</td>\n",
       "      <td>1.907972</td>\n",
       "      <td>1.0</td>\n",
       "      <td>2.0</td>\n",
       "      <td>2.0</td>\n",
       "      <td>3.0</td>\n",
       "      <td>19.0</td>\n",
       "    </tr>\n",
       "    <tr>\n",
       "      <th>Native American Non-Hispanic</th>\n",
       "      <td>780.0</td>\n",
       "      <td>2.601282</td>\n",
       "      <td>1.567890</td>\n",
       "      <td>1.0</td>\n",
       "      <td>2.0</td>\n",
       "      <td>2.0</td>\n",
       "      <td>3.0</td>\n",
       "      <td>26.0</td>\n",
       "    </tr>\n",
       "    <tr>\n",
       "      <th>Other Race Hispanic</th>\n",
       "      <td>85041.0</td>\n",
       "      <td>2.388142</td>\n",
       "      <td>2.120406</td>\n",
       "      <td>1.0</td>\n",
       "      <td>2.0</td>\n",
       "      <td>2.0</td>\n",
       "      <td>3.0</td>\n",
       "      <td>106.0</td>\n",
       "    </tr>\n",
       "    <tr>\n",
       "      <th>Other Race Non-Hispanic</th>\n",
       "      <td>18719.0</td>\n",
       "      <td>2.451413</td>\n",
       "      <td>1.913834</td>\n",
       "      <td>1.0</td>\n",
       "      <td>2.0</td>\n",
       "      <td>2.0</td>\n",
       "      <td>3.0</td>\n",
       "      <td>61.0</td>\n",
       "    </tr>\n",
       "    <tr>\n",
       "      <th>White Hispanic</th>\n",
       "      <td>57039.0</td>\n",
       "      <td>2.237206</td>\n",
       "      <td>1.923657</td>\n",
       "      <td>1.0</td>\n",
       "      <td>2.0</td>\n",
       "      <td>2.0</td>\n",
       "      <td>3.0</td>\n",
       "      <td>95.0</td>\n",
       "    </tr>\n",
       "    <tr>\n",
       "      <th>White Non-Hispanic</th>\n",
       "      <td>129129.0</td>\n",
       "      <td>2.571978</td>\n",
       "      <td>2.930489</td>\n",
       "      <td>1.0</td>\n",
       "      <td>2.0</td>\n",
       "      <td>2.0</td>\n",
       "      <td>3.0</td>\n",
       "      <td>365.0</td>\n",
       "    </tr>\n",
       "  </tbody>\n",
       "</table>\n",
       "</div>"
      ],
      "text/plain": [
       "                                        count      mean       std  min  25%  \\\n",
       "RaceEthnic                                                                    \n",
       "African American Hispanic              1018.0  3.166994  3.768838  1.0  2.0   \n",
       "African American Non-Hispanic         37625.0  2.840266  3.057123  1.0  2.0   \n",
       "Asian/Pacific Islander Hispanic         329.0  2.234043  0.885139  1.0  2.0   \n",
       "Asian/Pacific Islander Non-Hispanic   12387.0  2.716961  2.797626  1.0  2.0   \n",
       "Native American Hispanic                374.0  2.676471  1.907972  1.0  2.0   \n",
       "Native American Non-Hispanic            780.0  2.601282  1.567890  1.0  2.0   \n",
       "Other Race Hispanic                   85041.0  2.388142  2.120406  1.0  2.0   \n",
       "Other Race Non-Hispanic               18719.0  2.451413  1.913834  1.0  2.0   \n",
       "White Hispanic                        57039.0  2.237206  1.923657  1.0  2.0   \n",
       "White Non-Hispanic                   129129.0  2.571978  2.930489  1.0  2.0   \n",
       "\n",
       "                                     50%  75%    max  \n",
       "RaceEthnic                                            \n",
       "African American Hispanic            3.0  3.0   62.0  \n",
       "African American Non-Hispanic        2.0  3.0  113.0  \n",
       "Asian/Pacific Islander Hispanic      2.0  3.0    7.0  \n",
       "Asian/Pacific Islander Non-Hispanic  2.0  3.0   96.0  \n",
       "Native American Hispanic             2.0  3.0   19.0  \n",
       "Native American Non-Hispanic         2.0  3.0   26.0  \n",
       "Other Race Hispanic                  2.0  3.0  106.0  \n",
       "Other Race Non-Hispanic              2.0  3.0   61.0  \n",
       "White Hispanic                       2.0  3.0   95.0  \n",
       "White Non-Hispanic                   2.0  3.0  365.0  "
      ]
     },
     "execution_count": 54,
     "metadata": {},
     "output_type": "execute_result"
    }
   ],
   "source": [
    "year2013.loc[(year2013[\"Preeclampsia/Eclampsia\"]==0)].groupby(['RaceEthnic'])['LENGTH_OF_STAY'].describe()"
   ]
  },
  {
   "cell_type": "code",
   "execution_count": 56,
   "metadata": {},
   "outputs": [
    {
     "data": {
      "text/html": [
       "<div>\n",
       "<style scoped>\n",
       "    .dataframe tbody tr th:only-of-type {\n",
       "        vertical-align: middle;\n",
       "    }\n",
       "\n",
       "    .dataframe tbody tr th {\n",
       "        vertical-align: top;\n",
       "    }\n",
       "\n",
       "    .dataframe thead th {\n",
       "        text-align: right;\n",
       "    }\n",
       "</style>\n",
       "<table border=\"1\" class=\"dataframe\">\n",
       "  <thead>\n",
       "    <tr style=\"text-align: right;\">\n",
       "      <th></th>\n",
       "      <th>count</th>\n",
       "      <th>mean</th>\n",
       "      <th>std</th>\n",
       "      <th>min</th>\n",
       "      <th>25%</th>\n",
       "      <th>50%</th>\n",
       "      <th>75%</th>\n",
       "      <th>max</th>\n",
       "    </tr>\n",
       "    <tr>\n",
       "      <th>RaceEthnic</th>\n",
       "      <th></th>\n",
       "      <th></th>\n",
       "      <th></th>\n",
       "      <th></th>\n",
       "      <th></th>\n",
       "      <th></th>\n",
       "      <th></th>\n",
       "      <th></th>\n",
       "    </tr>\n",
       "  </thead>\n",
       "  <tbody>\n",
       "    <tr>\n",
       "      <th>African American Hispanic</th>\n",
       "      <td>107.0</td>\n",
       "      <td>5.794393</td>\n",
       "      <td>4.807106</td>\n",
       "      <td>2.0</td>\n",
       "      <td>3.00</td>\n",
       "      <td>4.0</td>\n",
       "      <td>6.00</td>\n",
       "      <td>37.0</td>\n",
       "    </tr>\n",
       "    <tr>\n",
       "      <th>African American Non-Hispanic</th>\n",
       "      <td>2118.0</td>\n",
       "      <td>4.951841</td>\n",
       "      <td>5.975904</td>\n",
       "      <td>1.0</td>\n",
       "      <td>3.00</td>\n",
       "      <td>4.0</td>\n",
       "      <td>5.00</td>\n",
       "      <td>107.0</td>\n",
       "    </tr>\n",
       "    <tr>\n",
       "      <th>Asian/Pacific Islander Hispanic</th>\n",
       "      <td>4.0</td>\n",
       "      <td>3.500000</td>\n",
       "      <td>1.732051</td>\n",
       "      <td>2.0</td>\n",
       "      <td>2.75</td>\n",
       "      <td>3.0</td>\n",
       "      <td>3.75</td>\n",
       "      <td>6.0</td>\n",
       "    </tr>\n",
       "    <tr>\n",
       "      <th>Asian/Pacific Islander Non-Hispanic</th>\n",
       "      <td>289.0</td>\n",
       "      <td>5.010381</td>\n",
       "      <td>5.700563</td>\n",
       "      <td>1.0</td>\n",
       "      <td>3.00</td>\n",
       "      <td>3.0</td>\n",
       "      <td>5.00</td>\n",
       "      <td>58.0</td>\n",
       "    </tr>\n",
       "    <tr>\n",
       "      <th>Native American Hispanic</th>\n",
       "      <td>16.0</td>\n",
       "      <td>4.250000</td>\n",
       "      <td>3.678768</td>\n",
       "      <td>1.0</td>\n",
       "      <td>2.00</td>\n",
       "      <td>3.0</td>\n",
       "      <td>4.25</td>\n",
       "      <td>13.0</td>\n",
       "    </tr>\n",
       "    <tr>\n",
       "      <th>Native American Non-Hispanic</th>\n",
       "      <td>25.0</td>\n",
       "      <td>4.000000</td>\n",
       "      <td>3.774917</td>\n",
       "      <td>1.0</td>\n",
       "      <td>2.00</td>\n",
       "      <td>3.0</td>\n",
       "      <td>4.00</td>\n",
       "      <td>21.0</td>\n",
       "    </tr>\n",
       "    <tr>\n",
       "      <th>Other Race Hispanic</th>\n",
       "      <td>3464.0</td>\n",
       "      <td>4.139723</td>\n",
       "      <td>4.439811</td>\n",
       "      <td>1.0</td>\n",
       "      <td>2.00</td>\n",
       "      <td>3.0</td>\n",
       "      <td>4.00</td>\n",
       "      <td>93.0</td>\n",
       "    </tr>\n",
       "    <tr>\n",
       "      <th>Other Race Non-Hispanic</th>\n",
       "      <td>665.0</td>\n",
       "      <td>4.196992</td>\n",
       "      <td>3.884475</td>\n",
       "      <td>1.0</td>\n",
       "      <td>3.00</td>\n",
       "      <td>3.0</td>\n",
       "      <td>4.00</td>\n",
       "      <td>37.0</td>\n",
       "    </tr>\n",
       "    <tr>\n",
       "      <th>White Hispanic</th>\n",
       "      <td>2461.0</td>\n",
       "      <td>3.769200</td>\n",
       "      <td>2.960506</td>\n",
       "      <td>1.0</td>\n",
       "      <td>2.00</td>\n",
       "      <td>3.0</td>\n",
       "      <td>4.00</td>\n",
       "      <td>44.0</td>\n",
       "    </tr>\n",
       "    <tr>\n",
       "      <th>White Non-Hispanic</th>\n",
       "      <td>5117.0</td>\n",
       "      <td>4.559312</td>\n",
       "      <td>4.741299</td>\n",
       "      <td>1.0</td>\n",
       "      <td>3.00</td>\n",
       "      <td>3.0</td>\n",
       "      <td>5.00</td>\n",
       "      <td>105.0</td>\n",
       "    </tr>\n",
       "  </tbody>\n",
       "</table>\n",
       "</div>"
      ],
      "text/plain": [
       "                                      count      mean       std  min   25%  \\\n",
       "RaceEthnic                                                                   \n",
       "African American Hispanic             107.0  5.794393  4.807106  2.0  3.00   \n",
       "African American Non-Hispanic        2118.0  4.951841  5.975904  1.0  3.00   \n",
       "Asian/Pacific Islander Hispanic         4.0  3.500000  1.732051  2.0  2.75   \n",
       "Asian/Pacific Islander Non-Hispanic   289.0  5.010381  5.700563  1.0  3.00   \n",
       "Native American Hispanic               16.0  4.250000  3.678768  1.0  2.00   \n",
       "Native American Non-Hispanic           25.0  4.000000  3.774917  1.0  2.00   \n",
       "Other Race Hispanic                  3464.0  4.139723  4.439811  1.0  2.00   \n",
       "Other Race Non-Hispanic               665.0  4.196992  3.884475  1.0  3.00   \n",
       "White Hispanic                       2461.0  3.769200  2.960506  1.0  2.00   \n",
       "White Non-Hispanic                   5117.0  4.559312  4.741299  1.0  3.00   \n",
       "\n",
       "                                     50%   75%    max  \n",
       "RaceEthnic                                             \n",
       "African American Hispanic            4.0  6.00   37.0  \n",
       "African American Non-Hispanic        4.0  5.00  107.0  \n",
       "Asian/Pacific Islander Hispanic      3.0  3.75    6.0  \n",
       "Asian/Pacific Islander Non-Hispanic  3.0  5.00   58.0  \n",
       "Native American Hispanic             3.0  4.25   13.0  \n",
       "Native American Non-Hispanic         3.0  4.00   21.0  \n",
       "Other Race Hispanic                  3.0  4.00   93.0  \n",
       "Other Race Non-Hispanic              3.0  4.00   37.0  \n",
       "White Hispanic                       3.0  4.00   44.0  \n",
       "White Non-Hispanic                   3.0  5.00  105.0  "
      ]
     },
     "execution_count": 56,
     "metadata": {},
     "output_type": "execute_result"
    }
   ],
   "source": [
    "year2013.loc[(year2013[\"Preeclampsia/Eclampsia\"]==1)].groupby(['RaceEthnic'])['LENGTH_OF_STAY'].describe()"
   ]
  },
  {
   "cell_type": "code",
   "execution_count": 5,
   "metadata": {},
   "outputs": [
    {
     "data": {
      "text/plain": [
       "2013Q3    95992\n",
       "2013Q4    94022\n",
       "2013Q2    85768\n",
       "2013Q1    85161\n",
       "Name: DISCHARGE, dtype: int64"
      ]
     },
     "execution_count": 5,
     "metadata": {},
     "output_type": "execute_result"
    }
   ],
   "source": [
    "year2013.DISCHARGE.value_counts()"
   ]
  },
  {
   "cell_type": "code",
   "execution_count": 6,
   "metadata": {},
   "outputs": [
    {
     "data": {
      "text/plain": [
       "2013Q3    0.265948\n",
       "2013Q4    0.260490\n",
       "2013Q2    0.237622\n",
       "2013Q1    0.235940\n",
       "Name: DISCHARGE, dtype: float64"
      ]
     },
     "execution_count": 6,
     "metadata": {},
     "output_type": "execute_result"
    }
   ],
   "source": [
    "year2013.DISCHARGE.value_counts(normalize=True)"
   ]
  },
  {
   "cell_type": "markdown",
   "metadata": {},
   "source": [
    "# Racial Exploration"
   ]
  },
  {
   "cell_type": "code",
   "execution_count": 31,
   "metadata": {},
   "outputs": [
    {
     "data": {
      "text/plain": [
       "array(['Asian/Pacific Islander Non-Hispanic',\n",
       "       'African American Non-Hispanic', 'White Hispanic',\n",
       "       'White Non-Hispanic', 'Other Race Non-Hispanic',\n",
       "       'Native American Non-Hispanic', 'Other Race Hispanic', None,\n",
       "       'African American Hispanic', 'Native American Hispanic',\n",
       "       'Asian/Pacific Islander Hispanic'], dtype=object)"
      ]
     },
     "execution_count": 31,
     "metadata": {},
     "output_type": "execute_result"
    }
   ],
   "source": [
    "year2013['RaceEthnic'].unique()"
   ]
  },
  {
   "cell_type": "code",
   "execution_count": null,
   "metadata": {},
   "outputs": [],
   "source": [
    "raceOrder = ['American Indian/Eskimo/Aleut Non-Hispanic']"
   ]
  },
  {
   "cell_type": "code",
   "execution_count": 35,
   "metadata": {},
   "outputs": [
    {
     "data": {
      "text/plain": [
       "African American Hispanic                1125\n",
       "African American Non-Hispanic           39743\n",
       "Asian/Pacific Islander Hispanic           333\n",
       "Asian/Pacific Islander Non-Hispanic     12676\n",
       "Native American Hispanic                  390\n",
       "Native American Non-Hispanic              805\n",
       "Other Race Hispanic                     88505\n",
       "Other Race Non-Hispanic                 19384\n",
       "White Hispanic                          59500\n",
       "White Non-Hispanic                     134246\n",
       "Name: RaceEthnic, dtype: int64"
      ]
     },
     "execution_count": 35,
     "metadata": {},
     "output_type": "execute_result"
    }
   ],
   "source": [
    "year2013.RaceEthnic.value_counts().sort_index()"
   ]
  },
  {
   "cell_type": "code",
   "execution_count": null,
   "metadata": {},
   "outputs": [],
   "source": [
    "#order = \n",
    "sns.catplot(data=year2013, y='RaceEthnic',kind='count', color='cornflowerblue', order=year2013.RaceEthnic.sort_index())"
   ]
  },
  {
   "cell_type": "code",
   "execution_count": 1,
   "metadata": {},
   "outputs": [
    {
     "ename": "NameError",
     "evalue": "name 'year2013' is not defined",
     "output_type": "error",
     "traceback": [
      "\u001b[0;31m---------------------------------------------------------------------------\u001b[0m",
      "\u001b[0;31mNameError\u001b[0m                                 Traceback (most recent call last)",
      "\u001b[0;32m<ipython-input-1-cc0f01399064>\u001b[0m in \u001b[0;36m<module>\u001b[0;34m\u001b[0m\n\u001b[0;32m----> 1\u001b[0;31m \u001b[0myear2013\u001b[0m\u001b[0;34m[\u001b[0m\u001b[0;34m'RaceEthnic'\u001b[0m\u001b[0;34m]\u001b[0m\u001b[0;34m.\u001b[0m\u001b[0mvalue_counts\u001b[0m\u001b[0;34m(\u001b[0m\u001b[0mdropna\u001b[0m\u001b[0;34m=\u001b[0m\u001b[0;32mTrue\u001b[0m\u001b[0;34m)\u001b[0m\u001b[0;34m.\u001b[0m\u001b[0mindex\u001b[0m\u001b[0;34m\u001b[0m\u001b[0;34m\u001b[0m\u001b[0m\n\u001b[0m",
      "\u001b[0;31mNameError\u001b[0m: name 'year2013' is not defined"
     ]
    }
   ],
   "source": [
    "year2013['RaceEthnic'].value_counts(dropna=True).index"
   ]
  },
  {
   "cell_type": "code",
   "execution_count": 15,
   "metadata": {},
   "outputs": [
    {
     "data": {
      "text/plain": [
       "0"
      ]
     },
     "execution_count": 15,
     "metadata": {},
     "output_type": "execute_result"
    }
   ],
   "source": [
    "year2013['RaceEthnic'].isnull().sum()"
   ]
  },
  {
   "cell_type": "code",
   "execution_count": 6,
   "metadata": {},
   "outputs": [
    {
     "data": {
      "image/png": "[encoded data removed]",
      "text/plain": [
       "<Figure size 432x288 with 1 Axes>"
      ]
     },
     "metadata": {
      "needs_background": "light"
     },
     "output_type": "display_data"
    }
   ],
   "source": [
    "sns.set_palette(\"Blues\")\n",
    "Insurance = (year2013.groupby('RaceEthnic')['Preeclampsia/Eclampsia'].sum())/year2013.RaceEthnic.value_counts()*100\n",
    "ax = sns.barplot(x=Insurance[:-1].values, y=Insurance[:-1].index, palette='Blues_r')\n",
    "ax.set(xlabel='Preeclampsia (%)',ylabel='Race/Ethnicity')\n",
    "plt.savefig('RacePreeclampsiaTexas.png', dpi=400, bbox_inches = \"tight\")"
   ]
  },
  {
   "cell_type": "code",
   "execution_count": 13,
   "metadata": {},
   "outputs": [
    {
     "data": {
      "application/pdf": "[encoded data removed]",
      "image/png": "[encoded data removed]",
      "text/plain": [
       "<Figure size 432x288 with 1 Axes>"
      ]
     },
     "metadata": {
      "needs_background": "light"
     },
     "output_type": "display_data"
    }
   ],
   "source": [
    "sns.set_palette(\"Blues\")\n",
    "Insurance = (year2013.groupby('RaceEthnic')['Preeclampsia/Eclampsia'].sum())/year2013.RaceEthnic.value_counts()*100\n",
    "ax = sns.barplot(x=Insurance[:].values, y=Insurance[:].index, color='cornflowerblue')\n",
    "ax.set(xlabel='Preeclampsia (%)',ylabel='Race/Ethnicity')\n",
    "plt.savefig('RacePreeclampsiaTexas.pdf', dpi=400, bbox_inches = \"tight\")"
   ]
  },
  {
   "cell_type": "code",
   "execution_count": 26,
   "metadata": {},
   "outputs": [
    {
     "name": "stderr",
     "output_type": "stream",
     "text": [
      "findfont: Font family ['times'] not found. Falling back to DejaVu Sans.\n"
     ]
    },
    {
     "data": {
      "application/pdf": "[encoded data removed]",
      "image/png": "[encoded data removed]",
      "text/plain": [
       "<Figure size 432x288 with 1 Axes>"
      ]
     },
     "metadata": {
      "needs_background": "light"
     },
     "output_type": "display_data"
    }
   ],
   "source": [
    "raceCounts = year2013['RaceEthnic'].value_counts().sort_index()\n",
    "ax =sns.barplot(x=raceCounts.values, y=raceCounts.index, color='cornflowerblue')\n",
    "ax.set(xlabel='Count',ylabel='Race/Ethnicity')\n",
    "plt.savefig('RaceCountTexas.pdf', dpi=400, bbox_inches = \"tight\")"
   ]
  },
  {
   "cell_type": "code",
   "execution_count": null,
   "metadata": {},
   "outputs": [],
   "source": [
    "ageGroup = (data.groupby('Age')['Preeclampsia/Eclampsia'].sum())/data.Age.value_counts()*100"
   ]
  },
  {
   "cell_type": "code",
   "execution_count": 14,
   "metadata": {},
   "outputs": [
    {
     "data": {
      "text/plain": [
       "RECORD_ID                                                                                                       1201302665791201302660101201302663081201302665...\n",
       "DISCHARGE                                                                                                       2013Q12013Q12013Q12013Q12013Q12013Q12013Q12013...\n",
       "SEX_CODE                                                                                                        FFFFFFFFFFFFFFFFFFFFFFFFFFFFFFFFFFFFFFFFFFFFFF...\n",
       "LENGTH_OF_STAY                                                                                                                                           928822.0\n",
       "PAT_AGE                                                                                                         30-3430-3430-3425-2925-2925-2920-2425-2945-492...\n",
       "On Border                                                                                                                                                 44989.0\n",
       "Medicaid                                                                                                                                                   185010\n",
       "Medicare                                                                                                                                                     2543\n",
       "Self-pay or Charity                                                                                                                                         31903\n",
       "Other Insurance                                                                                                                                            176312\n",
       "Obesity                                                                                                                                                     19208\n",
       "Pregnancy resulting from assisted reproductive technology                                                                                                     615\n",
       "Cocaine dependence                                                                                                                                              0\n",
       "Amphetamine dependence                                                                                                                                          0\n",
       "Gestational diabetes mellitus                                                                                                                               21658\n",
       "Pre-existing diabetes mellitus                                                                                                                               4065\n",
       "Anxiety                                                                                                                                                      2709\n",
       "Anemia NOS                                                                                                                                                  29280\n",
       "Iron deficiency anemia                                                                                                                                       3937\n",
       "Other anemia                                                                                                                                                   94\n",
       "Depression                                                                                                                                                   3157\n",
       "Primigravidas at the extremes of maternal age                                                                                                                4969\n",
       "Hemorrhagic disorders due to intrinsic circulating antibodies                                                                                                   6\n",
       "Systemic lupus erythematosus                                                                                                                                  366\n",
       "Lupus erythematosus                                                                                                                                            20\n",
       "Autoimmune disease not elsewhere classified                                                                                                                    18\n",
       "Pure hypercholesterolemia                                                                                                                                     108\n",
       "Unspecified vitamin D deficiency                                                                                                                              227\n",
       "Proteinuria                                                                                                                                                    21\n",
       "Tobacco use disorder                                                                                                                                         6140\n",
       "History of tobacco use                                                                                                                                       3226\n",
       "Hypertension                                                                                                                                                 2424\n",
       "Hypertensive heart disease                                                                                                                                     16\n",
       "Chronic venous hypertension                                                                                                                                     1\n",
       "Unspecified renal disease in pregnancy without mention of hypertension                                                                                        644\n",
       "Chronic kidney disease                                                                                                                                        173\n",
       "Hypertensive kidney disease                                                                                                                                    96\n",
       "Hypertensive heart and chronic kidney disease                                                                                                                   6\n",
       "Renal failure not elsewhere classified                                                                                                                          6\n",
       "Infections of genitourinary tract in pregnancy                                                                                                               3299\n",
       "UTI                                                                                                                                                          1838\n",
       "Personal history of trophoblastic disease                                                                                                                       0\n",
       "Supervision of high-risk pregnancy with history of trophoblastic disease                                                                                       28\n",
       "Thrombophilia                                                                                                                                                1073\n",
       "History of premature delivery                                                                                                                                 180\n",
       "Hemorrhage in early pregnancy                                                                                                                                 216\n",
       "Congenital abnormalities of the uterus including those complicating pregnancy, childbirth, or the puerperium                                                 1184\n",
       "Multiple Gestations                                                                                                                                          5871\n",
       "Fetal Growth Restriction                                                                                                                                        3\n",
       "Asthma                                                                                                                                                       7124\n",
       "Obstructive Sleep Apnea                                                                                                                                       106\n",
       "Other cardiovascular diseases complicating pregnancy and childbirth or the puerperium                                                                        1372\n",
       "Sickle cell disease                                                                                                                                            75\n",
       "Thyroid Disease                                                                                                                                              8880\n",
       "Inadequate Prenatal Care                                                                                                                                     8959\n",
       "Periodontal disease                                                                                                                                            35\n",
       "Preeclampsia/Eclampsia                                                                                                                                      14375\n",
       "HELLP                                                                                                                                                        7377\n",
       "Stroke                                                                                                                                                        101\n",
       "Renal Disease                                                                                                                                                 930\n",
       "Pulmonary Edema                                                                                                                                                38\n",
       "Acute Heart Failure                                                                                                                                           101\n",
       "Eclampsia                                                                                                                                                    9043\n",
       "Diabetes                                                                                                                                                    25670\n",
       "RaceEthnic                                                                                                      Asian/Pacific Islander Non-HispanicAsian/Pacif...\n",
       "dtype: object"
      ]
     },
     "execution_count": 14,
     "metadata": {},
     "output_type": "execute_result"
    }
   ],
   "source": [
    "year2013.sum()/len"
   ]
  },
  {
   "cell_type": "code",
   "execution_count": 11,
   "metadata": {},
   "outputs": [
    {
     "data": {
      "text/plain": [
       "2013Q3    95992\n",
       "2013Q4    94022\n",
       "2013Q2    85768\n",
       "2013Q1    85161\n",
       "Name: DISCHARGE, dtype: int64"
      ]
     },
     "execution_count": 11,
     "metadata": {},
     "output_type": "execute_result"
    }
   ],
   "source": [
    "year2013['DISCHARGE'].value_counts()"
   ]
  },
  {
   "cell_type": "code",
   "execution_count": 16,
   "metadata": {},
   "outputs": [
    {
     "data": {
      "text/plain": [
       "26.04898834442003"
      ]
     },
     "execution_count": 16,
     "metadata": {},
     "output_type": "execute_result"
    }
   ],
   "source": [
    "94022/len(year2013)*100"
   ]
  },
  {
   "cell_type": "code",
   "execution_count": 11,
   "metadata": {},
   "outputs": [
    {
     "data": {
      "image/png": "[encoded data removed]",
      "text/plain": [
       "<Figure size 432x288 with 1 Axes>"
      ]
     },
     "metadata": {
      "needs_background": "light"
     },
     "output_type": "display_data"
    }
   ],
   "source": [
    "sns.set_palette(\"Blues_r\")\n",
    "Obesity = (year2013.groupby('Obesity')['Preeclampsia/Eclampsia'].sum())/year2013.Obesity.value_counts()*100\n",
    "ax = sns.barplot(x=Obesity.index, y=Obesity.values, color='cornflowerblue')\n",
    "ax.set(xlabel ='Patient Status',ylabel='Preeclampsia (%)')\n",
    "ax.set_xticklabels(['Non-Obese','Obese'])\n",
    "plt.savefig('ObesityPreeclampsiaTexas.png', dpi=400, bbox_inches = \"tight\")"
   ]
  },
  {
   "cell_type": "code",
   "execution_count": 18,
   "metadata": {},
   "outputs": [
    {
     "data": {
      "image/png": "[encoded data removed]",
      "text/plain": [
       "<Figure size 432x288 with 1 Axes>"
      ]
     },
     "metadata": {
      "needs_background": "light"
     },
     "output_type": "display_data"
    }
   ],
   "source": [
    "sns.set_palette(\"Blues_r\")\n",
    "Diabetes = (year2013.groupby('Diabetes')['Preeclampsia/Eclampsia'].sum())/year2013.Diabetes.value_counts()*100\n",
    "ax = sns.barplot(x=Diabetes.index, y=Diabetes.values, color='cornflowerblue')\n",
    "ax.set(xlabel ='Patient Status',ylabel='Preeclampsia (%)')\n",
    "ax.set_xticklabels(['Non-diabetic','Diabetic'])\n",
    "plt.savefig('DiabetesPreeclampsiaTexas.png', dpi=400, bbox_inches = \"tight\")"
   ]
  },
  {
   "cell_type": "code",
   "execution_count": 62,
   "metadata": {},
   "outputs": [
    {
     "data": {
      "text/plain": [
       "RaceEthnic\n",
       "American Indian/Eskimo/Aleut Hispanic          16\n",
       "American Indian/Eskimo/Aleut Non-Hispanic      25\n",
       "Asian/Pacific Islander Hispanic                 4\n",
       "Asian/Pacific Islander Non-Hispanic           289\n",
       "Black Hispanic                                107\n",
       "Black Non-Hispanic                           2118\n",
       "Other Race Hispanic                          3464\n",
       "Other Race Non-Hispanic                       665\n",
       "White Hispanic                               2461\n",
       "White Non-Hispanic                           5117\n",
       "nan                                           109\n",
       "Name: Preeclampsia/Eclampsia, dtype: int64"
      ]
     },
     "execution_count": 62,
     "metadata": {},
     "output_type": "execute_result"
    }
   ],
   "source": [
    "year2013.groupby('RaceEthnic')['Preeclampsia/Eclampsia'].sum()"
   ]
  },
  {
   "cell_type": "code",
   "execution_count": 67,
   "metadata": {},
   "outputs": [
    {
     "data": {
      "text/plain": [
       "American Indian/Eskimo/Aleut Hispanic        4.102564\n",
       "American Indian/Eskimo/Aleut Non-Hispanic    3.105590\n",
       "Asian/Pacific Islander Hispanic              1.201201\n",
       "Asian/Pacific Islander Non-Hispanic          2.279899\n",
       "Black Hispanic                               9.511111\n",
       "Black Non-Hispanic                           5.329240\n",
       "Other Race Hispanic                          3.913903\n",
       "Other Race Non-Hispanic                      3.430664\n",
       "White Hispanic                               4.136134\n",
       "White Non-Hispanic                           3.811659\n",
       "dtype: float64"
      ]
     },
     "execution_count": 67,
     "metadata": {},
     "output_type": "execute_result"
    }
   ],
   "source": [
    "Insurance[:-1]"
   ]
  },
  {
   "cell_type": "code",
   "execution_count": null,
   "metadata": {},
   "outputs": [],
   "source": [
    "ok2017['Medicaid'] = np.where(ok2017['Insurance'] == 3, 1,\n",
    "                              ok2017['Medicaid'])"
   ]
  },
  {
   "cell_type": "code",
   "execution_count": null,
   "metadata": {},
   "outputs": [],
   "source": [
    "year2013['RaceEthnic'] = np.where([year2013['RACE'] == 'White' "
   ]
  },
  {
   "cell_type": "code",
   "execution_count": 6,
   "metadata": {},
   "outputs": [
    {
     "data": {
      "text/plain": [
       "RECORD_ID                                                                                                          0\n",
       "DISCHARGE                                                                                                          0\n",
       "SOURCE_OF_ADMISSION                                                                                              147\n",
       "PAT_STATE                                                                                                        225\n",
       "COUNTY                                                                                                          9018\n",
       "PAT_STATUS                                                                                                       251\n",
       "SEX_CODE                                                                                                           0\n",
       "RACE                                                                                                             878\n",
       "ETHNICITY                                                                                                       3418\n",
       "LENGTH_OF_STAY                                                                                                     0\n",
       "PAT_AGE                                                                                                            0\n",
       "On Border                                                                                                       9018\n",
       "Medicaid                                                                                                           0\n",
       "Medicare                                                                                                           0\n",
       "Self-pay or Charity                                                                                                0\n",
       "Other Insurance                                                                                                    0\n",
       "Obesity                                                                                                            0\n",
       "Pregnancy resulting from assisted reproductive technology                                                          0\n",
       "Cocaine dependence                                                                                                 0\n",
       "Amphetamine dependence                                                                                             0\n",
       "Gestational diabetes mellitus                                                                                      0\n",
       "Pre-existing diabetes mellitus                                                                                     0\n",
       "Anxiety                                                                                                            0\n",
       "Anemia NOS                                                                                                         0\n",
       "Iron deficiency anemia                                                                                             0\n",
       "Other anemia                                                                                                       0\n",
       "Depression                                                                                                         0\n",
       "Primigravidas at the extremes of maternal age                                                                      0\n",
       "Hemorrhagic disorders due to intrinsic circulating antibodies                                                      0\n",
       "Systemic lupus erythematosus                                                                                       0\n",
       "Lupus erythematosus                                                                                                0\n",
       "Autoimmune disease not elsewhere classified                                                                        0\n",
       "Pure hypercholesterolemia                                                                                          0\n",
       "Unspecified vitamin D deficiency                                                                                   0\n",
       "Proteinuria                                                                                                        0\n",
       "Tobacco use disorder                                                                                               0\n",
       "History of tobacco use                                                                                             0\n",
       "Hypertension                                                                                                       0\n",
       "Hypertensive heart disease                                                                                         0\n",
       "Chronic venous hypertension                                                                                        0\n",
       "Unspecified renal disease in pregnancy without mention of hypertension                                             0\n",
       "Chronic kidney disease                                                                                             0\n",
       "Hypertensive kidney disease                                                                                        0\n",
       "Hypertensive heart and chronic kidney disease                                                                      0\n",
       "Renal failure not elsewhere classified                                                                             0\n",
       "Infections of genitourinary tract in pregnancy                                                                     0\n",
       "UTI                                                                                                                0\n",
       "Personal history of trophoblastic disease                                                                          0\n",
       "Supervision of high-risk pregnancy with history of trophoblastic disease                                           0\n",
       "Thrombophilia                                                                                                      0\n",
       "History of premature delivery                                                                                      0\n",
       "Hemorrhage in early pregnancy                                                                                      0\n",
       "Congenital abnormalities of the uterus including those complicating pregnancy, childbirth, or the puerperium       0\n",
       "Multiple Gestations                                                                                                0\n",
       "Fetal Growth Restriction                                                                                           0\n",
       "Asthma                                                                                                             0\n",
       "Obstructive Sleep Apnea                                                                                            0\n",
       "Other cardiovascular diseases complicating pregnancy and childbirth or the puerperium                              0\n",
       "Sickle cell disease                                                                                                0\n",
       "Thyroid Disease                                                                                                    0\n",
       "Inadequate Prenatal Care                                                                                           0\n",
       "Periodontal disease                                                                                                0\n",
       "Preeclampsia/Eclampsia                                                                                             0\n",
       "HELLP                                                                                                              0\n",
       "Stroke                                                                                                             0\n",
       "Renal Disease                                                                                                      0\n",
       "Pulmonary Edema                                                                                                    0\n",
       "Acute Heart Failure                                                                                                0\n",
       "Eclampsia                                                                                                          0\n",
       "dtype: int64"
      ]
     },
     "execution_count": 6,
     "metadata": {},
     "output_type": "execute_result"
    }
   ],
   "source": [
    "year2013.isnull().sum()"
   ]
  },
  {
   "cell_type": "code",
   "execution_count": 6,
   "metadata": {
    "scrolled": true
   },
   "outputs": [
    {
     "data": {
      "text/plain": [
       "10-14     6.732673\n",
       "15-19     4.896013\n",
       "20-24     3.683986\n",
       "25-29     3.498205\n",
       "30-34     3.690634\n",
       "35-39     4.989680\n",
       "40-44     6.900966\n",
       "45-49    10.330579\n",
       "50-54     5.000000\n",
       "dtype: float64"
      ]
     },
     "execution_count": 6,
     "metadata": {},
     "output_type": "execute_result"
    }
   ],
   "source": [
    "ageGroup"
   ]
  },
  {
   "cell_type": "code",
   "execution_count": 11,
   "metadata": {},
   "outputs": [
    {
     "data": {
      "application/pdf": "[encoded data removed]",
      "image/png": "[encoded data removed]",
      "text/plain": [
       "<Figure size 432x288 with 1 Axes>"
      ]
     },
     "metadata": {
      "needs_background": "light"
     },
     "output_type": "display_data"
    }
   ],
   "source": [
    "ageGroup = (year2013.groupby('PAT_AGE')['Preeclampsia/Eclampsia'].sum())/year2013.PAT_AGE.value_counts()*100\n",
    "#category_order = ['10-14', '15-19', '20-24', '25-29', '30-34','35-39','40-44','45-49','50-54']\n",
    "ax = sns.barplot(x=ageGroup.index, y=ageGroup.values,color='cornflowerblue')\n",
    "ax.set(xlabel='Age',ylabel='Preeclampsia (%)')\n",
    "plt.savefig('agemapTexas.pdf', dpi=400, bbox_inches = \"tight\")"
   ]
  },
  {
   "cell_type": "code",
   "execution_count": 12,
   "metadata": {},
   "outputs": [
    {
     "data": {
      "application/pdf": "[encoded data removed]",
      "image/png": "[encoded data removed]",
      "text/plain": [
       "<Figure size 360x360 with 1 Axes>"
      ]
     },
     "metadata": {
      "needs_background": "light"
     },
     "output_type": "display_data"
    }
   ],
   "source": [
    "ageOrder = ['10-14', '15-19', '20-24', '25-29', '30-34','35-39','40-44','45-49','50-54']\n",
    "ax = sns.catplot(data=year2013, x='PAT_AGE', kind='count', order=ageOrder, color='cornflowerblue')\n",
    "ax.set(xlabel='Age',ylabel='Frequency')\n",
    "plt.savefig('ageCountTexas.pdf', dpi=400, bbox_inches = \"tight\")"
   ]
  },
  {
   "cell_type": "code",
   "execution_count": 13,
   "metadata": {},
   "outputs": [
    {
     "data": {
      "image/png": "[encoded data removed]",
      "text/plain": [
       "<Figure size 432x288 with 1 Axes>"
      ]
     },
     "metadata": {
      "needs_background": "light"
     },
     "output_type": "display_data"
    }
   ],
   "source": [
    "Race = (year2013.groupby('RACE')['Preeclampsia/Eclampsia'].sum())/year2013.RACE.value_counts()*100\n",
    "ax = sns.barplot(x=Race.index, y=Race.values)\n",
    "ax.set(xlabel='Race',ylabel='Percent with Preeclampsia')\n",
    "plt.savefig('RacePreeclampsiaTexas.png', dpi=400, bbox_inches = \"tight\")"
   ]
  },
  {
   "cell_type": "code",
   "execution_count": 7,
   "metadata": {},
   "outputs": [
    {
     "data": {
      "text/plain": [
       "White                        195149\n",
       "Other Race                   109395\n",
       "Black                         41168\n",
       "Asian or Pacific Islander     13139\n",
       "Native American                1214\n",
       "Name: RACE, dtype: int64"
      ]
     },
     "execution_count": 7,
     "metadata": {},
     "output_type": "execute_result"
    }
   ],
   "source": [
    "year2013.RACE.value_counts()"
   ]
  },
  {
   "cell_type": "code",
   "execution_count": 207,
   "metadata": {},
   "outputs": [],
   "source": [
    "missing = year2013.iloc[:,1:15].isnull().sum()"
   ]
  },
  {
   "cell_type": "code",
   "execution_count": 210,
   "metadata": {},
   "outputs": [
    {
     "data": {
      "text/plain": [
       "DISCHARGE                  0\n",
       "SOURCE_OF_ADMISSION     2678\n",
       "PAT_STATE               1080\n",
       "COUNTY                 97583\n",
       "PAT_STATUS             14880\n",
       "SEX_CODE                   0\n",
       "RACE                   10847\n",
       "ETHNICITY              32433\n",
       "LENGTH_OF_STAY           804\n",
       "PAT_AGE                    2\n",
       "Medicaid                   0\n",
       "Medicare                   0\n",
       "Self-pay or Charity        0\n",
       "Other Insurance            0\n",
       "dtype: int64"
      ]
     },
     "execution_count": 210,
     "metadata": {},
     "output_type": "execute_result"
    }
   ],
   "source": [
    "missing"
   ]
  },
  {
   "cell_type": "code",
   "execution_count": 208,
   "metadata": {},
   "outputs": [
    {
     "data": {
      "text/plain": [
       "DISCHARGE              0.000000\n",
       "SOURCE_OF_ADMISSION    0.092019\n",
       "PAT_STATE              0.037110\n",
       "COUNTY                 3.353065\n",
       "PAT_STATUS             0.511294\n",
       "SEX_CODE               0.000000\n",
       "RACE                   0.372715\n",
       "ETHNICITY              1.114435\n",
       "LENGTH_OF_STAY         0.027626\n",
       "PAT_AGE                0.000069\n",
       "Medicaid               0.000000\n",
       "Medicare               0.000000\n",
       "Self-pay or Charity    0.000000\n",
       "Other Insurance        0.000000\n",
       "dtype: float64"
      ]
     },
     "execution_count": 208,
     "metadata": {},
     "output_type": "execute_result"
    }
   ],
   "source": [
    "missing/len(year2013)*100"
   ]
  },
  {
   "cell_type": "code",
   "execution_count": 30,
   "metadata": {},
   "outputs": [
    {
     "data": {
      "text/html": [
       "<div>\n",
       "<style scoped>\n",
       "    .dataframe tbody tr th:only-of-type {\n",
       "        vertical-align: middle;\n",
       "    }\n",
       "\n",
       "    .dataframe tbody tr th {\n",
       "        vertical-align: top;\n",
       "    }\n",
       "\n",
       "    .dataframe thead th {\n",
       "        text-align: right;\n",
       "    }\n",
       "</style>\n",
       "<table border=\"1\" class=\"dataframe\">\n",
       "  <thead>\n",
       "    <tr style=\"text-align: right;\">\n",
       "      <th></th>\n",
       "      <th></th>\n",
       "      <th>Preeclampsia/Eclampsia</th>\n",
       "    </tr>\n",
       "    <tr>\n",
       "      <th>RACE</th>\n",
       "      <th>ETHNICITY</th>\n",
       "      <th></th>\n",
       "    </tr>\n",
       "  </thead>\n",
       "  <tbody>\n",
       "    <tr>\n",
       "      <th rowspan=\"2\" valign=\"top\">Asian or Pacific Islander</th>\n",
       "      <th>1</th>\n",
       "      <td>4</td>\n",
       "    </tr>\n",
       "    <tr>\n",
       "      <th>2</th>\n",
       "      <td>289</td>\n",
       "    </tr>\n",
       "    <tr>\n",
       "      <th rowspan=\"2\" valign=\"top\">Black</th>\n",
       "      <th>1</th>\n",
       "      <td>107</td>\n",
       "    </tr>\n",
       "    <tr>\n",
       "      <th>2</th>\n",
       "      <td>2118</td>\n",
       "    </tr>\n",
       "    <tr>\n",
       "      <th rowspan=\"2\" valign=\"top\">Native American</th>\n",
       "      <th>1</th>\n",
       "      <td>16</td>\n",
       "    </tr>\n",
       "    <tr>\n",
       "      <th>2</th>\n",
       "      <td>25</td>\n",
       "    </tr>\n",
       "    <tr>\n",
       "      <th rowspan=\"2\" valign=\"top\">Other Race</th>\n",
       "      <th>1</th>\n",
       "      <td>3464</td>\n",
       "    </tr>\n",
       "    <tr>\n",
       "      <th>2</th>\n",
       "      <td>665</td>\n",
       "    </tr>\n",
       "    <tr>\n",
       "      <th rowspan=\"2\" valign=\"top\">White</th>\n",
       "      <th>1</th>\n",
       "      <td>2461</td>\n",
       "    </tr>\n",
       "    <tr>\n",
       "      <th>2</th>\n",
       "      <td>5117</td>\n",
       "    </tr>\n",
       "  </tbody>\n",
       "</table>\n",
       "</div>"
      ],
      "text/plain": [
       "                                     Preeclampsia/Eclampsia\n",
       "RACE                      ETHNICITY                        \n",
       "Asian or Pacific Islander 1                               4\n",
       "                          2                             289\n",
       "Black                     1                             107\n",
       "                          2                            2118\n",
       "Native American           1                              16\n",
       "                          2                              25\n",
       "Other Race                1                            3464\n",
       "                          2                             665\n",
       "White                     1                            2461\n",
       "                          2                            5117"
      ]
     },
     "execution_count": 30,
     "metadata": {},
     "output_type": "execute_result"
    }
   ],
   "source": [
    "year2013.groupby(['RACE', 'ETHNICITY'])[['Preeclampsia/Eclampsia']].sum()"
   ]
  },
  {
   "cell_type": "code",
   "execution_count": 28,
   "metadata": {},
   "outputs": [
    {
     "data": {
      "text/plain": [
       "RACE                       ETHNICITY\n",
       "White                      2            134246\n",
       "Other Race                 1             88505\n",
       "White                      1             59500\n",
       "Black                      2             39743\n",
       "Other Race                 2             19384\n",
       "Asian or Pacific Islander  2             12676\n",
       "Black                      1              1125\n",
       "Native American            2               805\n",
       "                           1               390\n",
       "Asian or Pacific Islander  1               333\n",
       "dtype: int64"
      ]
     },
     "execution_count": 28,
     "metadata": {},
     "output_type": "execute_result"
    }
   ],
   "source": [
    "year2013.value_counts(['RACE','ETHNICITY'])"
   ]
  },
  {
   "cell_type": "code",
   "execution_count": 190,
   "metadata": {},
   "outputs": [
    {
     "data": {
      "text/plain": [
       "Preeclampsia/Eclampsia    14375\n",
       "dtype: int64"
      ]
     },
     "execution_count": 190,
     "metadata": {},
     "output_type": "execute_result"
    }
   ],
   "source": [
    "year2013[['Preeclampsia/Eclampsia']].sum()"
   ]
  },
  {
   "cell_type": "code",
   "execution_count": 6,
   "metadata": {},
   "outputs": [
    {
     "data": {
      "text/plain": [
       "3.9826232950909146"
      ]
     },
     "execution_count": 6,
     "metadata": {},
     "output_type": "execute_result"
    }
   ],
   "source": [
    "14375/len(year2013)*100"
   ]
  },
  {
   "cell_type": "code",
   "execution_count": 194,
   "metadata": {},
   "outputs": [
    {
     "data": {
      "text/plain": [
       "346567"
      ]
     },
     "execution_count": 194,
     "metadata": {},
     "output_type": "execute_result"
    }
   ],
   "source": [
    "len(year2013)-14376"
   ]
  },
  {
   "cell_type": "code",
   "execution_count": 162,
   "metadata": {},
   "outputs": [
    {
     "data": {
      "text/plain": [
       "RACE                       ETHNICITY\n",
       "Asian or Pacific Islander  1             0\n",
       "                           2             0\n",
       "Black                      1             0\n",
       "                           2             4\n",
       "Native American            1             0\n",
       "                           2             0\n",
       "Other Race                 1             3\n",
       "                           2             0\n",
       "White                      1             2\n",
       "                           2            10\n",
       "Name: 20, dtype: int64"
      ]
     },
     "execution_count": 162,
     "metadata": {},
     "output_type": "execute_result"
    }
   ],
   "source": [
    "year2013.groupby(['RACE', 'ETHNICITY'])['PAT_STATUS'].value_counts().unstack(fill_value=0)['20']"
   ]
  },
  {
   "cell_type": "code",
   "execution_count": 160,
   "metadata": {},
   "outputs": [
    {
     "data": {
      "text/html": [
       "<div>\n",
       "<style scoped>\n",
       "    .dataframe tbody tr th:only-of-type {\n",
       "        vertical-align: middle;\n",
       "    }\n",
       "\n",
       "    .dataframe tbody tr th {\n",
       "        vertical-align: top;\n",
       "    }\n",
       "\n",
       "    .dataframe thead th {\n",
       "        text-align: right;\n",
       "    }\n",
       "</style>\n",
       "<table border=\"1\" class=\"dataframe\">\n",
       "  <thead>\n",
       "    <tr style=\"text-align: right;\">\n",
       "      <th></th>\n",
       "      <th>PAT_STATUS</th>\n",
       "      <th>01</th>\n",
       "      <th>02</th>\n",
       "      <th>03</th>\n",
       "      <th>05</th>\n",
       "      <th>06</th>\n",
       "      <th>07</th>\n",
       "      <th>09</th>\n",
       "      <th>20</th>\n",
       "      <th>30</th>\n",
       "      <th>43</th>\n",
       "      <th>50</th>\n",
       "      <th>51</th>\n",
       "      <th>61</th>\n",
       "      <th>62</th>\n",
       "      <th>63</th>\n",
       "      <th>65</th>\n",
       "      <th>66</th>\n",
       "    </tr>\n",
       "    <tr>\n",
       "      <th>RACE</th>\n",
       "      <th>ETHNICITY</th>\n",
       "      <th></th>\n",
       "      <th></th>\n",
       "      <th></th>\n",
       "      <th></th>\n",
       "      <th></th>\n",
       "      <th></th>\n",
       "      <th></th>\n",
       "      <th></th>\n",
       "      <th></th>\n",
       "      <th></th>\n",
       "      <th></th>\n",
       "      <th></th>\n",
       "      <th></th>\n",
       "      <th></th>\n",
       "      <th></th>\n",
       "      <th></th>\n",
       "      <th></th>\n",
       "    </tr>\n",
       "  </thead>\n",
       "  <tbody>\n",
       "    <tr>\n",
       "      <th rowspan=\"2\" valign=\"top\">Asian or Pacific Islander</th>\n",
       "      <th>1</th>\n",
       "      <td>333</td>\n",
       "      <td>0</td>\n",
       "      <td>0</td>\n",
       "      <td>0</td>\n",
       "      <td>0</td>\n",
       "      <td>0</td>\n",
       "      <td>0</td>\n",
       "      <td>0</td>\n",
       "      <td>0</td>\n",
       "      <td>0</td>\n",
       "      <td>0</td>\n",
       "      <td>0</td>\n",
       "      <td>0</td>\n",
       "      <td>0</td>\n",
       "      <td>0</td>\n",
       "      <td>0</td>\n",
       "      <td>0</td>\n",
       "    </tr>\n",
       "    <tr>\n",
       "      <th>2</th>\n",
       "      <td>12666</td>\n",
       "      <td>2</td>\n",
       "      <td>0</td>\n",
       "      <td>0</td>\n",
       "      <td>2</td>\n",
       "      <td>1</td>\n",
       "      <td>1</td>\n",
       "      <td>0</td>\n",
       "      <td>0</td>\n",
       "      <td>0</td>\n",
       "      <td>0</td>\n",
       "      <td>0</td>\n",
       "      <td>0</td>\n",
       "      <td>1</td>\n",
       "      <td>1</td>\n",
       "      <td>0</td>\n",
       "      <td>0</td>\n",
       "    </tr>\n",
       "    <tr>\n",
       "      <th rowspan=\"2\" valign=\"top\">Black</th>\n",
       "      <th>1</th>\n",
       "      <td>1117</td>\n",
       "      <td>0</td>\n",
       "      <td>0</td>\n",
       "      <td>0</td>\n",
       "      <td>0</td>\n",
       "      <td>6</td>\n",
       "      <td>0</td>\n",
       "      <td>0</td>\n",
       "      <td>0</td>\n",
       "      <td>0</td>\n",
       "      <td>0</td>\n",
       "      <td>0</td>\n",
       "      <td>0</td>\n",
       "      <td>0</td>\n",
       "      <td>0</td>\n",
       "      <td>0</td>\n",
       "      <td>0</td>\n",
       "    </tr>\n",
       "    <tr>\n",
       "      <th>2</th>\n",
       "      <td>39586</td>\n",
       "      <td>21</td>\n",
       "      <td>1</td>\n",
       "      <td>2</td>\n",
       "      <td>24</td>\n",
       "      <td>24</td>\n",
       "      <td>2</td>\n",
       "      <td>4</td>\n",
       "      <td>1</td>\n",
       "      <td>3</td>\n",
       "      <td>5</td>\n",
       "      <td>0</td>\n",
       "      <td>0</td>\n",
       "      <td>3</td>\n",
       "      <td>1</td>\n",
       "      <td>6</td>\n",
       "      <td>0</td>\n",
       "    </tr>\n",
       "    <tr>\n",
       "      <th rowspan=\"2\" valign=\"top\">Native American</th>\n",
       "      <th>1</th>\n",
       "      <td>390</td>\n",
       "      <td>0</td>\n",
       "      <td>0</td>\n",
       "      <td>0</td>\n",
       "      <td>0</td>\n",
       "      <td>0</td>\n",
       "      <td>0</td>\n",
       "      <td>0</td>\n",
       "      <td>0</td>\n",
       "      <td>0</td>\n",
       "      <td>0</td>\n",
       "      <td>0</td>\n",
       "      <td>0</td>\n",
       "      <td>0</td>\n",
       "      <td>0</td>\n",
       "      <td>0</td>\n",
       "      <td>0</td>\n",
       "    </tr>\n",
       "    <tr>\n",
       "      <th>2</th>\n",
       "      <td>802</td>\n",
       "      <td>0</td>\n",
       "      <td>0</td>\n",
       "      <td>1</td>\n",
       "      <td>1</td>\n",
       "      <td>0</td>\n",
       "      <td>0</td>\n",
       "      <td>0</td>\n",
       "      <td>0</td>\n",
       "      <td>0</td>\n",
       "      <td>0</td>\n",
       "      <td>0</td>\n",
       "      <td>0</td>\n",
       "      <td>0</td>\n",
       "      <td>1</td>\n",
       "      <td>0</td>\n",
       "      <td>0</td>\n",
       "    </tr>\n",
       "    <tr>\n",
       "      <th rowspan=\"2\" valign=\"top\">Other Race</th>\n",
       "      <th>1</th>\n",
       "      <td>88389</td>\n",
       "      <td>17</td>\n",
       "      <td>2</td>\n",
       "      <td>3</td>\n",
       "      <td>21</td>\n",
       "      <td>20</td>\n",
       "      <td>1</td>\n",
       "      <td>3</td>\n",
       "      <td>5</td>\n",
       "      <td>1</td>\n",
       "      <td>3</td>\n",
       "      <td>0</td>\n",
       "      <td>0</td>\n",
       "      <td>3</td>\n",
       "      <td>0</td>\n",
       "      <td>0</td>\n",
       "      <td>1</td>\n",
       "    </tr>\n",
       "    <tr>\n",
       "      <th>2</th>\n",
       "      <td>19321</td>\n",
       "      <td>10</td>\n",
       "      <td>0</td>\n",
       "      <td>0</td>\n",
       "      <td>8</td>\n",
       "      <td>3</td>\n",
       "      <td>0</td>\n",
       "      <td>0</td>\n",
       "      <td>1</td>\n",
       "      <td>1</td>\n",
       "      <td>1</td>\n",
       "      <td>0</td>\n",
       "      <td>0</td>\n",
       "      <td>1</td>\n",
       "      <td>1</td>\n",
       "      <td>4</td>\n",
       "      <td>0</td>\n",
       "    </tr>\n",
       "    <tr>\n",
       "      <th rowspan=\"2\" valign=\"top\">White</th>\n",
       "      <th>1</th>\n",
       "      <td>59416</td>\n",
       "      <td>10</td>\n",
       "      <td>0</td>\n",
       "      <td>4</td>\n",
       "      <td>19</td>\n",
       "      <td>14</td>\n",
       "      <td>2</td>\n",
       "      <td>2</td>\n",
       "      <td>0</td>\n",
       "      <td>0</td>\n",
       "      <td>3</td>\n",
       "      <td>1</td>\n",
       "      <td>0</td>\n",
       "      <td>1</td>\n",
       "      <td>0</td>\n",
       "      <td>1</td>\n",
       "      <td>1</td>\n",
       "    </tr>\n",
       "    <tr>\n",
       "      <th>2</th>\n",
       "      <td>133974</td>\n",
       "      <td>37</td>\n",
       "      <td>0</td>\n",
       "      <td>4</td>\n",
       "      <td>49</td>\n",
       "      <td>41</td>\n",
       "      <td>6</td>\n",
       "      <td>10</td>\n",
       "      <td>3</td>\n",
       "      <td>3</td>\n",
       "      <td>11</td>\n",
       "      <td>2</td>\n",
       "      <td>1</td>\n",
       "      <td>7</td>\n",
       "      <td>1</td>\n",
       "      <td>7</td>\n",
       "      <td>1</td>\n",
       "    </tr>\n",
       "  </tbody>\n",
       "</table>\n",
       "</div>"
      ],
      "text/plain": [
       "PAT_STATUS                               01  02  03  05  06  07  09  20  30  \\\n",
       "RACE                      ETHNICITY                                           \n",
       "Asian or Pacific Islander 1             333   0   0   0   0   0   0   0   0   \n",
       "                          2           12666   2   0   0   2   1   1   0   0   \n",
       "Black                     1            1117   0   0   0   0   6   0   0   0   \n",
       "                          2           39586  21   1   2  24  24   2   4   1   \n",
       "Native American           1             390   0   0   0   0   0   0   0   0   \n",
       "                          2             802   0   0   1   1   0   0   0   0   \n",
       "Other Race                1           88389  17   2   3  21  20   1   3   5   \n",
       "                          2           19321  10   0   0   8   3   0   0   1   \n",
       "White                     1           59416  10   0   4  19  14   2   2   0   \n",
       "                          2          133974  37   0   4  49  41   6  10   3   \n",
       "\n",
       "PAT_STATUS                           43  50  51  61  62  63  65  66  \n",
       "RACE                      ETHNICITY                                  \n",
       "Asian or Pacific Islander 1           0   0   0   0   0   0   0   0  \n",
       "                          2           0   0   0   0   1   1   0   0  \n",
       "Black                     1           0   0   0   0   0   0   0   0  \n",
       "                          2           3   5   0   0   3   1   6   0  \n",
       "Native American           1           0   0   0   0   0   0   0   0  \n",
       "                          2           0   0   0   0   0   1   0   0  \n",
       "Other Race                1           1   3   0   0   3   0   0   1  \n",
       "                          2           1   1   0   0   1   1   4   0  \n",
       "White                     1           0   3   1   0   1   0   1   1  \n",
       "                          2           3  11   2   1   7   1   7   1  "
      ]
     },
     "execution_count": 160,
     "metadata": {},
     "output_type": "execute_result"
    }
   ],
   "source": [
    "year2013.groupby(['RACE', 'ETHNICITY'])['PAT_STATUS'].value_counts().unstack(fill_value=0)"
   ]
  },
  {
   "cell_type": "code",
   "execution_count": 181,
   "metadata": {
    "scrolled": true
   },
   "outputs": [
    {
     "data": {
      "text/plain": [
       "SOURCE_OF_ADMISSION     147\n",
       "PAT_STATE               225\n",
       "COUNTY                 9018\n",
       "PAT_STATUS              251\n",
       "SEX_CODE                  0\n",
       "RACE                    878\n",
       "ETHNICITY              3418\n",
       "LENGTH_OF_STAY            0\n",
       "PAT_AGE                   0\n",
       "On Border              9018\n",
       "Medicaid                  0\n",
       "Medicare                  0\n",
       "Self-pay or Charity       0\n",
       "Other Insurance           0\n",
       "dtype: int64"
      ]
     },
     "execution_count": 181,
     "metadata": {},
     "output_type": "execute_result"
    }
   ],
   "source": [
    "year2013.iloc[:,2:16].isnull().sum()"
   ]
  },
  {
   "cell_type": "code",
   "execution_count": 133,
   "metadata": {},
   "outputs": [],
   "source": [
    "sums = year2013.iloc[:,16:].sum()\n",
    "freq = (sums/len(year2013)*100).round(4)\n"
   ]
  },
  {
   "cell_type": "code",
   "execution_count": 135,
   "metadata": {},
   "outputs": [],
   "source": [
    "sums = sums.astype(str)\n",
    "freq = freq.astype(str)\n",
    "strings = '&' + sums + '  (' + freq + '\\%) &'"
   ]
  },
  {
   "cell_type": "code",
   "execution_count": 136,
   "metadata": {},
   "outputs": [],
   "source": [
    "for i in range(len(strings)):\n",
    "    if i%2 == 1:\n",
    "        strings[i] = strings[i] + '\\\\'"
   ]
  },
  {
   "cell_type": "code",
   "execution_count": 137,
   "metadata": {},
   "outputs": [
    {
     "data": {
      "text/plain": [
       "Obesity                                                                                                          &19208  (5.3216\\%) &\n",
       "Pregnancy resulting from assisted reproductive technology                                                         &615  (0.1704\\%) &\\\n",
       "Cocaine dependence                                                                                                      &0  (0.0\\%) &\n",
       "Amphetamine dependence                                                                                                 &0  (0.0\\%) &\\\n",
       "Gestational diabetes mellitus                                                                                    &21658  (6.0004\\%) &\n",
       "Pre-existing diabetes mellitus                                                                                   &4065  (1.1262\\%) &\\\n",
       "Anxiety                                                                                                           &2709  (0.7505\\%) &\n",
       "Anemia NOS                                                                                                      &29280  (8.1121\\%) &\\\n",
       "Iron deficiency anemia                                                                                            &3937  (1.0908\\%) &\n",
       "Other anemia                                                                                                        &94  (0.026\\%) &\\\n",
       "Depression                                                                                                        &3157  (0.8747\\%) &\n",
       "Primigravidas at the extremes of maternal age                                                                    &4969  (1.3767\\%) &\\\n",
       "Hemorrhagic disorders due to intrinsic circulating antibodies                                                        &6  (0.0017\\%) &\n",
       "Systemic lupus erythematosus                                                                                      &366  (0.1014\\%) &\\\n",
       "Lupus erythematosus                                                                                                 &20  (0.0055\\%) &\n",
       "Autoimmune disease not elsewhere classified                                                                         &18  (0.005\\%) &\\\n",
       "Pure hypercholesterolemia                                                                                          &108  (0.0299\\%) &\n",
       "Unspecified vitamin D deficiency                                                                                  &227  (0.0629\\%) &\\\n",
       "Proteinuria                                                                                                         &21  (0.0058\\%) &\n",
       "Tobacco use disorder                                                                                             &6140  (1.7011\\%) &\\\n",
       "History of tobacco use                                                                                            &3226  (0.8938\\%) &\n",
       "Hypertension                                                                                                     &2424  (0.6716\\%) &\\\n",
       "Hypertensive heart disease                                                                                          &16  (0.0044\\%) &\n",
       "Chronic venous hypertension                                                                                         &1  (0.0003\\%) &\\\n",
       "Unspecified renal disease in pregnancy without mention of hypertension                                             &644  (0.1784\\%) &\n",
       "Chronic kidney disease                                                                                            &173  (0.0479\\%) &\\\n",
       "Hypertensive kidney disease                                                                                         &96  (0.0266\\%) &\n",
       "Hypertensive heart and chronic kidney disease                                                                       &6  (0.0017\\%) &\\\n",
       "Renal failure not elsewhere classified                                                                               &6  (0.0017\\%) &\n",
       "Infections of genitourinary tract in pregnancy                                                                    &3299  (0.914\\%) &\\\n",
       "UTI                                                                                                               &1838  (0.5092\\%) &\n",
       "Personal history of trophoblastic disease                                                                              &0  (0.0\\%) &\\\n",
       "Supervision of high-risk pregnancy with history of trophoblastic disease                                            &28  (0.0078\\%) &\n",
       "Thrombophilia                                                                                                    &1073  (0.2973\\%) &\\\n",
       "History of premature delivery                                                                                      &180  (0.0499\\%) &\n",
       "Hemorrhage in early pregnancy                                                                                     &216  (0.0598\\%) &\\\n",
       "Congenital abnormalities of the uterus including those complicating pregnancy, childbirth, or the puerperium       &1184  (0.328\\%) &\n",
       "Multiple Gestations                                                                                              &5871  (1.6266\\%) &\\\n",
       "Fetal Growth Restriction                                                                                             &3  (0.0008\\%) &\n",
       "Asthma                                                                                                           &7124  (1.9737\\%) &\\\n",
       "Obstructive Sleep Apnea                                                                                            &106  (0.0294\\%) &\n",
       "Other cardiovascular diseases complicating pregnancy and childbirth or the puerperium                            &1372  (0.3801\\%) &\\\n",
       "Sickle cell disease                                                                                                 &75  (0.0208\\%) &\n",
       "Thyroid Disease                                                                                                  &8880  (2.4602\\%) &\\\n",
       "Inadequate Prenatal Care                                                                                          &8959  (2.4821\\%) &\n",
       "Periodontal disease                                                                                                &35  (0.0097\\%) &\\\n",
       "Preeclampsia/Eclampsia                                                                                           &14375  (3.9826\\%) &\n",
       "dtype: object"
      ]
     },
     "execution_count": 137,
     "metadata": {},
     "output_type": "execute_result"
    }
   ],
   "source": [
    "strings"
   ]
  },
  {
   "cell_type": "code",
   "execution_count": 23,
   "metadata": {
    "scrolled": true
   },
   "outputs": [
    {
     "data": {
      "text/plain": [
       "Obesity                                                                                                         19208\n",
       "Pregnancy resulting from assisted reproductive technology                                                         615\n",
       "Cocaine dependence                                                                                                  0\n",
       "Amphetamine dependence                                                                                              0\n",
       "Gestational diabetes mellitus                                                                                   21658\n",
       "Pre-existing diabetes mellitus                                                                                   4065\n",
       "Anxiety                                                                                                          2709\n",
       "Anemia NOS                                                                                                      29280\n",
       "Iron deficiency anemia                                                                                           3937\n",
       "Other anemia                                                                                                       94\n",
       "Depression                                                                                                       3157\n",
       "Primigravidas at the extremes of maternal age                                                                    4969\n",
       "Hemorrhagic disorders due to intrinsic circulating antibodies                                                       6\n",
       "Systemic lupus erythematosus                                                                                      366\n",
       "Lupus erythematosus                                                                                                20\n",
       "Autoimmune disease not elsewhere classified                                                                        18\n",
       "Pure hypercholesterolemia                                                                                         108\n",
       "Unspecified vitamin D deficiency                                                                                  227\n",
       "Proteinuria                                                                                                        21\n",
       "Tobacco use disorder                                                                                             6140\n",
       "History of tobacco use                                                                                           3226\n",
       "Hypertension                                                                                                     2424\n",
       "Hypertensive heart disease                                                                                         16\n",
       "Chronic venous hypertension                                                                                         1\n",
       "Unspecified renal disease in pregnancy without mention of hypertension                                            644\n",
       "Chronic kidney disease                                                                                            173\n",
       "Hypertensive kidney disease                                                                                        96\n",
       "Hypertensive heart and chronic kidney disease                                                                       6\n",
       "Renal failure not elsewhere classified                                                                              6\n",
       "Infections of genitourinary tract in pregnancy                                                                   3299\n",
       "UTI                                                                                                              1838\n",
       "Personal history of trophoblastic disease                                                                           0\n",
       "Supervision of high-risk pregnancy with history of trophoblastic disease                                           28\n",
       "Thrombophilia                                                                                                    1073\n",
       "History of premature delivery                                                                                     180\n",
       "Hemorrhage in early pregnancy                                                                                     216\n",
       "Congenital abnormalities of the uterus including those complicating pregnancy, childbirth, or the puerperium     1184\n",
       "Multiple Gestations                                                                                              5871\n",
       "Fetal Growth Restriction                                                                                            3\n",
       "Asthma                                                                                                           7124\n",
       "Obstructive Sleep Apnea                                                                                           106\n",
       "Other cardiovascular diseases complicating pregnancy and childbirth or the puerperium                            1372\n",
       "Sickle cell disease                                                                                                75\n",
       "Thyroid Disease                                                                                                  8880\n",
       "Inadequate Prenatal Care                                                                                         8959\n",
       "Periodontal disease                                                                                                35\n",
       "Preeclampsia/Eclampsia                                                                                          14375\n",
       "dtype: int64"
      ]
     },
     "execution_count": 23,
     "metadata": {},
     "output_type": "execute_result"
    }
   ],
   "source": [
    "sums"
   ]
  },
  {
   "cell_type": "code",
   "execution_count": 5,
   "metadata": {},
   "outputs": [
    {
     "data": {
      "text/plain": [
       "array(['TX', 'NM', 'OK', 'ZZ', 'LA', 'XX', 'FC', 'AR', nan], dtype=object)"
      ]
     },
     "execution_count": 5,
     "metadata": {},
     "output_type": "execute_result"
    }
   ],
   "source": [
    "year2013['PAT_STATE'].unique()"
   ]
  },
  {
   "cell_type": "code",
   "execution_count": 6,
   "metadata": {},
   "outputs": [
    {
     "data": {
      "text/plain": [
       "TX    355039\n",
       "FC      2318\n",
       "AR      1344\n",
       "NM      1027\n",
       "ZZ       499\n",
       "OK       227\n",
       "XX       175\n",
       "LA        89\n",
       "Name: PAT_STATE, dtype: int64"
      ]
     },
     "execution_count": 6,
     "metadata": {},
     "output_type": "execute_result"
    }
   ],
   "source": [
    "year2013['PAT_STATE'].value_counts()"
   ]
  },
  {
   "cell_type": "code",
   "execution_count": 7,
   "metadata": {},
   "outputs": [
    {
     "data": {
      "text/plain": [
       "(360943, 70)"
      ]
     },
     "execution_count": 7,
     "metadata": {},
     "output_type": "execute_result"
    }
   ],
   "source": [
    "year2013.shape"
   ]
  },
  {
   "cell_type": "code",
   "execution_count": 8,
   "metadata": {
    "scrolled": true
   },
   "outputs": [
    {
     "data": {
      "text/plain": [
       "Index(['RECORD_ID', 'DISCHARGE', 'SOURCE_OF_ADMISSION', 'PAT_STATE', 'COUNTY',\n",
       "       'PAT_STATUS', 'SEX_CODE', 'RACE', 'ETHNICITY', 'LENGTH_OF_STAY',\n",
       "       'PAT_AGE', 'On Border', 'Medicaid', 'Medicare', 'Self-pay or Charity',\n",
       "       'Other Insurance', 'Obesity',\n",
       "       'Pregnancy resulting from assisted reproductive technology',\n",
       "       'Cocaine dependence', 'Amphetamine dependence',\n",
       "       'Gestational diabetes mellitus', 'Pre-existing diabetes mellitus',\n",
       "       'Anxiety', 'Anemia NOS', 'Iron deficiency anemia', 'Other anemia',\n",
       "       'Depression', 'Primigravidas at the extremes of maternal age',\n",
       "       'Hemorrhagic disorders due to intrinsic circulating antibodies',\n",
       "       'Systemic lupus erythematosus', 'Lupus erythematosus',\n",
       "       'Autoimmune disease not elsewhere classified',\n",
       "       'Pure hypercholesterolemia', 'Unspecified vitamin D deficiency',\n",
       "       'Proteinuria', 'Tobacco use disorder', 'History of tobacco use',\n",
       "       'Hypertension', 'Hypertensive heart disease',\n",
       "       'Chronic venous hypertension',\n",
       "       'Unspecified renal disease in pregnancy without mention of hypertension',\n",
       "       'Chronic kidney disease', 'Hypertensive kidney disease',\n",
       "       'Hypertensive heart and chronic kidney disease',\n",
       "       'Renal failure not elsewhere classified',\n",
       "       'Infections of genitourinary tract in pregnancy', 'UTI',\n",
       "       'Personal history of trophoblastic disease',\n",
       "       'Supervision of high-risk pregnancy with history of trophoblastic disease',\n",
       "       'Thrombophilia', 'History of premature delivery',\n",
       "       'Hemorrhage in early pregnancy',\n",
       "       'Congenital abnormalities of the uterus including those complicating pregnancy, childbirth, or the puerperium',\n",
       "       'Multiple Gestations', 'Fetal Growth Restriction', 'Asthma',\n",
       "       'Obstructive Sleep Apnea',\n",
       "       'Other cardiovascular diseases complicating pregnancy and childbirth or the puerperium',\n",
       "       'Sickle cell disease', 'Thyroid Disease', 'Inadequate Prenatal Care',\n",
       "       'Periodontal disease', 'Preeclampsia/Eclampsia', 'HELLP', 'Stroke',\n",
       "       'Renal Disease', 'Pulmonary Edema', 'Acute Heart Failure', 'Eclampsia',\n",
       "       'Diabetes'],\n",
       "      dtype='object')"
      ]
     },
     "execution_count": 8,
     "metadata": {},
     "output_type": "execute_result"
    }
   ],
   "source": [
    "year2013.columns"
   ]
  },
  {
   "cell_type": "code",
   "execution_count": 10,
   "metadata": {},
   "outputs": [
    {
     "data": {
      "text/plain": [
       "2      207494\n",
       "1      150031\n",
       "NaN      3418\n",
       "Name: ETHNICITY, dtype: int64"
      ]
     },
     "execution_count": 10,
     "metadata": {},
     "output_type": "execute_result"
    }
   ],
   "source": [
    "year2013['ETHNICITY'].value_counts(dropna=False)"
   ]
  },
  {
   "cell_type": "code",
   "execution_count": 11,
   "metadata": {},
   "outputs": [
    {
     "data": {
      "text/plain": [
       "4      195149\n",
       "5      109395\n",
       "3       41168\n",
       "2       13139\n",
       "1        1214\n",
       "NaN       878\n",
       "Name: RACE, dtype: int64"
      ]
     },
     "execution_count": 11,
     "metadata": {},
     "output_type": "execute_result"
    }
   ],
   "source": [
    "year2013['RACE'].value_counts(dropna=False)"
   ]
  },
  {
   "cell_type": "code",
   "execution_count": 12,
   "metadata": {},
   "outputs": [
    {
     "data": {
      "text/plain": [
       "360943"
      ]
     },
     "execution_count": 12,
     "metadata": {},
     "output_type": "execute_result"
    }
   ],
   "source": [
    "195149+109395+41168+13139+1214+878"
   ]
  },
  {
   "cell_type": "code",
   "execution_count": 14,
   "metadata": {},
   "outputs": [
    {
     "data": {
      "text/plain": [
       "0.0    306936\n",
       "1.0     44989\n",
       "NaN      9018\n",
       "Name: On Border, dtype: int64"
      ]
     },
     "execution_count": 14,
     "metadata": {},
     "output_type": "execute_result"
    }
   ],
   "source": [
    "year2013['On Border'].value_counts(dropna=False)"
   ]
  },
  {
   "cell_type": "code",
   "execution_count": 24,
   "metadata": {},
   "outputs": [
    {
     "data": {
      "text/plain": [
       "149"
      ]
     },
     "execution_count": 24,
     "metadata": {},
     "output_type": "execute_result"
    }
   ],
   "source": [
    "year2013['Self-pay or Charity'].isnull().sum()"
   ]
  },
  {
   "cell_type": "code",
   "execution_count": 26,
   "metadata": {},
   "outputs": [
    {
     "data": {
      "text/plain": [
       "TX     355039\n",
       "FC       2318\n",
       "AR       1344\n",
       "NM       1027\n",
       "ZZ        499\n",
       "OK        227\n",
       "NaN       225\n",
       "XX        175\n",
       "LA         89\n",
       "Name: PAT_STATE, dtype: int64"
      ]
     },
     "execution_count": 26,
     "metadata": {},
     "output_type": "execute_result"
    }
   ],
   "source": [
    "year2013['PAT_STATE'].value_counts(dropna=False)"
   ]
  },
  {
   "cell_type": "code",
   "execution_count": null,
   "metadata": {},
   "outputs": [],
   "source": []
  }
 ],
 "metadata": {
  "kernelspec": {
   "display_name": "Python 3",
   "language": "python",
   "name": "python3"
  },
  "language_info": {
   "codemirror_mode": {
    "name": "ipython",
    "version": 3
   },
   "file_extension": ".py",
   "mimetype": "text/x-python",
   "name": "python",
   "nbconvert_exporter": "python",
   "pygments_lexer": "ipython3",
   "version": "3.8.3"
  }
 },
 "nbformat": 4,
 "nbformat_minor": 4
}

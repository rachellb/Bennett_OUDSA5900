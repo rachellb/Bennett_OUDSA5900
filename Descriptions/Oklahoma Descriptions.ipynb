{
 "cells": [
  {
   "cell_type": "markdown",
   "metadata": {},
   "source": [
    "# Loading Packages and Data"
   ]
  },
  {
   "cell_type": "code",
   "execution_count": 15,
   "metadata": {},
   "outputs": [],
   "source": [
    "import numpy as np\n",
    "import pandas as pd \n",
    "pd.set_option('display.max_columns', 999)\n",
    "pd.set_option('display.max_rows', 999)\n",
    "import seaborn as sns\n",
    "import matplotlib.pyplot as plt\n",
    "import os\n",
    "import missingno as msno"
   ]
  },
  {
   "cell_type": "code",
   "execution_count": 8,
   "metadata": {},
   "outputs": [],
   "source": [
    "system = 'windows'"
   ]
  },
  {
   "cell_type": "code",
   "execution_count": 9,
   "metadata": {},
   "outputs": [
    {
     "name": "stderr",
     "output_type": "stream",
     "text": [
      "C:\\Users\\rache\\anaconda3\\lib\\site-packages\\IPython\\core\\interactiveshell.py:3156: DtypeWarning: Columns (73) have mixed types.Specify dtype option on import or set low_memory=False.\n",
      "  interactivity=interactivity, compiler=compiler, result=result)\n"
     ]
    }
   ],
   "source": [
    "\"\"\"\n",
    "ok2017 = pd.read_csv('file:///home/rachel/Documents/Preeclampsia_Research/Data/Oklahom_PUDF_2020.08.27/2017%20IP/pudf_cd.txt',\n",
    "            sep=\",\")\n",
    "ok2018 = pd.read_csv('file:///home/rachel/Documents/Preeclampsia_Research/Data/Oklahom_PUDF_2020.08.27/2018%20IP/pudf_cdv2.txt',sep=\",\")\n",
    "\"\"\"\n",
    "if system == 'windows':\n",
    "    parent = os.path.dirname(os.getcwd())\n",
    "    dataPath2017 = os.path.join(parent, r\"Data\\Oklahom_PUDF_2020.08.27\\2017%20IP\\pudf_cd.txt\")\n",
    "    dataPath2018 = os.path.join(parent, r\"Data\\Oklahom_PUDF_2020.08.27\\2018%20IP\\pudf_cdv2.txt\")\n",
    "\n",
    "\n",
    "    ok2017 = pd.read_csv('file:\\\\' + dataPath2017)\n",
    "    ok2018 = pd.read_csv('file:\\\\' + dataPath2018)\n",
    "\n",
    "else:\n",
    "    parent = os.path.dirname(os.getcwd())\n",
    "    dataPath2017 = os.path.join(parent, r\"Data/Oklahom_PUDF_2020.08.27/2017%20IP/pudf_cd.txt\")\n",
    "    dataPath2018 = os.path.join(parent, r\"Data/Oklahom_PUDF_2020.08.27/2018%20IP/pudf_cdv2.txt\")\n",
    "\n",
    "\n",
    "    ok2017 = pd.read_csv('file://' + dataPath2017)\n",
    "    ok2018 = pd.read_csv('file://' + dataPath2018)\n",
    "# Dropping unneeded columns\n",
    "ok2017.drop(columns=['pk_pudf', 'id_hups', 'cd_hospital_type', 'cd_admission_type_src', 'no_total_chgs',\n",
    "                     'cd_drg_hci', 'cd_mdc', 'cd_ecode_cause_1',\n",
    "                     'cd_ecode_cause_2', 'cd_ecode_cause_3'], inplace=True)\n",
    "ok2018.drop(columns=['pk_pudf', 'id_hups', 'cd_hospital_type', 'cd_admission_type_src', 'no_total_chgs',\n",
    "                     'cd_drg_hci', 'cd_mdc', 'cd_ecode_cause_1',\n",
    "                     'cd_ecode_cause_2', 'cd_ecode_cause_3'], inplace=True)\n",
    "\n",
    "ok2017.columns = ['State', 'Zip', 'County', 'Sex', 'Race', 'Marital_status', 'Age', 'admit_year',\n",
    "                  'admit_month', 'admit_day',\n",
    "                  'discharge_year', 'discharge_month', 'discharge_day', 'Length_of_stay', 'Status',\n",
    "                  'Insurance', 'pdx', 'dx1', 'dx2', 'dx3',\n",
    "                  'dx4', 'dx5', 'dx6', 'dx7', 'dx8', 'dx9', 'dx10', 'dx11', 'dx12', 'dx13', 'dx14', 'dx15',\n",
    "                  'ppoa', 'poa1', 'poa2', 'poa3', 'poa4', 'poa5',\n",
    "                  'poa6', 'poa7', 'poa8', 'poa9', 'poa10', 'poa11', 'poa12', 'poa13',\n",
    "                  'poa14', 'poa15', 'ppx', 'px1', 'px2', 'px3', 'px4', 'px5', 'px6',\n",
    "                  'px7', 'px8', 'px9', 'px10', 'px11', 'px12', 'px13', 'px14', 'px15']\n",
    "\n",
    "ok2018.columns = ['State', 'Zip', 'County', 'Sex', 'Race', 'Marital_status', 'Age', 'admit_year',\n",
    "                  'admit_month', 'admit_day',\n",
    "                  'discharge_year', 'discharge_month', 'discharge_day', 'Length_of_stay', 'Status',\n",
    "                  'Insurance', 'pdx', 'dx1', 'dx2', 'dx3',\n",
    "                  'dx4', 'dx5', 'dx6', 'dx7', 'dx8', 'dx9', 'dx10', 'dx11', 'dx12', 'dx13', 'dx14', 'dx15',\n",
    "                  'ppoa', 'poa1', 'poa2', 'poa3', 'poa4', 'poa5',\n",
    "                  'poa6', 'poa7', 'poa8', 'poa9', 'poa10', 'poa11', 'poa12', 'poa13',\n",
    "                  'poa14', 'poa15', 'ppx', 'px1', 'px2', 'px3', 'px4', 'px5', 'px6',\n",
    "                  'px7', 'px8', 'px9', 'px10', 'px11', 'px12', 'px13', 'px14', 'px15']\n",
    "\n",
    "ok2017 = (ok2017.loc[(ok2017['pdx'].str.startswith('Z37'))\n",
    "                     | ok2017['dx1'].str.startswith('Z37')\n",
    "                     | ok2017['dx2'].str.startswith('Z37')\n",
    "                     | ok2017['dx3'].str.startswith('Z37')\n",
    "                     | ok2017['dx4'].str.startswith('Z37')\n",
    "                     | ok2017['dx5'].str.startswith('Z37')\n",
    "                     | ok2017['dx6'].str.startswith('Z37')\n",
    "                     | ok2017['dx8'].str.startswith('Z37')\n",
    "                     | ok2017['dx9'].str.startswith('Z37')\n",
    "                     | ok2017['dx10'].str.startswith('Z37')\n",
    "                     | ok2017['dx11'].str.startswith('Z37')\n",
    "                     | ok2017['dx12'].str.startswith('Z37')\n",
    "                     | ok2017['dx13'].str.startswith('Z37')\n",
    "                     | ok2017['dx14'].str.startswith('Z37')\n",
    "                     | ok2017['dx15'].str.startswith('Z37')])\n",
    "\n",
    "ok2018 = (ok2018.loc[(ok2018['pdx'].str.startswith('Z37'))\n",
    "                     | ok2018['dx1'].str.startswith('Z37')\n",
    "                     | ok2018['dx2'].str.startswith('Z37')\n",
    "                     | ok2018['dx3'].str.startswith('Z37')\n",
    "                     | ok2018['dx4'].str.startswith('Z37')\n",
    "                     | ok2018['dx5'].str.startswith('Z37')\n",
    "                     | ok2018['dx6'].str.startswith('Z37')\n",
    "                     | ok2018['dx8'].str.startswith('Z37')\n",
    "                     | ok2018['dx9'].str.startswith('Z37')\n",
    "                     | ok2018['dx10'].str.startswith('Z37')\n",
    "                     | ok2018['dx11'].str.startswith('Z37')\n",
    "                     | ok2018['dx12'].str.startswith('Z37')\n",
    "                     | ok2018['dx13'].str.startswith('Z37')\n",
    "                     | ok2018['dx14'].str.startswith('Z37')\n",
    "                     | ok2018['dx15'].str.startswith('Z37')])\n",
    "\n",
    "# Fix missing values\n",
    "ok2017['State'] = np.where(ok2017['State'] == '99', np.NaN, ok2017['State'])\n",
    "ok2018['State'] = np.where(ok2018['State'] == '99', np.NaN, ok2018['State'])\n",
    "\n",
    "ok2017['Zip'] = np.where(ok2017['Zip'] == 99999.0, np.NaN, ok2017['Zip'])\n",
    "ok2018['Zip'] = np.where(ok2018['Zip'] == 99999.0, np.NaN, ok2018['Zip'])\n",
    "\n",
    "ok2017['Marital_status'] = np.where(ok2017['Marital_status'] == 'U', np.NaN, ok2017['Marital_status'])\n",
    "ok2018['Marital_status'] = np.where(ok2018['Marital_status'] == 'U', np.NaN, ok2018['Marital_status'])\n",
    "\n",
    "ok2017['Sex'] = np.where(ok2017['Sex'] == 'U', np.NaN, ok2017['Sex'])\n",
    "ok2018['Sex'] = np.where(ok2018['Sex'] == 'U', np.NaN, ok2018['Sex'])\n",
    "\n",
    "ok2017['Age'] = np.where(ok2017['Age'] == '99', np.NaN, ok2017['Age'])\n",
    "ok2018['Age'] = np.where(ok2018['Age'] == '99', np.NaN, ok2018['Age'])\n",
    "\n",
    "ok2017['Status'] = np.where(ok2017['Status'] == '99', np.NaN, ok2017['Status'])\n",
    "ok2018['Status'] = np.where(ok2018['Status'] == '99', np.NaN, ok2018['Status'])\n",
    "\n",
    "\n",
    "ok2017['Insurance'].replace(3, 'Medicaid', inplace=True)\n",
    "ok2017['Insurance'].replace(2, 'Medicare', inplace=True)\n",
    "ok2017['Insurance'].replace(6, 'Self-pay', inplace=True)\n",
    "ok2017['Insurance'].replace([1,4,5,7], 'Other Insurance', inplace=True)\n",
    "ok2017['Insurance'].replace([9,11,14], np.NaN, inplace=True)\n",
    "\n",
    "ok2018['Insurance'].replace(3, 'Medicaid', inplace=True)\n",
    "ok2018['Insurance'].replace(2, 'Medicare', inplace=True)\n",
    "ok2018['Insurance'].replace(6, 'Self-pay', inplace=True)\n",
    "ok2018['Insurance'].replace([1,4,5,7], 'Other Insurance', inplace=True)\n",
    "ok2018['Insurance'].replace([9,11,14], np.NaN, inplace=True)\n",
    "\n",
    "\"\"\"\n",
    "# Creating Insurance Binary Columns\n",
    "ok2017['Medicaid'] = 0\n",
    "ok2017['Medicare'] = 0\n",
    "ok2017['Self-pay'] = 0\n",
    "ok2017['Other Insurance'] = 0\n",
    "\n",
    "# Creating Insurance Binary Columns\n",
    "ok2018['Medicaid'] = 0\n",
    "ok2018['Medicare'] = 0\n",
    "ok2018['Self-pay'] = 0\n",
    "ok2018['Other Insurance'] = 0\n",
    "\n",
    "# Filling out appropriate Columns\n",
    "ok2017['Medicaid'] = np.where(ok2017['Insurance'] == 3, 1,\n",
    "                              ok2017['Medicaid'])  # Change to 1 if 1, otherwise leave as is\n",
    "ok2017['Medicare'] = np.where(ok2017['Insurance'] == 2, 1, ok2017['Medicare'])\n",
    "ok2017['Self-pay'] = np.where(ok2017['Insurance'] == 6, 1, ok2017['Self-pay'])\n",
    "ok2017['Other Insurance'] = np.where(ok2017['Insurance'].isin([1, 4, 5, 7]), int(1),\n",
    "                                     ok2017['Other Insurance'])\n",
    "\n",
    "# For Missing Values, 9 is unknown in their dictionary\n",
    "ok2017['Medicaid'] = np.where(ok2017['Insurance'] == 9, np.NaN,\n",
    "                              ok2017['Medicaid'])  # Change to 1 if 1, otherwise leave as is\n",
    "ok2017['Medicare'] = np.where(ok2017['Insurance'] == 9, np.NaN, ok2017['Medicare'])\n",
    "ok2017['Self-pay'] = np.where(ok2017['Insurance'] == 9, np.NaN, ok2017['Self-pay'])\n",
    "ok2017['Other Insurance'] = np.where(ok2017['Insurance'] == 9, np.NaN, ok2017['Other Insurance'])\n",
    "\n",
    "# Filling out appropriate Columns\n",
    "ok2018['Medicaid'] = np.where(ok2018['Insurance'] == 3, 1,\n",
    "                              ok2018['Medicaid'])  # Change to 1 if 1, otherwise leave as is\n",
    "ok2018['Medicare'] = np.where(ok2018['Insurance'] == 2, 1, ok2018['Medicare'])\n",
    "ok2018['Self-pay'] = np.where(ok2018['Insurance'] == 6, 1, ok2018['Self-pay'])\n",
    "ok2018['Other Insurance'] = np.where(ok2018['Insurance'].isin([1, 4, 5, 7]), int(1),\n",
    "                                     ok2018['Other Insurance'])\n",
    "\n",
    "# For Missing Values, 9 is unkown in their dictionary\n",
    "ok2018['Medicaid'] = np.where(ok2018['Insurance'] == 9, np.NaN,\n",
    "                              ok2018['Medicaid'])  # Change to 1 if 1, otherwise leave as is\n",
    "ok2018['Medicare'] = np.where(ok2018['Insurance'] == 9, np.NaN, ok2018['Medicare'])\n",
    "ok2018['Self-pay'] = np.where(ok2018['Insurance'] == 9, np.NaN, ok2018['Self-pay'])\n",
    "ok2018['Other Insurance'] = np.where(ok2018['Insurance'] == 9, np.NaN, ok2018['Other Insurance'])\n",
    "\n",
    "# Fixing incorrect values\n",
    "ok2018['Medicaid'] = np.where(ok2018['Insurance'].isin([11, 14]), np.NaN,\n",
    "                              ok2018['Medicaid'])  # Change to 1 if 1, otherwise leave as is\n",
    "ok2018['Medicare'] = np.where(ok2018['Insurance'].isin([11, 14]), np.NaN, ok2018['Medicare'])\n",
    "ok2018['Self-pay'] = np.where(ok2018['Insurance'].isin([11, 14]), np.NaN, ok2018['Self-pay'])\n",
    "ok2018['Other Insurance'] = np.where(ok2018['Insurance'].isin([11, 14]), np.NaN, ok2018['Other Insurance'])\n",
    "\n",
    "# Dropping Insurance column\n",
    "ok2017.drop(columns=['Insurance'], inplace=True)\n",
    "ok2018.drop(columns=['Insurance'], inplace=True)\n",
    "\"\"\"\n",
    "\n",
    "\n",
    "\n",
    "\n",
    "# Re-label Invalid gender rows\n",
    "ok2017['Sex'] = ok2017['Sex'].replace('M', 'F')\n",
    "ok2018['Sex'] = ok2018['Sex'].replace('M', 'F')\n",
    "\n",
    "# Selecting appropriate age groups\n",
    "ok2017 = ok2017.query('Age >= \"01\" & Age <= \"50-54\" | Age == \"99\"')\n",
    "ok2018 = ok2018.query('Age >= \"01\" & Age <= \"50-54\" | Age == \"99\"')\n",
    "\n",
    "\n",
    "# Re-label Race\n",
    "ok2017['Race'].replace('W', 'White', inplace=True)\n",
    "ok2017['Race'].replace('B', 'African American', inplace=True)\n",
    "ok2017['Race'].replace('I', 'Native American', inplace=True)\n",
    "ok2017['Race'].replace('O', 'Other/Unknown', inplace=True)\n",
    "\n",
    "ok2018['Race'].replace('W', 'White', inplace=True)\n",
    "ok2018['Race'].replace('B', 'African American', inplace=True)\n",
    "ok2018['Race'].replace('I', 'Native American', inplace=True)\n",
    "ok2018['Race'].replace('O', 'Other/Unknown', inplace=True)\n",
    "\n",
    "\n",
    "# Keeping admit month as proxy for whether when they developed preeclampsia\n",
    "ok2017.drop(columns=['admit_year', 'admit_day', 'discharge_month', 'discharge_year', 'discharge_day'],\n",
    "            inplace=True)\n",
    "ok2018.drop(columns=['admit_year', 'admit_day', 'discharge_month', 'discharge_year', 'discharge_day'],\n",
    "            inplace=True)\n",
    "\n",
    "# Re-label marriage status\n",
    "ok2017['Marital_status'] = ok2017['Marital_status'].replace('M', 'Married')\n",
    "ok2018['Marital_status'] = ok2018['Marital_status'].replace('M', 'Married')\n",
    "ok2017['Marital_status'] = ok2017['Marital_status'].replace('N', 'Unmarried')\n",
    "ok2018['Marital_status'] = ok2018['Marital_status'].replace('N', 'Unmarried')\n",
    "\n",
    "# A list of relevant columns\n",
    "diagnosisColumns = ['pdx', 'dx1', 'dx2', 'dx3',\n",
    "                    'dx4', 'dx5', 'dx6', 'dx7',\n",
    "                    'dx8', 'dx9', 'dx10', 'dx11',\n",
    "                    'dx12', 'dx13', 'dx14', 'dx15']\n",
    "\n",
    "# Creating a dictionary to hold keys and values\n",
    "diseaseDictionary = {}\n",
    "\n",
    "diseaseDictionary['Obesity'] = ['E66', 'O9921', 'O9981', 'O9984', 'Z683', 'Z684', 'Z713', 'Z9884']\n",
    "diseaseDictionary['Pregnancy resulting from assisted reproductive technology'] = ['O0981']\n",
    "diseaseDictionary['Cocaine dependence'] = ['F14', 'T405']\n",
    "diseaseDictionary['Amphetamine dependence'] = ['F15', 'F19', 'P044', 'T4362']\n",
    "diseaseDictionary['Gestational diabetes mellitus'] = ['O244', 'P700']\n",
    "diseaseDictionary['Pre-existing diabetes mellitus'] = ['E10', 'E11', 'O240', 'O241', 'O243', 'O248', 'O249']\n",
    "diseaseDictionary['Anxiety'] = ['F064', 'F41']\n",
    "diseaseDictionary['Anemia NOS'] = ['D51']\n",
    "diseaseDictionary['Iron deficiency anemia'] = ['D50']\n",
    "diseaseDictionary['Other anemia'] = ['D64', 'D59', 'D489', 'D53', 'O990']\n",
    "diseaseDictionary['Depression'] = ['F32', 'F341', 'F33', 'F0631', 'Z139', 'Z1331', 'Z1332']\n",
    "diseaseDictionary['Primigravidas at the extremes of maternal age'] = ['O095', 'O096']\n",
    "diseaseDictionary['Hemorrhagic disorders due to intrinsic circulating antibodies'] = ['D683']\n",
    "diseaseDictionary['Systemic lupus erythematosus'] = ['M32']\n",
    "diseaseDictionary['Lupus erythematosus'] = ['L93', 'D6862']\n",
    "diseaseDictionary['Autoimmune disease not elsewhere classified'] = ['D89']\n",
    "diseaseDictionary['Pure hypercholesterolemia'] = ['E780']\n",
    "diseaseDictionary['Unspecified vitamin D deficiency'] = ['E55']\n",
    "diseaseDictionary['Proteinuria'] = ['D511', 'N06', 'O121', 'O122', 'R80']\n",
    "diseaseDictionary['Current Smoker'] = ['F172']\n",
    "diseaseDictionary['Hypertension'] = ['G932', 'I10', 'I14', 'I15', 'I272', 'I674', 'I973', 'O10', 'O13',\n",
    "                                     'O16', 'R030']\n",
    "diseaseDictionary['Hypertensive heart disease'] = ['I11']\n",
    "diseaseDictionary['Chronic venous hypertension'] = ['I873']\n",
    "diseaseDictionary['Unspecified renal disease in pregnancy without mention of hypertension'] = ['O2683',\n",
    "                                                                                               'O9089']\n",
    "diseaseDictionary['Chronic kidney disease'] = ['D631', 'E0822', 'E0922', 'E0922', 'E1022', 'E1122', 'E1322',\n",
    "                                               'N18']\n",
    "diseaseDictionary['Hypertensive kidney disease'] = ['I12']\n",
    "diseaseDictionary['Hypertensive heart and chronic kidney disease'] = ['I13']\n",
    "diseaseDictionary['Renal failure not elsewhere classified'] = ['N19']\n",
    "diseaseDictionary['Infections of genitourinary tract in pregnancy'] = ['O23', 'O861', 'O862', 'O868']\n",
    "diseaseDictionary['UTI'] = ['O0338', 'O0388', 'O0488', 'O0788', 'O0883', 'N136', 'N390', 'N99521', 'N99531']\n",
    "diseaseDictionary['Personal history of trophoblastic disease'] = ['Z8759', 'O01']\n",
    "diseaseDictionary['Supervision of high-risk pregnancy with history of trophoblastic disease'] = ['O091']\n",
    "diseaseDictionary['Thrombophilia'] = ['D685', 'D686']\n",
    "diseaseDictionary['History of premature delivery'] = ['Z8751']\n",
    "diseaseDictionary['Hemorrhage in early pregnancy'] = ['O20']\n",
    "diseaseDictionary[\n",
    "    'Congenital abnormalities of the uterus including those complicating pregnancy, childbirth, or the puerperium'] = [\n",
    "    'O34', 'O340']\n",
    "diseaseDictionary['Multiple Gestations'] = ['O30']\n",
    "diseaseDictionary['Fetal Growth Restriction'] = ['P059']\n",
    "diseaseDictionary['Asthma'] = ['J45']\n",
    "\n",
    "diseaseDictionary['Inadequate Prenatal Care'] = ['O093']\n",
    "diseaseDictionary['Periodontal disease'] = ['E08630', 'E09630', 'E10630', 'E11630', '13630', 'K05', 'K06',\n",
    "                                            'K08129']\n",
    "diseaseDictionary['Intrauterine Death'] = ['O364']\n",
    "diseaseDictionary['Obstructive Sleep Apnea'] = ['G4733']\n",
    "diseaseDictionary['Other cardiovascular diseases complicating pregnancy and childbirth or the puerperium'] = [\n",
    "            'O9943']\n",
    "diseaseDictionary['Sickle cell disease'] = ['D57']\n",
    "diseaseDictionary['Thyroid Disease'] = ['E00', 'E01', 'E02', 'E03', 'E04', 'E05', 'E06', 'E07']\n",
    "diseaseDictionary['Preeclampsia/Eclampsia'] = ['O14', 'O15']\n",
    "diseaseDictionary['HELLP'] = ['O142']\n",
    "diseaseDictionary['Stroke'] = ['I60','I61', 'I62','I63','I65','I66','I67','I68','I69']\n",
    "diseaseDictionary['Renal Disease'] = ['N18', 'N28', 'N038', 'N179', 'I12', 'O2683', 'R80', 'O121', 'E0922', 'E1022', 'E1122', 'E1322']\n",
    "diseaseDictionary['Pulmonary Edema'] = ['J81']\n",
    "diseaseDictionary['Acute Heart Failure'] = ['I50']\n",
    "diseaseDictionary['Eclampsia'] = ['O15']\n",
    "\n",
    "diseaseDictionary['Comorbidities'] = ['O142','I60','I61', 'I62','I63','I65','I66','I67','I68','I69','N18',\n",
    "                                      'N28', 'N038', 'N179', 'I12', 'O2683', 'R80', 'O121', 'E0922', 'E1022','J81',\n",
    "                                      'I50','E1122', 'E1322', 'O15' ]\n",
    "\n",
    "diseaseDictionary['Diabetes'] = ['O244', 'P700', 'E10', 'E11', 'O240', 'O241', 'O243', 'O248', 'O249']\n",
    "\n",
    "# Adds Disease column\n",
    "for disease in diseaseDictionary:\n",
    "    ok2017[disease] = 0  # This is how to add columns and default to 0\n",
    "\n",
    "    # Adds Disease column\n",
    "for disease in diseaseDictionary:\n",
    "    ok2018[disease] = 0  # This is how to add columns and default to 0\n",
    "\n",
    "# Filling out the diseases\n",
    "for disease in diseaseDictionary:\n",
    "    for codes in diseaseDictionary[disease]:\n",
    "        for col in diagnosisColumns:\n",
    "            ok2017.loc[ok2017[col].str.startswith(codes, na=False), [disease]] = 1\n",
    "\n",
    "for disease in diseaseDictionary:\n",
    "    for codes in diseaseDictionary[disease]:\n",
    "        for col in diagnosisColumns:\n",
    "            ok2018.loc[ok2018[col].str.startswith(codes, na=False), [disease]] = 1\n",
    "            \n",
    "\n",
    "\n",
    "\n",
    "ok2017.drop(columns=['pdx',\n",
    "                             'dx1', 'dx2', 'dx3', 'dx4', 'dx5', 'dx6', 'dx7',\n",
    "                             'dx8', 'dx9', 'dx10', 'dx11', 'dx12', 'dx13', 'dx14',\n",
    "                             'dx15', 'ppoa', 'poa1', 'poa2', 'poa3', 'poa4',\n",
    "                             'poa5', 'poa6', 'poa7', 'poa8', 'poa9', 'poa10',\n",
    "                             'poa11', 'poa12', 'poa13', 'poa14', 'poa15', 'ppx',\n",
    "                             'px1', 'px2', 'px3', 'px4', 'px5', 'px6', 'px7',\n",
    "                             'px8', 'px9', 'px10', 'px11', 'px12', 'px13', 'px14',\n",
    "                             'px15'], inplace=True)\n",
    "\n",
    "ok2018.drop(columns=['pdx',\n",
    "                     'dx1', 'dx2', 'dx3', 'dx4', 'dx5', 'dx6', 'dx7',\n",
    "                     'dx8', 'dx9', 'dx10', 'dx11', 'dx12', 'dx13', 'dx14',\n",
    "                     'dx15', 'ppoa', 'poa1', 'poa2', 'poa3', 'poa4',\n",
    "                     'poa5', 'poa6', 'poa7', 'poa8', 'poa9', 'poa10',\n",
    "                     'poa11', 'poa12', 'poa13', 'poa14', 'poa15', 'ppx',\n",
    "                     'px1', 'px2', 'px3', 'px4', 'px5', 'px6', 'px7',\n",
    "                     'px8', 'px9', 'px10', 'px11', 'px12', 'px13', 'px14',\n",
    "                     'px15'], inplace=True)\n",
    "    \n",
    "data = ok2017.append(ok2018)"
   ]
  },
  {
   "cell_type": "code",
   "execution_count": 10,
   "metadata": {},
   "outputs": [
    {
     "data": {
      "text/plain": [
       "(42839, 66)"
      ]
     },
     "execution_count": 10,
     "metadata": {},
     "output_type": "execute_result"
    }
   ],
   "source": [
    "ok2017.shape"
   ]
  },
  {
   "cell_type": "code",
   "execution_count": 11,
   "metadata": {},
   "outputs": [
    {
     "data": {
      "text/plain": [
       "(41793, 66)"
      ]
     },
     "execution_count": 11,
     "metadata": {},
     "output_type": "execute_result"
    }
   ],
   "source": [
    "ok2018.shape"
   ]
  },
  {
   "cell_type": "code",
   "execution_count": 5,
   "metadata": {},
   "outputs": [
    {
     "data": {
      "text/plain": [
       "(84632, 108)"
      ]
     },
     "execution_count": 5,
     "metadata": {},
     "output_type": "execute_result"
    }
   ],
   "source": [
    "data.shape"
   ]
  },
  {
   "cell_type": "markdown",
   "metadata": {},
   "source": [
    "# Missingness"
   ]
  },
  {
   "cell_type": "code",
   "execution_count": 16,
   "metadata": {},
   "outputs": [
    {
     "data": {
      "text/plain": [
       "<AxesSubplot:>"
      ]
     },
     "execution_count": 16,
     "metadata": {},
     "output_type": "execute_result"
    },
    {
     "data": {
      "image/png": "[encoded data removed]",
      "text/plain": [
       "<Figure size 1728x720 with 3 Axes>"
      ]
     },
     "metadata": {
      "needs_background": "light"
     },
     "output_type": "display_data"
    }
   ],
   "source": [
    "msno.bar(data.iloc[:,0:11]) "
   ]
  },
  {
   "cell_type": "code",
   "execution_count": 13,
   "metadata": {},
   "outputs": [
    {
     "data": {
      "text/plain": [
       "State                                                                                                            0.008271\n",
       "Zip                                                                                                              0.004726\n",
       "County                                                                                                           0.003545\n",
       "Sex                                                                                                              0.009453\n",
       "Race                                                                                                             0.000000\n",
       "Marital_status                                                                                                  17.741516\n",
       "Age                                                                                                              0.000000\n",
       "admit_month                                                                                                      0.000000\n",
       "Length_of_stay                                                                                                   0.000000\n",
       "Status                                                                                                           0.000000\n",
       "Insurance                                                                                                        0.003545\n",
       "Obesity                                                                                                          0.000000\n",
       "Pregnancy resulting from assisted reproductive technology                                                        0.000000\n",
       "Cocaine dependence                                                                                               0.000000\n",
       "Amphetamine dependence                                                                                           0.000000\n",
       "Gestational diabetes mellitus                                                                                    0.000000\n",
       "Pre-existing diabetes mellitus                                                                                   0.000000\n",
       "Anxiety                                                                                                          0.000000\n",
       "Anemia NOS                                                                                                       0.000000\n",
       "Iron deficiency anemia                                                                                           0.000000\n",
       "Other anemia                                                                                                     0.000000\n",
       "Depression                                                                                                       0.000000\n",
       "Primigravidas at the extremes of maternal age                                                                    0.000000\n",
       "Hemorrhagic disorders due to intrinsic circulating antibodies                                                    0.000000\n",
       "Systemic lupus erythematosus                                                                                     0.000000\n",
       "Lupus erythematosus                                                                                              0.000000\n",
       "Autoimmune disease not elsewhere classified                                                                      0.000000\n",
       "Pure hypercholesterolemia                                                                                        0.000000\n",
       "Unspecified vitamin D deficiency                                                                                 0.000000\n",
       "Proteinuria                                                                                                      0.000000\n",
       "Current Smoker                                                                                                   0.000000\n",
       "Hypertension                                                                                                     0.000000\n",
       "Hypertensive heart disease                                                                                       0.000000\n",
       "Chronic venous hypertension                                                                                      0.000000\n",
       "Unspecified renal disease in pregnancy without mention of hypertension                                           0.000000\n",
       "Chronic kidney disease                                                                                           0.000000\n",
       "Hypertensive kidney disease                                                                                      0.000000\n",
       "Hypertensive heart and chronic kidney disease                                                                    0.000000\n",
       "Renal failure not elsewhere classified                                                                           0.000000\n",
       "Infections of genitourinary tract in pregnancy                                                                   0.000000\n",
       "UTI                                                                                                              0.000000\n",
       "Personal history of trophoblastic disease                                                                        0.000000\n",
       "Supervision of high-risk pregnancy with history of trophoblastic disease                                         0.000000\n",
       "Thrombophilia                                                                                                    0.000000\n",
       "History of premature delivery                                                                                    0.000000\n",
       "Hemorrhage in early pregnancy                                                                                    0.000000\n",
       "Congenital abnormalities of the uterus including those complicating pregnancy, childbirth, or the puerperium     0.000000\n",
       "Multiple Gestations                                                                                              0.000000\n",
       "Fetal Growth Restriction                                                                                         0.000000\n",
       "Asthma                                                                                                           0.000000\n",
       "Inadequate Prenatal Care                                                                                         0.000000\n",
       "Periodontal disease                                                                                              0.000000\n",
       "Intrauterine Death                                                                                               0.000000\n",
       "Obstructive Sleep Apnea                                                                                          0.000000\n",
       "Other cardiovascular diseases complicating pregnancy and childbirth or the puerperium                            0.000000\n",
       "Sickle cell disease                                                                                              0.000000\n",
       "Thyroid Disease                                                                                                  0.000000\n",
       "Preeclampsia/Eclampsia                                                                                           0.000000\n",
       "HELLP                                                                                                            0.000000\n",
       "Stroke                                                                                                           0.000000\n",
       "Renal Disease                                                                                                    0.000000\n",
       "Pulmonary Edema                                                                                                  0.000000\n",
       "Acute Heart Failure                                                                                              0.000000\n",
       "Eclampsia                                                                                                        0.000000\n",
       "Comorbidities                                                                                                    0.000000\n",
       "Diabetes                                                                                                         0.000000\n",
       "dtype: float64"
      ]
     },
     "execution_count": 13,
     "metadata": {},
     "output_type": "execute_result"
    }
   ],
   "source": [
    "data.isnull().sum()/len(data)*100"
   ]
  },
  {
   "cell_type": "markdown",
   "metadata": {},
   "source": [
    "# Exploration"
   ]
  },
  {
   "cell_type": "markdown",
   "metadata": {},
   "source": [
    "## Admit Month Exploration"
   ]
  },
  {
   "cell_type": "code",
   "execution_count": 35,
   "metadata": {},
   "outputs": [],
   "source": [
    "preMonth = data.groupby('admit_month')['Preeclampsia/Eclampsia'].sum()"
   ]
  },
  {
   "cell_type": "code",
   "execution_count": 37,
   "metadata": {},
   "outputs": [
    {
     "data": {
      "text/plain": [
       "admit_month\n",
       "1     412\n",
       "2     331\n",
       "3     384\n",
       "4     356\n",
       "5     450\n",
       "6     381\n",
       "7     405\n",
       "8     441\n",
       "9     394\n",
       "10    394\n",
       "11    383\n",
       "12    390\n",
       "Name: Preeclampsia/Eclampsia, dtype: int64"
      ]
     },
     "execution_count": 37,
     "metadata": {},
     "output_type": "execute_result"
    }
   ],
   "source": [
    "preMonth"
   ]
  },
  {
   "cell_type": "code",
   "execution_count": 19,
   "metadata": {},
   "outputs": [
    {
     "data": {
      "text/plain": [
       "<seaborn.axisgrid.FacetGrid at 0x23386d7eb08>"
      ]
     },
     "execution_count": 19,
     "metadata": {},
     "output_type": "execute_result"
    },
    {
     "data": {
      "image/png": "[encoded data removed]",
      "text/plain": [
       "<Figure size 360x360 with 1 Axes>"
      ]
     },
     "metadata": {
      "needs_background": "light"
     },
     "output_type": "display_data"
    }
   ],
   "source": [
    "sns.catplot(x=\"admit_month\", kind=\"count\", data=data)"
   ]
  },
  {
   "cell_type": "code",
   "execution_count": 23,
   "metadata": {},
   "outputs": [
    {
     "data": {
      "text/plain": [
       "[Text(0.5, 0, 'Admit Month'), Text(0, 0.5, 'Preeclampsia/Eclampsia (%)')]"
      ]
     },
     "execution_count": 23,
     "metadata": {},
     "output_type": "execute_result"
    },
    {
     "data": {
      "image/png": "[encoded data removed]",
      "text/plain": [
       "<Figure size 432x288 with 1 Axes>"
      ]
     },
     "metadata": {
      "needs_background": "light"
     },
     "output_type": "display_data"
    }
   ],
   "source": [
    "admitMonth = (data.groupby('admit_month')['Preeclampsia/Eclampsia'].sum())/data.admit_month.value_counts().sort_index()*100\n",
    "ax = sns.barplot(x=admitMonth.index, y=admitMonth.values)\n",
    "ax.set(xlabel='Admit Month',ylabel='Preeclampsia/Eclampsia (%)')"
   ]
  },
  {
   "cell_type": "markdown",
   "metadata": {},
   "source": [
    "## Age Exploration"
   ]
  },
  {
   "cell_type": "code",
   "execution_count": 22,
   "metadata": {},
   "outputs": [
    {
     "data": {
      "text/plain": [
       "<seaborn.axisgrid.FacetGrid at 0x7f2ee222efd0>"
      ]
     },
     "execution_count": 22,
     "metadata": {},
     "output_type": "execute_result"
    },
    {
     "data": {
      "image/png": "[encoded data removed]",
      "text/plain": [
       "<Figure size 425.125x360 with 1 Axes>"
      ]
     },
     "metadata": {
      "needs_background": "light"
     },
     "output_type": "display_data"
    }
   ],
   "source": [
    "sns.catplot(y=\"Race\", hue=\"Age\", kind=\"count\",\n",
    "            palette=\"pastel\", edgecolor=\".6\",\n",
    "            data=data)"
   ]
  },
  {
   "cell_type": "code",
   "execution_count": 21,
   "metadata": {},
   "outputs": [
    {
     "data": {
      "text/plain": [
       "<seaborn.axisgrid.FacetGrid at 0x7f2eed292430>"
      ]
     },
     "execution_count": 21,
     "metadata": {},
     "output_type": "execute_result"
    },
    {
     "data": {
      "image/png": "[encoded data removed]",
      "text/plain": [
       "<Figure size 1008x360 with 4 Axes>"
      ]
     },
     "metadata": {
      "needs_background": "light"
     },
     "output_type": "display_data"
    }
   ],
   "source": [
    "sns.catplot(y=\"Age\",\n",
    "            col=\"Race\", aspect=.7,\n",
    "            kind=\"count\", data=data)"
   ]
  },
  {
   "cell_type": "code",
   "execution_count": 12,
   "metadata": {},
   "outputs": [
    {
     "data": {
      "text/plain": [
       "<seaborn.axisgrid.FacetGrid at 0x19f49aa61c8>"
      ]
     },
     "execution_count": 12,
     "metadata": {},
     "output_type": "execute_result"
    },
    {
     "data": {
      "image/png": "[encoded data removed]",
      "text/plain": [
       "<Figure size 476.5x360 with 1 Axes>"
      ]
     },
     "metadata": {
      "needs_background": "light"
     },
     "output_type": "display_data"
    }
   ],
   "source": [
    "sns.displot(data,x='Race',hue=\"Insurance\",stat='density' )"
   ]
  },
  {
   "cell_type": "code",
   "execution_count": 4,
   "metadata": {},
   "outputs": [],
   "source": []
  },
  {
   "cell_type": "code",
   "execution_count": 43,
   "metadata": {},
   "outputs": [
    {
     "data": {
      "text/plain": [
       "Index(['10-14', '15-19', '20-24', '25-29', '30-34', '35-39', '40-44', '45-49',\n",
       "       '50-54'],\n",
       "      dtype='object')"
      ]
     },
     "execution_count": 43,
     "metadata": {},
     "output_type": "execute_result"
    }
   ],
   "source": [
    "ageGroup.index"
   ]
  },
  {
   "cell_type": "code",
   "execution_count": 54,
   "metadata": {},
   "outputs": [
    {
     "data": {
      "text/plain": [
       "25-29    26708\n",
       "20-24    21831\n",
       "30-34    20115\n",
       "35-39     8164\n",
       "15-19     6192\n",
       "40-44     1458\n",
       "45-49       84\n",
       "10-14       71\n",
       "50-54        9\n",
       "Name: Age, dtype: int64"
      ]
     },
     "execution_count": 54,
     "metadata": {},
     "output_type": "execute_result"
    }
   ],
   "source": [
    "data.Age.value_counts()"
   ]
  },
  {
   "cell_type": "code",
   "execution_count": 27,
   "metadata": {},
   "outputs": [
    {
     "data": {
      "image/png": "[encoded data removed]",
      "text/plain": [
       "<Figure size 432x288 with 1 Axes>"
      ]
     },
     "metadata": {
      "needs_background": "light"
     },
     "output_type": "display_data"
    }
   ],
   "source": [
    "category_order = ['10-14', '15-19', '20-24', '25-29', '30-34','35-39','40-44','45-49','50-54']\n",
    "ageGroup = (data.groupby('Age')['Preeclampsia/Eclampsia'].sum())/data.Age.value_counts()*100\n",
    "ax = sns.barplot(x=ageGroup.index, y=ageGroup.values, color='cornflowerblue')\n",
    "ax.set(xlabel='Age Groups',ylabel='Preeclampsia (%)')\n",
    "plt.savefig('agemapOklahoma.png', dpi=400, bbox_inches = \"tight\")"
   ]
  },
  {
   "cell_type": "code",
   "execution_count": 17,
   "metadata": {},
   "outputs": [
    {
     "data": {
      "text/plain": [
       "<seaborn.axisgrid.FacetGrid at 0x7fd8317f9430>"
      ]
     },
     "execution_count": 17,
     "metadata": {},
     "output_type": "execute_result"
    },
    {
     "data": {
      "image/png": "[encoded data removed]",
      "text/plain": [
       "<Figure size 360x360 with 1 Axes>"
      ]
     },
     "metadata": {
      "needs_background": "light"
     },
     "output_type": "display_data"
    }
   ],
   "source": [
    "sns.catplot(x='Race', data=data, kind='count')"
   ]
  },
  {
   "cell_type": "code",
   "execution_count": 14,
   "metadata": {},
   "outputs": [
    {
     "data": {
      "text/plain": [
       "<seaborn.axisgrid.FacetGrid at 0x19f02ddd0c8>"
      ]
     },
     "execution_count": 14,
     "metadata": {},
     "output_type": "execute_result"
    },
    {
     "data": {
      "image/png": "[encoded data removed]",
      "text/plain": [
       "<Figure size 476.5x360 with 1 Axes>"
      ]
     },
     "metadata": {
      "needs_background": "light"
     },
     "output_type": "display_data"
    }
   ],
   "source": [
    "sns.catplot(y=\"Race\", hue=\"Insurance\", kind=\"count\", edgecolor=\".6\",\n",
    "            data=data)"
   ]
  },
  {
   "cell_type": "code",
   "execution_count": 57,
   "metadata": {},
   "outputs": [],
   "source": [
    "Insurance = (data.groupby('Insurance')['Preeclampsia/Eclampsia'].sum())/data.Insurance.value_counts()*100"
   ]
  },
  {
   "cell_type": "code",
   "execution_count": 60,
   "metadata": {},
   "outputs": [
    {
     "data": {
      "image/png": "[encoded data removed]",
      "text/plain": [
       "<Figure size 432x288 with 1 Axes>"
      ]
     },
     "metadata": {
      "needs_background": "light"
     },
     "output_type": "display_data"
    }
   ],
   "source": [
    "ax = sns.barplot(x=Insurance.index, y=Insurance.values)\n",
    "ax.set(xlabel='Insurance Groups',ylabel='Percent with Preeclampsia')\n",
    "plt.savefig('InsuranceOklahoma.png', dpi=400, bbox_inches = \"tight\")"
   ]
  },
  {
   "cell_type": "code",
   "execution_count": 40,
   "metadata": {},
   "outputs": [
    {
     "data": {
      "text/plain": [
       "<seaborn.axisgrid.FacetGrid at 0x7fd826799610>"
      ]
     },
     "execution_count": 40,
     "metadata": {},
     "output_type": "execute_result"
    },
    {
     "data": {
      "image/png": "[encoded data removed]",
      "text/plain": [
       "<Figure size 360x360 with 1 Axes>"
      ]
     },
     "metadata": {
      "needs_background": "light"
     },
     "output_type": "display_data"
    }
   ],
   "source": [
    "sns.catplot(x='Insurance', y='Preeclampsia/Eclampsia', kind='bar', data=data, ci=None)"
   ]
  },
  {
   "cell_type": "code",
   "execution_count": 63,
   "metadata": {},
   "outputs": [
    {
     "data": {
      "image/png": "[encoded data removed]",
      "text/plain": [
       "<Figure size 432x288 with 1 Axes>"
      ]
     },
     "metadata": {
      "needs_background": "light"
     },
     "output_type": "display_data"
    }
   ],
   "source": [
    "Insurance = (data.groupby('Race')['Comorbidities'].sum())/data.Race.value_counts()*100\n",
    "ax = sns.barplot(x=Insurance.index, y=Insurance.values)\n",
    "ax.set(xlabel='Race',ylabel='Percent with Comorbidities')\n",
    "plt.savefig('ComorbiditiesOklahoma.png', dpi=400, bbox_inches = \"tight\")"
   ]
  },
  {
   "cell_type": "code",
   "execution_count": 7,
   "metadata": {
    "scrolled": true
   },
   "outputs": [
    {
     "data": {
      "image/png": "[encoded data removed]",
      "text/plain": [
       "<Figure size 432x288 with 1 Axes>"
      ]
     },
     "metadata": {
      "needs_background": "light"
     },
     "output_type": "display_data"
    }
   ],
   "source": [
    "sns.set_palette(\"Blues_r\")\n",
    "Insurance = (data.groupby('Race')['Preeclampsia/Eclampsia'].sum())/data.Race.value_counts()*100\n",
    "ax = sns.barplot(x=Insurance.values, y=Insurance.index, color='cornflowerblue')\n",
    "ax.set(xlabel='Preeclampsia (%)',ylabel='Race')\n",
    "plt.savefig('RacePreeclampsiaOklahoma.png', dpi=400, bbox_inches = \"tight\")"
   ]
  },
  {
   "cell_type": "code",
   "execution_count": 29,
   "metadata": {
    "scrolled": true
   },
   "outputs": [
    {
     "data": {
      "image/png": "[encoded data removed]",
      "text/plain": [
       "<Figure size 432x288 with 1 Axes>"
      ]
     },
     "metadata": {
      "needs_background": "light"
     },
     "output_type": "display_data"
    }
   ],
   "source": [
    "sns.set_palette(\"Blues_r\")\n",
    "marriage = (data.groupby('Marital_status')['Preeclampsia/Eclampsia'].sum())/data.Marital_status.value_counts()*100\n",
    "ax = sns.barplot(x=marriage.index, y=marriage.values)\n",
    "ax.set(xlabel='Marital Status',ylabel='Preeclampsia (%)')\n",
    "plt.savefig('MSPreeclampsiaOklahoma.png', dpi=400, bbox_inches = \"tight\")"
   ]
  },
  {
   "cell_type": "code",
   "execution_count": 14,
   "metadata": {},
   "outputs": [
    {
     "data": {
      "image/png": "[encoded data removed]",
      "text/plain": [
       "<Figure size 432x288 with 1 Axes>"
      ]
     },
     "metadata": {
      "needs_background": "light"
     },
     "output_type": "display_data"
    }
   ],
   "source": [
    "sns.set_palette(\"Blues_r\")\n",
    "Obesity = (data.groupby('Obesity')['Preeclampsia/Eclampsia'].sum())/data.Obesity.value_counts()*100\n",
    "ax = sns.barplot(x=Obesity.index, y=Obesity.values, color='cornflowerblue')\n",
    "ax.set(xlabel ='Patient Status',ylabel='Preeclampsia (%)')\n",
    "ax.set_xticklabels(['Non-Obese','Obese'])\n",
    "plt.savefig('ObesityPreeclampsiaOklahoma.png', dpi=400, bbox_inches = \"tight\")"
   ]
  },
  {
   "cell_type": "code",
   "execution_count": 19,
   "metadata": {},
   "outputs": [
    {
     "data": {
      "image/png": "[encoded data removed]",
      "text/plain": [
       "<Figure size 432x288 with 1 Axes>"
      ]
     },
     "metadata": {
      "needs_background": "light"
     },
     "output_type": "display_data"
    }
   ],
   "source": [
    "sns.set_palette(\"Blues_r\")\n",
    "Diabetes = (data.groupby('Diabetes')['Preeclampsia/Eclampsia'].sum())/data.Diabetes.value_counts()*100\n",
    "ax = sns.barplot(x=Diabetes.index, y=Diabetes.values, color='cornflowerblue')\n",
    "ax.set(xlabel ='Patient Status',ylabel='Preeclampsia (%)')\n",
    "ax.set_xticklabels(['Non-diabetic','Diabetic'])\n",
    "plt.savefig('DiabetesPreeclampsiaOklahoma.png', dpi=400, bbox_inches = \"tight\")"
   ]
  },
  {
   "cell_type": "code",
   "execution_count": 20,
   "metadata": {},
   "outputs": [
    {
     "data": {
      "text/plain": [
       "<seaborn.axisgrid.FacetGrid at 0x19f606a3748>"
      ]
     },
     "execution_count": 20,
     "metadata": {},
     "output_type": "execute_result"
    },
    {
     "data": {
      "image/png": "[encoded data removed]",
      "text/plain": [
       "<Figure size 360x360 with 1 Axes>"
      ]
     },
     "metadata": {
      "needs_background": "light"
     },
     "output_type": "display_data"
    }
   ],
   "source": [
    "sns.catplot(x='Race', y='Comorbidities', kind='bar', data=data)"
   ]
  },
  {
   "cell_type": "code",
   "execution_count": 21,
   "metadata": {},
   "outputs": [
    {
     "data": {
      "text/plain": [
       "White               55815\n",
       "Other/Unknown       14864\n",
       "African American     8510\n",
       "Native American      5443\n",
       "Name: Race, dtype: int64"
      ]
     },
     "execution_count": 21,
     "metadata": {},
     "output_type": "execute_result"
    }
   ],
   "source": [
    "data.Race.value_counts()"
   ]
  },
  {
   "cell_type": "code",
   "execution_count": 19,
   "metadata": {},
   "outputs": [
    {
     "data": {
      "text/plain": [
       "Race\n",
       "African American     13\n",
       "Native American      17\n",
       "Other/Unknown        34\n",
       "White               143\n",
       "Name: HELLP, dtype: int64"
      ]
     },
     "execution_count": 19,
     "metadata": {},
     "output_type": "execute_result"
    }
   ],
   "source": [
    "# Comorbidities = HELP, Stroke, Renal Disease, Pulmonary Edema, Acute Heart Failure, and Eclampsia?\n",
    "data.groupby('Race')['HELLP'].sum()"
   ]
  },
  {
   "cell_type": "code",
   "execution_count": 4,
   "metadata": {},
   "outputs": [
    {
     "ename": "NameError",
     "evalue": "name 'data' is not defined",
     "output_type": "error",
     "traceback": [
      "\u001b[1;31m---------------------------------------------------------------------------\u001b[0m",
      "\u001b[1;31mNameError\u001b[0m                                 Traceback (most recent call last)",
      "\u001b[1;32m<ipython-input-4-35c4e0a3fee0>\u001b[0m in \u001b[0;36m<module>\u001b[1;34m\u001b[0m\n\u001b[1;32m----> 1\u001b[1;33m test = data.groupby(['Race']).agg({'HELLP': lambda x: x.mean() *100,\n\u001b[0m\u001b[0;32m      2\u001b[0m                                     \u001b[1;34m'Stroke'\u001b[0m\u001b[1;33m:\u001b[0m\u001b[1;32mlambda\u001b[0m \u001b[0mx\u001b[0m\u001b[1;33m:\u001b[0m \u001b[0mx\u001b[0m\u001b[1;33m.\u001b[0m\u001b[0mmean\u001b[0m\u001b[1;33m(\u001b[0m\u001b[1;33m)\u001b[0m \u001b[1;33m*\u001b[0m\u001b[1;36m100\u001b[0m\u001b[1;33m,\u001b[0m\u001b[1;33m\u001b[0m\u001b[1;33m\u001b[0m\u001b[0m\n\u001b[0;32m      3\u001b[0m                                    \u001b[1;34m'Pulmonary Edema'\u001b[0m\u001b[1;33m:\u001b[0m \u001b[1;32mlambda\u001b[0m \u001b[0mx\u001b[0m\u001b[1;33m:\u001b[0m \u001b[0mx\u001b[0m\u001b[1;33m.\u001b[0m\u001b[0mmean\u001b[0m\u001b[1;33m(\u001b[0m\u001b[1;33m)\u001b[0m \u001b[1;33m*\u001b[0m\u001b[1;36m100\u001b[0m\u001b[1;33m,\u001b[0m\u001b[1;33m\u001b[0m\u001b[1;33m\u001b[0m\u001b[0m\n\u001b[0;32m      4\u001b[0m                                    \u001b[1;34m'Acute Heart Failure'\u001b[0m \u001b[1;33m:\u001b[0m\u001b[1;32mlambda\u001b[0m \u001b[0mx\u001b[0m\u001b[1;33m:\u001b[0m \u001b[0mx\u001b[0m\u001b[1;33m.\u001b[0m\u001b[0mmean\u001b[0m\u001b[1;33m(\u001b[0m\u001b[1;33m)\u001b[0m \u001b[1;33m*\u001b[0m\u001b[1;36m100\u001b[0m\u001b[1;33m,\u001b[0m\u001b[1;33m\u001b[0m\u001b[1;33m\u001b[0m\u001b[0m\n\u001b[0;32m      5\u001b[0m                                    \u001b[1;34m'Eclampsia'\u001b[0m\u001b[1;33m:\u001b[0m \u001b[1;32mlambda\u001b[0m \u001b[0mx\u001b[0m\u001b[1;33m:\u001b[0m \u001b[0mx\u001b[0m\u001b[1;33m.\u001b[0m\u001b[0mmean\u001b[0m\u001b[1;33m(\u001b[0m\u001b[1;33m)\u001b[0m \u001b[1;33m*\u001b[0m\u001b[1;36m100\u001b[0m\u001b[1;33m\u001b[0m\u001b[1;33m\u001b[0m\u001b[0m\n",
      "\u001b[1;31mNameError\u001b[0m: name 'data' is not defined"
     ]
    }
   ],
   "source": [
    "test = data.groupby(['Race']).agg({'HELLP': lambda x: x.mean() *100,\n",
    "                                    'Stroke':lambda x: x.mean() *100,\n",
    "                                   'Pulmonary Edema': lambda x: x.mean() *100,\n",
    "                                   'Acute Heart Failure' :lambda x: x.mean() *100,\n",
    "                                   'Eclampsia': lambda x: x.mean() *100\n",
    "                                             })"
   ]
  },
  {
   "cell_type": "code",
   "execution_count": 17,
   "metadata": {},
   "outputs": [
    {
     "data": {
      "text/html": [
       "<div>\n",
       "<style scoped>\n",
       "    .dataframe tbody tr th:only-of-type {\n",
       "        vertical-align: middle;\n",
       "    }\n",
       "\n",
       "    .dataframe tbody tr th {\n",
       "        vertical-align: top;\n",
       "    }\n",
       "\n",
       "    .dataframe thead th {\n",
       "        text-align: right;\n",
       "    }\n",
       "</style>\n",
       "<table border=\"1\" class=\"dataframe\">\n",
       "  <thead>\n",
       "    <tr style=\"text-align: right;\">\n",
       "      <th></th>\n",
       "      <th>HELLP</th>\n",
       "      <th>Stroke</th>\n",
       "      <th>Pulmonary Edema</th>\n",
       "      <th>Acute Heart Failure</th>\n",
       "      <th>Eclampsia</th>\n",
       "    </tr>\n",
       "    <tr>\n",
       "      <th>Race</th>\n",
       "      <th></th>\n",
       "      <th></th>\n",
       "      <th></th>\n",
       "      <th></th>\n",
       "      <th></th>\n",
       "    </tr>\n",
       "  </thead>\n",
       "  <tbody>\n",
       "    <tr>\n",
       "      <th>African American</th>\n",
       "      <td>0.152761</td>\n",
       "      <td>0.023502</td>\n",
       "      <td>0.023502</td>\n",
       "      <td>0.094007</td>\n",
       "      <td>0.246769</td>\n",
       "    </tr>\n",
       "    <tr>\n",
       "      <th>Native American</th>\n",
       "      <td>0.312328</td>\n",
       "      <td>0.018372</td>\n",
       "      <td>0.073489</td>\n",
       "      <td>0.000000</td>\n",
       "      <td>0.165350</td>\n",
       "    </tr>\n",
       "    <tr>\n",
       "      <th>Other/Unknown</th>\n",
       "      <td>0.228741</td>\n",
       "      <td>0.047094</td>\n",
       "      <td>0.013455</td>\n",
       "      <td>0.026911</td>\n",
       "      <td>0.121098</td>\n",
       "    </tr>\n",
       "    <tr>\n",
       "      <th>White</th>\n",
       "      <td>0.256204</td>\n",
       "      <td>0.019708</td>\n",
       "      <td>0.050166</td>\n",
       "      <td>0.026874</td>\n",
       "      <td>0.121831</td>\n",
       "    </tr>\n",
       "  </tbody>\n",
       "</table>\n",
       "</div>"
      ],
      "text/plain": [
       "                     HELLP    Stroke  Pulmonary Edema  Acute Heart Failure  \\\n",
       "Race                                                                         \n",
       "African American  0.152761  0.023502         0.023502             0.094007   \n",
       "Native American   0.312328  0.018372         0.073489             0.000000   \n",
       "Other/Unknown     0.228741  0.047094         0.013455             0.026911   \n",
       "White             0.256204  0.019708         0.050166             0.026874   \n",
       "\n",
       "                  Eclampsia  \n",
       "Race                         \n",
       "African American   0.246769  \n",
       "Native American    0.165350  \n",
       "Other/Unknown      0.121098  \n",
       "White              0.121831  "
      ]
     },
     "execution_count": 17,
     "metadata": {},
     "output_type": "execute_result"
    }
   ],
   "source": [
    "test"
   ]
  },
  {
   "cell_type": "code",
   "execution_count": 22,
   "metadata": {},
   "outputs": [
    {
     "data": {
      "text/plain": [
       "27"
      ]
     },
     "execution_count": 22,
     "metadata": {},
     "output_type": "execute_result"
    }
   ],
   "source": [
    "data['Acute Heart Failure'].sum()"
   ]
  },
  {
   "cell_type": "code",
   "execution_count": 23,
   "metadata": {},
   "outputs": [
    {
     "data": {
      "text/plain": [
       "84632"
      ]
     },
     "execution_count": 23,
     "metadata": {},
     "output_type": "execute_result"
    }
   ],
   "source": [
    "len(data)"
   ]
  },
  {
   "cell_type": "code",
   "execution_count": null,
   "metadata": {},
   "outputs": [],
   "source": [
    "# Draw a nested barplot by species and sex\n",
    "g = sns.catplot(\n",
    "    data=test, kind=\"bar\",\n",
    "    x=\"Race\", y=\"body_mass_g\", hue=\"sex\",\n",
    "    ci=\"sd\", palette=\"dark\", alpha=.6, height=6\n",
    ")\n",
    "g.despine(left=True)\n",
    "g.set_axis_labels(\"\", \"Body mass (g)\")\n",
    "g.legend.set_title(\"\")\n"
   ]
  },
  {
   "cell_type": "code",
   "execution_count": 29,
   "metadata": {
    "scrolled": true
   },
   "outputs": [
    {
     "data": {
      "text/plain": [
       "<seaborn.axisgrid.FacetGrid at 0x7fd832f02eb0>"
      ]
     },
     "execution_count": 29,
     "metadata": {},
     "output_type": "execute_result"
    },
    {
     "data": {
      "image/png": "[encoded data removed]",
      "text/plain": [
       "<Figure size 488.875x360 with 1 Axes>"
      ]
     },
     "metadata": {
      "needs_background": "light"
     },
     "output_type": "display_data"
    }
   ],
   "source": [
    "sns.displot(x='Race', hue='Preeclampsia/Eclampsia',kind='hist', data=data,stat='density')"
   ]
  },
  {
   "cell_type": "code",
   "execution_count": 39,
   "metadata": {},
   "outputs": [
    {
     "ename": "ValueError",
     "evalue": "Length mismatch: Expected axis has 84625 elements, new values have 84632 elements",
     "output_type": "error",
     "traceback": [
      "\u001b[0;31m---------------------------------------------------------------------------\u001b[0m",
      "\u001b[0;31mValueError\u001b[0m                                Traceback (most recent call last)",
      "\u001b[0;32m<ipython-input-39-e3a703151f0c>\u001b[0m in \u001b[0;36m<module>\u001b[0;34m\u001b[0m\n\u001b[1;32m      3\u001b[0m \u001b[0;32mfor\u001b[0m \u001b[0mi\u001b[0m\u001b[0;34m,\u001b[0m \u001b[0mcol\u001b[0m \u001b[0;32min\u001b[0m \u001b[0menumerate\u001b[0m\u001b[0;34m(\u001b[0m\u001b[0mdata\u001b[0m\u001b[0;34m.\u001b[0m\u001b[0mcolumns\u001b[0m\u001b[0;34m)\u001b[0m\u001b[0;34m:\u001b[0m\u001b[0;34m\u001b[0m\u001b[0;34m\u001b[0m\u001b[0m\n\u001b[1;32m      4\u001b[0m    \u001b[0;31m# PERCENT COLUMN CALCULATION\u001b[0m\u001b[0;34m\u001b[0m\u001b[0;34m\u001b[0m\u001b[0;34m\u001b[0m\u001b[0m\n\u001b[0;32m----> 5\u001b[0;31m    \u001b[0mdata\u001b[0m\u001b[0;34m[\u001b[0m\u001b[0mcol\u001b[0m\u001b[0;34m+\u001b[0m\u001b[0;34m'_pct'\u001b[0m\u001b[0;34m]\u001b[0m \u001b[0;34m=\u001b[0m \u001b[0mdata\u001b[0m\u001b[0;34m.\u001b[0m\u001b[0mgroupby\u001b[0m\u001b[0;34m(\u001b[0m\u001b[0;34m[\u001b[0m\u001b[0;34m'Preeclampsia/Eclampsia'\u001b[0m\u001b[0;34m,\u001b[0m \u001b[0mcol\u001b[0m\u001b[0;34m]\u001b[0m\u001b[0;34m)\u001b[0m\u001b[0;34m[\u001b[0m\u001b[0mcol\u001b[0m\u001b[0;34m]\u001b[0m\u001b[0;34m.\u001b[0m\u001b[0mtransform\u001b[0m\u001b[0;34m(\u001b[0m\u001b[0;32mlambda\u001b[0m \u001b[0mx\u001b[0m\u001b[0;34m:\u001b[0m \u001b[0mlen\u001b[0m\u001b[0;34m(\u001b[0m\u001b[0mx\u001b[0m\u001b[0;34m)\u001b[0m\u001b[0;34m)\u001b[0m \u001b[0;34m/\u001b[0m \u001b[0mlen\u001b[0m\u001b[0;34m(\u001b[0m\u001b[0mdata\u001b[0m\u001b[0;34m)\u001b[0m\u001b[0;34m\u001b[0m\u001b[0;34m\u001b[0m\u001b[0m\n\u001b[0m\u001b[1;32m      6\u001b[0m \u001b[0;34m\u001b[0m\u001b[0m\n\u001b[1;32m      7\u001b[0m    \u001b[0;31m#plt.subplot(8, 2, i+1)\u001b[0m\u001b[0;34m\u001b[0m\u001b[0;34m\u001b[0m\u001b[0;34m\u001b[0m\u001b[0m\n",
      "\u001b[0;32m~/anaconda3/lib/python3.8/site-packages/pandas/core/groupby/generic.py\u001b[0m in \u001b[0;36mtransform\u001b[0;34m(self, func, engine, engine_kwargs, *args, **kwargs)\u001b[0m\n\u001b[1;32m    505\u001b[0m \u001b[0;34m\u001b[0m\u001b[0m\n\u001b[1;32m    506\u001b[0m         \u001b[0;32mif\u001b[0m \u001b[0;32mnot\u001b[0m \u001b[0misinstance\u001b[0m\u001b[0;34m(\u001b[0m\u001b[0mfunc\u001b[0m\u001b[0;34m,\u001b[0m \u001b[0mstr\u001b[0m\u001b[0;34m)\u001b[0m\u001b[0;34m:\u001b[0m\u001b[0;34m\u001b[0m\u001b[0;34m\u001b[0m\u001b[0m\n\u001b[0;32m--> 507\u001b[0;31m             \u001b[0;32mreturn\u001b[0m \u001b[0mself\u001b[0m\u001b[0;34m.\u001b[0m\u001b[0m_transform_general\u001b[0m\u001b[0;34m(\u001b[0m\u001b[0mfunc\u001b[0m\u001b[0;34m,\u001b[0m \u001b[0;34m*\u001b[0m\u001b[0margs\u001b[0m\u001b[0;34m,\u001b[0m \u001b[0;34m**\u001b[0m\u001b[0mkwargs\u001b[0m\u001b[0;34m)\u001b[0m\u001b[0;34m\u001b[0m\u001b[0;34m\u001b[0m\u001b[0m\n\u001b[0m\u001b[1;32m    508\u001b[0m \u001b[0;34m\u001b[0m\u001b[0m\n\u001b[1;32m    509\u001b[0m         \u001b[0;32melif\u001b[0m \u001b[0mfunc\u001b[0m \u001b[0;32mnot\u001b[0m \u001b[0;32min\u001b[0m \u001b[0mbase\u001b[0m\u001b[0;34m.\u001b[0m\u001b[0mtransform_kernel_allowlist\u001b[0m\u001b[0;34m:\u001b[0m\u001b[0;34m\u001b[0m\u001b[0;34m\u001b[0m\u001b[0m\n",
      "\u001b[0;32m~/anaconda3/lib/python3.8/site-packages/pandas/core/groupby/generic.py\u001b[0m in \u001b[0;36m_transform_general\u001b[0;34m(self, func, *args, **kwargs)\u001b[0m\n\u001b[1;32m    542\u001b[0m \u001b[0;34m\u001b[0m\u001b[0m\n\u001b[1;32m    543\u001b[0m             \u001b[0mconcatenated\u001b[0m \u001b[0;34m=\u001b[0m \u001b[0mconcat\u001b[0m\u001b[0;34m(\u001b[0m\u001b[0mresults\u001b[0m\u001b[0;34m)\u001b[0m\u001b[0;34m\u001b[0m\u001b[0;34m\u001b[0m\u001b[0m\n\u001b[0;32m--> 544\u001b[0;31m             \u001b[0mresult\u001b[0m \u001b[0;34m=\u001b[0m \u001b[0mself\u001b[0m\u001b[0;34m.\u001b[0m\u001b[0m_set_result_index_ordered\u001b[0m\u001b[0;34m(\u001b[0m\u001b[0mconcatenated\u001b[0m\u001b[0;34m)\u001b[0m\u001b[0;34m\u001b[0m\u001b[0;34m\u001b[0m\u001b[0m\n\u001b[0m\u001b[1;32m    545\u001b[0m         \u001b[0;32melse\u001b[0m\u001b[0;34m:\u001b[0m\u001b[0;34m\u001b[0m\u001b[0;34m\u001b[0m\u001b[0m\n\u001b[1;32m    546\u001b[0m             \u001b[0mresult\u001b[0m \u001b[0;34m=\u001b[0m \u001b[0mself\u001b[0m\u001b[0;34m.\u001b[0m\u001b[0mobj\u001b[0m\u001b[0;34m.\u001b[0m\u001b[0m_constructor\u001b[0m\u001b[0;34m(\u001b[0m\u001b[0mdtype\u001b[0m\u001b[0;34m=\u001b[0m\u001b[0mnp\u001b[0m\u001b[0;34m.\u001b[0m\u001b[0mfloat64\u001b[0m\u001b[0;34m)\u001b[0m\u001b[0;34m\u001b[0m\u001b[0;34m\u001b[0m\u001b[0m\n",
      "\u001b[0;32m~/anaconda3/lib/python3.8/site-packages/pandas/core/groupby/groupby.py\u001b[0m in \u001b[0;36m_set_result_index_ordered\u001b[0;34m(self, result)\u001b[0m\n\u001b[1;32m    737\u001b[0m             \u001b[0mresult\u001b[0m \u001b[0;34m=\u001b[0m \u001b[0mresult\u001b[0m\u001b[0;34m.\u001b[0m\u001b[0msort_index\u001b[0m\u001b[0;34m(\u001b[0m\u001b[0maxis\u001b[0m\u001b[0;34m=\u001b[0m\u001b[0mself\u001b[0m\u001b[0;34m.\u001b[0m\u001b[0maxis\u001b[0m\u001b[0;34m)\u001b[0m\u001b[0;34m\u001b[0m\u001b[0;34m\u001b[0m\u001b[0m\n\u001b[1;32m    738\u001b[0m \u001b[0;34m\u001b[0m\u001b[0m\n\u001b[0;32m--> 739\u001b[0;31m         \u001b[0mresult\u001b[0m\u001b[0;34m.\u001b[0m\u001b[0mset_axis\u001b[0m\u001b[0;34m(\u001b[0m\u001b[0mself\u001b[0m\u001b[0;34m.\u001b[0m\u001b[0mobj\u001b[0m\u001b[0;34m.\u001b[0m\u001b[0m_get_axis\u001b[0m\u001b[0;34m(\u001b[0m\u001b[0mself\u001b[0m\u001b[0;34m.\u001b[0m\u001b[0maxis\u001b[0m\u001b[0;34m)\u001b[0m\u001b[0;34m,\u001b[0m \u001b[0maxis\u001b[0m\u001b[0;34m=\u001b[0m\u001b[0mself\u001b[0m\u001b[0;34m.\u001b[0m\u001b[0maxis\u001b[0m\u001b[0;34m,\u001b[0m \u001b[0minplace\u001b[0m\u001b[0;34m=\u001b[0m\u001b[0;32mTrue\u001b[0m\u001b[0;34m)\u001b[0m\u001b[0;34m\u001b[0m\u001b[0;34m\u001b[0m\u001b[0m\n\u001b[0m\u001b[1;32m    740\u001b[0m         \u001b[0;32mreturn\u001b[0m \u001b[0mresult\u001b[0m\u001b[0;34m\u001b[0m\u001b[0;34m\u001b[0m\u001b[0m\n\u001b[1;32m    741\u001b[0m \u001b[0;34m\u001b[0m\u001b[0m\n",
      "\u001b[0;32m~/anaconda3/lib/python3.8/site-packages/pandas/core/series.py\u001b[0m in \u001b[0;36mset_axis\u001b[0;34m(self, labels, axis, inplace)\u001b[0m\n\u001b[1;32m   4303\u001b[0m     \u001b[0;34m@\u001b[0m\u001b[0mAppender\u001b[0m\u001b[0;34m(\u001b[0m\u001b[0mgeneric\u001b[0m\u001b[0;34m.\u001b[0m\u001b[0mNDFrame\u001b[0m\u001b[0;34m.\u001b[0m\u001b[0mset_axis\u001b[0m\u001b[0;34m.\u001b[0m\u001b[0m__doc__\u001b[0m\u001b[0;34m)\u001b[0m\u001b[0;34m\u001b[0m\u001b[0;34m\u001b[0m\u001b[0m\n\u001b[1;32m   4304\u001b[0m     \u001b[0;32mdef\u001b[0m \u001b[0mset_axis\u001b[0m\u001b[0;34m(\u001b[0m\u001b[0mself\u001b[0m\u001b[0;34m,\u001b[0m \u001b[0mlabels\u001b[0m\u001b[0;34m,\u001b[0m \u001b[0maxis\u001b[0m\u001b[0;34m:\u001b[0m \u001b[0mAxis\u001b[0m \u001b[0;34m=\u001b[0m \u001b[0;36m0\u001b[0m\u001b[0;34m,\u001b[0m \u001b[0minplace\u001b[0m\u001b[0;34m:\u001b[0m \u001b[0mbool\u001b[0m \u001b[0;34m=\u001b[0m \u001b[0;32mFalse\u001b[0m\u001b[0;34m)\u001b[0m\u001b[0;34m:\u001b[0m\u001b[0;34m\u001b[0m\u001b[0;34m\u001b[0m\u001b[0m\n\u001b[0;32m-> 4305\u001b[0;31m         \u001b[0;32mreturn\u001b[0m \u001b[0msuper\u001b[0m\u001b[0;34m(\u001b[0m\u001b[0;34m)\u001b[0m\u001b[0;34m.\u001b[0m\u001b[0mset_axis\u001b[0m\u001b[0;34m(\u001b[0m\u001b[0mlabels\u001b[0m\u001b[0;34m,\u001b[0m \u001b[0maxis\u001b[0m\u001b[0;34m=\u001b[0m\u001b[0maxis\u001b[0m\u001b[0;34m,\u001b[0m \u001b[0minplace\u001b[0m\u001b[0;34m=\u001b[0m\u001b[0minplace\u001b[0m\u001b[0;34m)\u001b[0m\u001b[0;34m\u001b[0m\u001b[0;34m\u001b[0m\u001b[0m\n\u001b[0m\u001b[1;32m   4306\u001b[0m \u001b[0;34m\u001b[0m\u001b[0m\n\u001b[1;32m   4307\u001b[0m     @doc(\n",
      "\u001b[0;32m~/anaconda3/lib/python3.8/site-packages/pandas/core/generic.py\u001b[0m in \u001b[0;36mset_axis\u001b[0;34m(self, labels, axis, inplace)\u001b[0m\n\u001b[1;32m    653\u001b[0m         \"\"\"\n\u001b[1;32m    654\u001b[0m         \u001b[0mself\u001b[0m\u001b[0;34m.\u001b[0m\u001b[0m_check_inplace_and_allows_duplicate_labels\u001b[0m\u001b[0;34m(\u001b[0m\u001b[0minplace\u001b[0m\u001b[0;34m)\u001b[0m\u001b[0;34m\u001b[0m\u001b[0;34m\u001b[0m\u001b[0m\n\u001b[0;32m--> 655\u001b[0;31m         \u001b[0;32mreturn\u001b[0m \u001b[0mself\u001b[0m\u001b[0;34m.\u001b[0m\u001b[0m_set_axis_nocheck\u001b[0m\u001b[0;34m(\u001b[0m\u001b[0mlabels\u001b[0m\u001b[0;34m,\u001b[0m \u001b[0maxis\u001b[0m\u001b[0;34m,\u001b[0m \u001b[0minplace\u001b[0m\u001b[0;34m)\u001b[0m\u001b[0;34m\u001b[0m\u001b[0;34m\u001b[0m\u001b[0m\n\u001b[0m\u001b[1;32m    656\u001b[0m \u001b[0;34m\u001b[0m\u001b[0m\n\u001b[1;32m    657\u001b[0m     \u001b[0;34m@\u001b[0m\u001b[0mfinal\u001b[0m\u001b[0;34m\u001b[0m\u001b[0;34m\u001b[0m\u001b[0m\n",
      "\u001b[0;32m~/anaconda3/lib/python3.8/site-packages/pandas/core/generic.py\u001b[0m in \u001b[0;36m_set_axis_nocheck\u001b[0;34m(self, labels, axis, inplace)\u001b[0m\n\u001b[1;32m    659\u001b[0m         \u001b[0;31m# NDFrame.rename with inplace=False calls set_axis(inplace=True) on a copy.\u001b[0m\u001b[0;34m\u001b[0m\u001b[0;34m\u001b[0m\u001b[0;34m\u001b[0m\u001b[0m\n\u001b[1;32m    660\u001b[0m         \u001b[0;32mif\u001b[0m \u001b[0minplace\u001b[0m\u001b[0;34m:\u001b[0m\u001b[0;34m\u001b[0m\u001b[0;34m\u001b[0m\u001b[0m\n\u001b[0;32m--> 661\u001b[0;31m             \u001b[0msetattr\u001b[0m\u001b[0;34m(\u001b[0m\u001b[0mself\u001b[0m\u001b[0;34m,\u001b[0m \u001b[0mself\u001b[0m\u001b[0;34m.\u001b[0m\u001b[0m_get_axis_name\u001b[0m\u001b[0;34m(\u001b[0m\u001b[0maxis\u001b[0m\u001b[0;34m)\u001b[0m\u001b[0;34m,\u001b[0m \u001b[0mlabels\u001b[0m\u001b[0;34m)\u001b[0m\u001b[0;34m\u001b[0m\u001b[0;34m\u001b[0m\u001b[0m\n\u001b[0m\u001b[1;32m    662\u001b[0m         \u001b[0;32melse\u001b[0m\u001b[0;34m:\u001b[0m\u001b[0;34m\u001b[0m\u001b[0;34m\u001b[0m\u001b[0m\n\u001b[1;32m    663\u001b[0m             \u001b[0mobj\u001b[0m \u001b[0;34m=\u001b[0m \u001b[0mself\u001b[0m\u001b[0;34m.\u001b[0m\u001b[0mcopy\u001b[0m\u001b[0;34m(\u001b[0m\u001b[0;34m)\u001b[0m\u001b[0;34m\u001b[0m\u001b[0;34m\u001b[0m\u001b[0m\n",
      "\u001b[0;32m~/anaconda3/lib/python3.8/site-packages/pandas/core/generic.py\u001b[0m in \u001b[0;36m__setattr__\u001b[0;34m(self, name, value)\u001b[0m\n\u001b[1;32m   5473\u001b[0m         \u001b[0;32mtry\u001b[0m\u001b[0;34m:\u001b[0m\u001b[0;34m\u001b[0m\u001b[0;34m\u001b[0m\u001b[0m\n\u001b[1;32m   5474\u001b[0m             \u001b[0mobject\u001b[0m\u001b[0;34m.\u001b[0m\u001b[0m__getattribute__\u001b[0m\u001b[0;34m(\u001b[0m\u001b[0mself\u001b[0m\u001b[0;34m,\u001b[0m \u001b[0mname\u001b[0m\u001b[0;34m)\u001b[0m\u001b[0;34m\u001b[0m\u001b[0;34m\u001b[0m\u001b[0m\n\u001b[0;32m-> 5475\u001b[0;31m             \u001b[0;32mreturn\u001b[0m \u001b[0mobject\u001b[0m\u001b[0;34m.\u001b[0m\u001b[0m__setattr__\u001b[0m\u001b[0;34m(\u001b[0m\u001b[0mself\u001b[0m\u001b[0;34m,\u001b[0m \u001b[0mname\u001b[0m\u001b[0;34m,\u001b[0m \u001b[0mvalue\u001b[0m\u001b[0;34m)\u001b[0m\u001b[0;34m\u001b[0m\u001b[0;34m\u001b[0m\u001b[0m\n\u001b[0m\u001b[1;32m   5476\u001b[0m         \u001b[0;32mexcept\u001b[0m \u001b[0mAttributeError\u001b[0m\u001b[0;34m:\u001b[0m\u001b[0;34m\u001b[0m\u001b[0;34m\u001b[0m\u001b[0m\n\u001b[1;32m   5477\u001b[0m             \u001b[0;32mpass\u001b[0m\u001b[0;34m\u001b[0m\u001b[0;34m\u001b[0m\u001b[0m\n",
      "\u001b[0;32mpandas/_libs/properties.pyx\u001b[0m in \u001b[0;36mpandas._libs.properties.AxisProperty.__set__\u001b[0;34m()\u001b[0m\n",
      "\u001b[0;32m~/anaconda3/lib/python3.8/site-packages/pandas/core/series.py\u001b[0m in \u001b[0;36m_set_axis\u001b[0;34m(self, axis, labels, fastpath)\u001b[0m\n\u001b[1;32m    439\u001b[0m         \u001b[0;32mif\u001b[0m \u001b[0;32mnot\u001b[0m \u001b[0mfastpath\u001b[0m\u001b[0;34m:\u001b[0m\u001b[0;34m\u001b[0m\u001b[0;34m\u001b[0m\u001b[0m\n\u001b[1;32m    440\u001b[0m             \u001b[0;31m# The ensure_index call above ensures we have an Index object\u001b[0m\u001b[0;34m\u001b[0m\u001b[0;34m\u001b[0m\u001b[0;34m\u001b[0m\u001b[0m\n\u001b[0;32m--> 441\u001b[0;31m             \u001b[0mself\u001b[0m\u001b[0;34m.\u001b[0m\u001b[0m_mgr\u001b[0m\u001b[0;34m.\u001b[0m\u001b[0mset_axis\u001b[0m\u001b[0;34m(\u001b[0m\u001b[0maxis\u001b[0m\u001b[0;34m,\u001b[0m \u001b[0mlabels\u001b[0m\u001b[0;34m)\u001b[0m\u001b[0;34m\u001b[0m\u001b[0;34m\u001b[0m\u001b[0m\n\u001b[0m\u001b[1;32m    442\u001b[0m \u001b[0;34m\u001b[0m\u001b[0m\n\u001b[1;32m    443\u001b[0m     \u001b[0;31m# ndarray compatibility\u001b[0m\u001b[0;34m\u001b[0m\u001b[0;34m\u001b[0m\u001b[0;34m\u001b[0m\u001b[0m\n",
      "\u001b[0;32m~/anaconda3/lib/python3.8/site-packages/pandas/core/internals/managers.py\u001b[0m in \u001b[0;36mset_axis\u001b[0;34m(self, axis, new_labels)\u001b[0m\n\u001b[1;32m    218\u001b[0m \u001b[0;34m\u001b[0m\u001b[0m\n\u001b[1;32m    219\u001b[0m         \u001b[0;32mif\u001b[0m \u001b[0mnew_len\u001b[0m \u001b[0;34m!=\u001b[0m \u001b[0mold_len\u001b[0m\u001b[0;34m:\u001b[0m\u001b[0;34m\u001b[0m\u001b[0;34m\u001b[0m\u001b[0m\n\u001b[0;32m--> 220\u001b[0;31m             raise ValueError(\n\u001b[0m\u001b[1;32m    221\u001b[0m                 \u001b[0;34mf\"Length mismatch: Expected axis has {old_len} elements, new \"\u001b[0m\u001b[0;34m\u001b[0m\u001b[0;34m\u001b[0m\u001b[0m\n\u001b[1;32m    222\u001b[0m                 \u001b[0;34mf\"values have {new_len} elements\"\u001b[0m\u001b[0;34m\u001b[0m\u001b[0;34m\u001b[0m\u001b[0m\n",
      "\u001b[0;31mValueError\u001b[0m: Length mismatch: Expected axis has 84625 elements, new values have 84632 elements"
     ]
    },
    {
     "data": {
      "text/plain": [
       "<Figure size 720x2160 with 0 Axes>"
      ]
     },
     "metadata": {},
     "output_type": "display_data"
    }
   ],
   "source": [
    "# The method for race preeclampsia prevalance isn't going to work if I also want to chart the rate of preeclampsia \n",
    "# given comorbidities (diabetes and obesity) So I need to have an additional column marking rate per group. \n",
    "fig = plt.figure(figsize=(10,30))\n",
    "\n",
    "for i, col in enumerate(data.columns):   \n",
    "   # PERCENT COLUMN CALCULATION\n",
    "   data[col+'_pct'] = data.groupby(['Preeclampsia/Eclampsia', col])[col].transform(lambda x: len(x)) / len(data)\n",
    "\n",
    "   #plt.subplot(8, 2, i+1)   \n",
    "   #sns.barplot(x=col, y=col+'_pct', hue='Preeclampsia/Eclampsia', data=data).set(xlabel=col, ylabel='Percent')    "
   ]
  },
  {
   "cell_type": "code",
   "execution_count": 30,
   "metadata": {},
   "outputs": [
    {
     "data": {
      "image/png": "[encoded data removed]",
      "text/plain": [
       "<Figure size 792x648 with 2 Axes>"
      ]
     },
     "metadata": {
      "needs_background": "light"
     },
     "output_type": "display_data"
    }
   ],
   "source": [
    "data.rename(columns = {\"Other cardiovascular diseases complicating pregnancy and childbirth or the puerperium\": \"Other Cardiovascular diseases\"},  \n",
    "          inplace = True) \n",
    "\n",
    "corr = data.corr()\n",
    "\n",
    "mask = np.triu(np.ones_like(corr, dtype=bool))\n",
    "\n",
    "# Set up the matplotlib figure\n",
    "f, ax = plt.subplots(figsize=(11, 9))\n",
    "\n",
    "# Generate a custom diverging colormap\n",
    "cmap = sns.diverging_palette(230, 20, as_cmap=True)\n",
    "\n",
    "# Draw the heatmap with the mask and correct aspect ratio\n",
    "svm = sns.heatmap(corr, mask=mask, cmap=cmap, vmax=0.5, center=0,\n",
    "            square=True, linewidths=.5, cbar_kws={\"shrink\": .5})\n",
    "\n",
    "\n",
    "figure = svm.get_figure()    \n",
    "figure.savefig('heatmap3.png', dpi=400, bbox_inches = \"tight\")"
   ]
  },
  {
   "cell_type": "code",
   "execution_count": 64,
   "metadata": {},
   "outputs": [
    {
     "data": {
      "text/plain": [
       "8510"
      ]
     },
     "execution_count": 64,
     "metadata": {},
     "output_type": "execute_result"
    }
   ],
   "source": [
    "RaceAge[['Black']].sum()"
   ]
  },
  {
   "cell_type": "code",
   "execution_count": 69,
   "metadata": {},
   "outputs": [
    {
     "data": {
      "text/plain": [
       "Race   Age  \n",
       "Black  20-24    31.175088\n",
       "       25-29    30.540541\n",
       "       30-34    18.437133\n",
       "       15-19     9.576968\n",
       "       35-39     8.566392\n",
       "       40-44     1.457109\n",
       "       10-14     0.117509\n",
       "       45-49     0.082256\n",
       "       50-54     0.047004\n",
       "Name: Age, dtype: float64"
      ]
     },
     "execution_count": 69,
     "metadata": {},
     "output_type": "execute_result"
    }
   ],
   "source": [
    "RaceAge[['Black']]/(RaceAge[['Black']].sum())*100"
   ]
  },
  {
   "cell_type": "code",
   "execution_count": 72,
   "metadata": {},
   "outputs": [
    {
     "data": {
      "text/plain": [
       "Race   Age  \n",
       "White  25-29    32.410642\n",
       "       30-34    24.950282\n",
       "       20-24    24.883992\n",
       "       35-39     9.490280\n",
       "       15-19     6.620084\n",
       "       40-44     1.499597\n",
       "       45-49     0.078832\n",
       "       10-14     0.059124\n",
       "       50-54     0.007167\n",
       "Name: Age, dtype: float64"
      ]
     },
     "execution_count": 72,
     "metadata": {},
     "output_type": "execute_result"
    }
   ],
   "source": [
    "RaceAge[['White']]/(RaceAge[['White']].sum())*100"
   ]
  },
  {
   "cell_type": "code",
   "execution_count": 59,
   "metadata": {},
   "outputs": [
    {
     "data": {
      "text/plain": [
       "Index(['State', 'Zip', 'County', 'Sex', 'Race', 'Marital_status', 'Age',\n",
       "       'admit_month', 'Length_of_stay', 'Status',\n",
       "       ...\n",
       "       'Inadequate Prenatal Care', 'Periodontal disease', 'Intrauterine Death',\n",
       "       'Preeclampsia/Eclampsia', 'HELLP', 'Stroke', 'Renal Disease',\n",
       "       'Pulmonary Edema', 'Acute Heart Failure', 'Eclampsia'],\n",
       "      dtype='object', length=109)"
      ]
     },
     "execution_count": 59,
     "metadata": {},
     "output_type": "execute_result"
    }
   ],
   "source": [
    "data.columns"
   ]
  },
  {
   "cell_type": "code",
   "execution_count": 30,
   "metadata": {},
   "outputs": [],
   "source": [
    "admitMonth = data['admit_month']"
   ]
  },
  {
   "cell_type": "code",
   "execution_count": 27,
   "metadata": {},
   "outputs": [
    {
     "data": {
      "text/plain": [
       "admit_month\n",
       "1     5.763850\n",
       "2     5.157370\n",
       "3     5.527566\n",
       "4     5.445923\n",
       "5     6.213753\n",
       "6     5.418859\n",
       "7     5.548705\n",
       "8     5.728017\n",
       "9     5.485173\n",
       "10    5.345272\n",
       "11    5.573341\n",
       "12    5.664488\n",
       "dtype: float64"
      ]
     },
     "execution_count": 27,
     "metadata": {},
     "output_type": "execute_result"
    }
   ],
   "source": [
    "data.groupby('admit_month')['Preeclampsia/Eclampsia'].sum().sort_index()/data['admit_month'].value_counts().sort_index()*100"
   ]
  },
  {
   "cell_type": "code",
   "execution_count": 5,
   "metadata": {},
   "outputs": [],
   "source": [
    "missing = data.iloc[:,0:15].isnull().sum()"
   ]
  },
  {
   "cell_type": "code",
   "execution_count": 6,
   "metadata": {},
   "outputs": [
    {
     "data": {
      "text/plain": [
       "State              0.008271\n",
       "Zip                0.004726\n",
       "County             0.003545\n",
       "Sex                0.009453\n",
       "Race               0.000000\n",
       "Marital_status    17.741516\n",
       "Age                0.000000\n",
       "admit_month        0.000000\n",
       "Length_of_stay     0.000000\n",
       "Status             0.000000\n",
       "pdx                0.000000\n",
       "dx1                0.000000\n",
       "dx2                0.122885\n",
       "dx3               15.696191\n",
       "dx4               33.262832\n",
       "dtype: float64"
      ]
     },
     "execution_count": 6,
     "metadata": {},
     "output_type": "execute_result"
    }
   ],
   "source": [
    "missing/len(data)*100"
   ]
  },
  {
   "cell_type": "code",
   "execution_count": 6,
   "metadata": {},
   "outputs": [
    {
     "data": {
      "text/html": [
       "<div>\n",
       "<style scoped>\n",
       "    .dataframe tbody tr th:only-of-type {\n",
       "        vertical-align: middle;\n",
       "    }\n",
       "\n",
       "    .dataframe tbody tr th {\n",
       "        vertical-align: top;\n",
       "    }\n",
       "\n",
       "    .dataframe thead th {\n",
       "        text-align: right;\n",
       "    }\n",
       "</style>\n",
       "<table border=\"1\" class=\"dataframe\">\n",
       "  <thead>\n",
       "    <tr style=\"text-align: right;\">\n",
       "      <th></th>\n",
       "      <th>Preeclampsia/Eclampsia</th>\n",
       "    </tr>\n",
       "    <tr>\n",
       "      <th>Race</th>\n",
       "      <th></th>\n",
       "    </tr>\n",
       "  </thead>\n",
       "  <tbody>\n",
       "    <tr>\n",
       "      <th>Black</th>\n",
       "      <td>551</td>\n",
       "    </tr>\n",
       "    <tr>\n",
       "      <th>Native American</th>\n",
       "      <td>446</td>\n",
       "    </tr>\n",
       "    <tr>\n",
       "      <th>Other/Unknown</th>\n",
       "      <td>716</td>\n",
       "    </tr>\n",
       "    <tr>\n",
       "      <th>White</th>\n",
       "      <td>3008</td>\n",
       "    </tr>\n",
       "  </tbody>\n",
       "</table>\n",
       "</div>"
      ],
      "text/plain": [
       "                 Preeclampsia/Eclampsia\n",
       "Race                                   \n",
       "Black                               551\n",
       "Native American                     446\n",
       "Other/Unknown                       716\n",
       "White                              3008"
      ]
     },
     "execution_count": 6,
     "metadata": {},
     "output_type": "execute_result"
    }
   ],
   "source": [
    "data.groupby('Race')[['Preeclampsia/Eclampsia']].sum()"
   ]
  },
  {
   "cell_type": "code",
   "execution_count": 102,
   "metadata": {},
   "outputs": [
    {
     "data": {
      "text/plain": [
       "White              55815\n",
       "Other/Unknown      14864\n",
       "Black               8510\n",
       "Native American     5443\n",
       "Name: Race, dtype: int64"
      ]
     },
     "execution_count": 102,
     "metadata": {},
     "output_type": "execute_result"
    }
   ],
   "source": [
    "data.Race.value_counts()"
   ]
  },
  {
   "cell_type": "code",
   "execution_count": 100,
   "metadata": {},
   "outputs": [
    {
     "data": {
      "text/plain": [
       "State                 7\n",
       "Zip                   4\n",
       "County                3\n",
       "Sex                   8\n",
       "Race                  0\n",
       "Marital_status    15015\n",
       "Age                   0\n",
       "admit_month           0\n",
       "Length_of_stay        0\n",
       "Status                0\n",
       "pdx                   0\n",
       "dx1                   0\n",
       "dx2                 104\n",
       "dx3               13284\n",
       "dx4               28151\n",
       "dtype: int64"
      ]
     },
     "execution_count": 100,
     "metadata": {},
     "output_type": "execute_result"
    }
   ],
   "source": [
    "missing"
   ]
  },
  {
   "cell_type": "code",
   "execution_count": 98,
   "metadata": {
    "collapsed": true
   },
   "outputs": [
    {
     "data": {
      "text/plain": [
       "State                                                                                                               7\n",
       "Zip                                                                                                                 4\n",
       "County                                                                                                              3\n",
       "Sex                                                                                                                 8\n",
       "Race                                                                                                                0\n",
       "Marital_status                                                                                                  15015\n",
       "Age                                                                                                                 0\n",
       "admit_month                                                                                                         0\n",
       "Length_of_stay                                                                                                      0\n",
       "Status                                                                                                              0\n",
       "pdx                                                                                                                 0\n",
       "dx1                                                                                                                 0\n",
       "dx2                                                                                                               104\n",
       "dx3                                                                                                             13284\n",
       "dx4                                                                                                             28151\n",
       "dx5                                                                                                             41928\n",
       "dx6                                                                                                             53558\n",
       "dx7                                                                                                             62844\n",
       "dx8                                                                                                             68325\n",
       "dx9                                                                                                             72623\n",
       "dx10                                                                                                            75931\n",
       "dx11                                                                                                            78458\n",
       "dx12                                                                                                            80242\n",
       "dx13                                                                                                            81467\n",
       "dx14                                                                                                            82389\n",
       "dx15                                                                                                            83041\n",
       "ppoa                                                                                                                0\n",
       "poa1                                                                                                                0\n",
       "poa2                                                                                                              104\n",
       "poa3                                                                                                            13284\n",
       "poa4                                                                                                            28151\n",
       "poa5                                                                                                            41928\n",
       "poa6                                                                                                            53558\n",
       "poa7                                                                                                            62844\n",
       "poa8                                                                                                            68325\n",
       "poa9                                                                                                            72623\n",
       "poa10                                                                                                           75931\n",
       "poa11                                                                                                           78458\n",
       "poa12                                                                                                           80242\n",
       "poa13                                                                                                           81467\n",
       "poa14                                                                                                           82389\n",
       "poa15                                                                                                           83041\n",
       "ppx                                                                                                               100\n",
       "px1                                                                                                             25440\n",
       "px2                                                                                                             53089\n",
       "px3                                                                                                             70524\n",
       "px4                                                                                                             79915\n",
       "px5                                                                                                             82915\n",
       "px6                                                                                                             84032\n",
       "px7                                                                                                             84386\n",
       "px8                                                                                                             84531\n",
       "px9                                                                                                             84595\n",
       "px10                                                                                                            84610\n",
       "px11                                                                                                            84616\n",
       "px12                                                                                                            84624\n",
       "px13                                                                                                            84628\n",
       "px14                                                                                                            84628\n",
       "px15                                                                                                            84631\n",
       "Medicaid                                                                                                            3\n",
       "Medicare                                                                                                            3\n",
       "Self-pay                                                                                                            3\n",
       "Other Insurance                                                                                                     3\n",
       "Obesity                                                                                                             0\n",
       "Pregnancy resulting from assisted reproductive technology                                                           0\n",
       "Cocaine dependence                                                                                                  0\n",
       "Amphetamine dependence                                                                                              0\n",
       "Gestational diabetes mellitus                                                                                       0\n",
       "Pre-existing diabetes mellitus                                                                                      0\n",
       "Anxiety                                                                                                             0\n",
       "Anemia NOS                                                                                                          0\n",
       "Iron deficiency anemia                                                                                              0\n",
       "Other anemia                                                                                                        0\n",
       "Depression                                                                                                          0\n",
       "Primigravidas at the extremes of maternal age                                                                       0\n",
       "Hemorrhagic disorders due to intrinsic circulating antibodies                                                       0\n",
       "Systemic lupus erythematosus                                                                                        0\n",
       "Lupus erythematosus                                                                                                 0\n",
       "Autoimmune disease not elsewhere classified                                                                         0\n",
       "Pure hypercholesterolemia                                                                                           0\n",
       "Unspecified vitamin D deficiency                                                                                    0\n",
       "Proteinuria                                                                                                         0\n",
       "Current Smoker                                                                                                      0\n",
       "Hypertension                                                                                                        0\n",
       "Hypertensive heart disease                                                                                          0\n",
       "Chronic venous hypertension                                                                                         0\n",
       "Unspecified renal disease in pregnancy without mention of hypertension                                              0\n",
       "Chronic kidney disease                                                                                              0\n",
       "Hypertensive kidney disease                                                                                         0\n",
       "Hypertensive heart and chronic kidney disease                                                                       0\n",
       "Renal failure not elsewhere classified                                                                              0\n",
       "Infections of genitourinary tract in pregnancy                                                                      0\n",
       "UTI                                                                                                                 0\n",
       "Personal history of trophoblastic disease                                                                           0\n",
       "Supervision of high-risk pregnancy with history of trophoblastic disease                                            0\n",
       "Thrombophilia                                                                                                       0\n",
       "History of premature delivery                                                                                       0\n",
       "Hemorrhage in early pregnancy                                                                                       0\n",
       "Congenital abnormalities of the uterus including those complicating pregnancy, childbirth, or the puerperium        0\n",
       "Multiple Gestations                                                                                                 0\n",
       "Inadequate Prenatal Care                                                                                            0\n",
       "Periodontal disease                                                                                                 0\n",
       "Intrauterine Death                                                                                                  0\n",
       "Preeclampsia/Eclampsia                                                                                              0\n",
       "HELLP                                                                                                               0\n",
       "Stroke                                                                                                              0\n",
       "Renal Disease                                                                                                       0\n",
       "Pulmonary Edema                                                                                                     0\n",
       "Acute Heart Failure                                                                                                 0\n",
       "Eclampsia                                                                                                           0\n",
       "dtype: int64"
      ]
     },
     "execution_count": 98,
     "metadata": {},
     "output_type": "execute_result"
    }
   ],
   "source": [
    "data.isnull().sum()"
   ]
  },
  {
   "cell_type": "code",
   "execution_count": 95,
   "metadata": {},
   "outputs": [
    {
     "data": {
      "text/plain": [
       "State              0.008271\n",
       "Zip                0.004726\n",
       "County             0.003545\n",
       "Sex                0.009453\n",
       "Race               0.000000\n",
       "Marital_status    17.741516\n",
       "Age                0.000000\n",
       "admit_month        0.000000\n",
       "Length_of_stay     0.000000\n",
       "Status             0.000000\n",
       "pdx                0.000000\n",
       "dx1                0.000000\n",
       "dx2                0.122885\n",
       "dx3               15.696191\n",
       "dx4               33.262832\n",
       "dtype: float64"
      ]
     },
     "execution_count": 95,
     "metadata": {},
     "output_type": "execute_result"
    }
   ],
   "source": [
    "missing/len(data)*100"
   ]
  },
  {
   "cell_type": "code",
   "execution_count": 99,
   "metadata": {},
   "outputs": [
    {
     "data": {
      "text/plain": [
       "0.003544758483788638"
      ]
     },
     "execution_count": 99,
     "metadata": {},
     "output_type": "execute_result"
    }
   ],
   "source": [
    "3/len(data)*100"
   ]
  },
  {
   "cell_type": "code",
   "execution_count": 86,
   "metadata": {},
   "outputs": [
    {
     "data": {
      "text/plain": [
       "Preeclampsia/Eclampsia    4721\n",
       "dtype: int64"
      ]
     },
     "execution_count": 86,
     "metadata": {},
     "output_type": "execute_result"
    }
   ],
   "source": [
    "data[['Preeclampsia/Eclampsia']].sum()"
   ]
  },
  {
   "cell_type": "code",
   "execution_count": 12,
   "metadata": {},
   "outputs": [
    {
     "data": {
      "text/plain": [
       "5.578268267322053"
      ]
     },
     "execution_count": 12,
     "metadata": {},
     "output_type": "execute_result"
    }
   ],
   "source": [
    "4721/len(data)*100"
   ]
  },
  {
   "cell_type": "code",
   "execution_count": 88,
   "metadata": {},
   "outputs": [
    {
     "data": {
      "text/plain": [
       "79911"
      ]
     },
     "execution_count": 88,
     "metadata": {},
     "output_type": "execute_result"
    }
   ],
   "source": [
    "len(data)-4721"
   ]
  },
  {
   "cell_type": "code",
   "execution_count": 3,
   "metadata": {},
   "outputs": [],
   "source": []
  },
  {
   "cell_type": "code",
   "execution_count": 85,
   "metadata": {},
   "outputs": [
    {
     "data": {
      "text/html": [
       "<div>\n",
       "<style scoped>\n",
       "    .dataframe tbody tr th:only-of-type {\n",
       "        vertical-align: middle;\n",
       "    }\n",
       "\n",
       "    .dataframe tbody tr th {\n",
       "        vertical-align: top;\n",
       "    }\n",
       "\n",
       "    .dataframe thead th {\n",
       "        text-align: right;\n",
       "    }\n",
       "</style>\n",
       "<table border=\"1\" class=\"dataframe\">\n",
       "  <thead>\n",
       "    <tr style=\"text-align: right;\">\n",
       "      <th></th>\n",
       "      <th>Acute Heart Failure</th>\n",
       "      <th>Pulmonary Edema</th>\n",
       "      <th>Renal Disease</th>\n",
       "      <th>Stroke</th>\n",
       "      <th>HELLP</th>\n",
       "      <th>Preeclampsia/Eclampsia</th>\n",
       "    </tr>\n",
       "    <tr>\n",
       "      <th>Race</th>\n",
       "      <th></th>\n",
       "      <th></th>\n",
       "      <th></th>\n",
       "      <th></th>\n",
       "      <th></th>\n",
       "      <th></th>\n",
       "    </tr>\n",
       "  </thead>\n",
       "  <tbody>\n",
       "    <tr>\n",
       "      <th>Black</th>\n",
       "      <td>8</td>\n",
       "      <td>2</td>\n",
       "      <td>45</td>\n",
       "      <td>2</td>\n",
       "      <td>13</td>\n",
       "      <td>551</td>\n",
       "    </tr>\n",
       "    <tr>\n",
       "      <th>Native American</th>\n",
       "      <td>0</td>\n",
       "      <td>4</td>\n",
       "      <td>34</td>\n",
       "      <td>1</td>\n",
       "      <td>17</td>\n",
       "      <td>446</td>\n",
       "    </tr>\n",
       "    <tr>\n",
       "      <th>Other/Unknown</th>\n",
       "      <td>4</td>\n",
       "      <td>2</td>\n",
       "      <td>58</td>\n",
       "      <td>7</td>\n",
       "      <td>34</td>\n",
       "      <td>716</td>\n",
       "    </tr>\n",
       "    <tr>\n",
       "      <th>White</th>\n",
       "      <td>15</td>\n",
       "      <td>28</td>\n",
       "      <td>236</td>\n",
       "      <td>11</td>\n",
       "      <td>143</td>\n",
       "      <td>3008</td>\n",
       "    </tr>\n",
       "  </tbody>\n",
       "</table>\n",
       "</div>"
      ],
      "text/plain": [
       "                 Acute Heart Failure  Pulmonary Edema  Renal Disease  Stroke  \\\n",
       "Race                                                                           \n",
       "Black                              8                2             45       2   \n",
       "Native American                    0                4             34       1   \n",
       "Other/Unknown                      4                2             58       7   \n",
       "White                             15               28            236      11   \n",
       "\n",
       "                 HELLP  Preeclampsia/Eclampsia  \n",
       "Race                                            \n",
       "Black               13                     551  \n",
       "Native American     17                     446  \n",
       "Other/Unknown       34                     716  \n",
       "White              143                    3008  "
      ]
     },
     "execution_count": 85,
     "metadata": {},
     "output_type": "execute_result"
    }
   ],
   "source": [
    "data.groupby('Race')[['Acute Heart Failure', 'Pulmonary Edema', 'Renal Disease','Stroke','HELLP','Preeclampsia/Eclampsia']].sum()"
   ]
  },
  {
   "cell_type": "code",
   "execution_count": 79,
   "metadata": {},
   "outputs": [
    {
     "data": {
      "text/plain": [
       "array([ 1.,  7.,  2., 70.,  6., 21., 61., 85., 86., 62., 65., 50.,  5.,\n",
       "       81., 20., 51.,  3.,  4., 64., 95.])"
      ]
     },
     "execution_count": 79,
     "metadata": {},
     "output_type": "execute_result"
    }
   ],
   "source": [
    "data.Status.unique()"
   ]
  },
  {
   "cell_type": "code",
   "execution_count": 74,
   "metadata": {},
   "outputs": [
    {
     "data": {
      "text/plain": [
       "25-29    26708\n",
       "20-24    21831\n",
       "30-34    20115\n",
       "35-39     8164\n",
       "15-19     6192\n",
       "40-44     1458\n",
       "45-49       84\n",
       "10-14       71\n",
       "50-54        9\n",
       "Name: Age, dtype: int64"
      ]
     },
     "execution_count": 74,
     "metadata": {},
     "output_type": "execute_result"
    }
   ],
   "source": [
    "data.Age.value_counts()"
   ]
  },
  {
   "cell_type": "code",
   "execution_count": 44,
   "metadata": {},
   "outputs": [
    {
     "data": {
      "text/plain": [
       "31.557803195008983"
      ]
     },
     "execution_count": 44,
     "metadata": {},
     "output_type": "execute_result"
    }
   ],
   "source": [
    "26708/len(data)*100"
   ]
  },
  {
   "cell_type": "code",
   "execution_count": 106,
   "metadata": {},
   "outputs": [
    {
     "data": {
      "text/plain": [
       "8     9.097032\n",
       "10    8.709472\n",
       "7     8.624397\n",
       "5     8.557047\n",
       "9     8.487333\n",
       "1     8.445978\n",
       "6     8.307732\n",
       "3     8.208479\n",
       "12    8.135221\n",
       "11    8.119860\n",
       "4     7.724029\n",
       "2     7.583420\n",
       "Name: admit_month, dtype: float64"
      ]
     },
     "execution_count": 106,
     "metadata": {},
     "output_type": "execute_result"
    }
   ],
   "source": [
    "data.admit_month.value_counts()/len(data)*100"
   ]
  },
  {
   "cell_type": "code",
   "execution_count": null,
   "metadata": {},
   "outputs": [],
   "source": [
    "data.iloc[:,45:62].sum()"
   ]
  },
  {
   "cell_type": "code",
   "execution_count": 66,
   "metadata": {},
   "outputs": [],
   "source": [
    "sums = data.iloc[:,62:].sum()\n",
    "freq = (sums/len(data)*100).round(4)"
   ]
  },
  {
   "cell_type": "code",
   "execution_count": 69,
   "metadata": {},
   "outputs": [
    {
     "data": {
      "text/plain": [
       "Amphetamine dependence                                                                                            962\n",
       "Gestational diabetes mellitus                                                                                    5025\n",
       "Pre-existing diabetes mellitus                                                                                   1159\n",
       "Anxiety                                                                                                          3148\n",
       "Anemia NOS                                                                                                         11\n",
       "Iron deficiency anemia                                                                                           1246\n",
       "Other anemia                                                                                                    12784\n",
       "Depression                                                                                                       2752\n",
       "Primigravidas at the extremes of maternal age                                                                    1796\n",
       "Hemorrhagic disorders due to intrinsic circulating antibodies                                                       0\n",
       "Systemic lupus erythematosus                                                                                      141\n",
       "Lupus erythematosus                                                                                                35\n",
       "Autoimmune disease not elsewhere classified                                                                         9\n",
       "Pure hypercholesterolemia                                                                                          25\n",
       "Unspecified vitamin D deficiency                                                                                  189\n",
       "Proteinuria                                                                                                       166\n",
       "Current Smoker                                                                                                   5438\n",
       "Hypertension                                                                                                    10276\n",
       "Hypertensive heart disease                                                                                          5\n",
       "Chronic venous hypertension                                                                                         1\n",
       "Unspecified renal disease in pregnancy without mention of hypertension                                            546\n",
       "Chronic kidney disease                                                                                             73\n",
       "Hypertensive kidney disease                                                                                        24\n",
       "Hypertensive heart and chronic kidney disease                                                                       2\n",
       "Renal failure not elsewhere classified                                                                              0\n",
       "Infections of genitourinary tract in pregnancy                                                                    618\n",
       "UTI                                                                                                               175\n",
       "Personal history of trophoblastic disease                                                                         390\n",
       "Supervision of high-risk pregnancy with history of trophoblastic disease                                           11\n",
       "Thrombophilia                                                                                                     271\n",
       "History of premature delivery                                                                                     149\n",
       "Hemorrhage in early pregnancy                                                                                      22\n",
       "Congenital abnormalities of the uterus including those complicating pregnancy, childbirth, or the puerperium    17082\n",
       "Multiple Gestations                                                                                              1393\n",
       "Inadequate Prenatal Care                                                                                          767\n",
       "Periodontal disease                                                                                                 2\n",
       "Intrauterine Death                                                                                                435\n",
       "Preeclampsia/Eclampsia                                                                                           4721\n",
       "HELLP                                                                                                             207\n",
       "Stroke                                                                                                             21\n",
       "Renal Disease                                                                                                     373\n",
       "Pulmonary Edema                                                                                                    36\n",
       "Acute Heart Failure                                                                                                27\n",
       "Eclampsia                                                                                                         116\n",
       "Comorbidities                                                                                                     757\n",
       "dtype: int64"
      ]
     },
     "execution_count": 69,
     "metadata": {},
     "output_type": "execute_result"
    }
   ],
   "source": [
    "sums"
   ]
  },
  {
   "cell_type": "code",
   "execution_count": 71,
   "metadata": {},
   "outputs": [],
   "source": [
    "sums = sums.astype(str)\n",
    "freq = freq.astype(str)\n",
    "strings = '&' + sums + '  (' + freq + '\\%) &'"
   ]
  },
  {
   "cell_type": "code",
   "execution_count": 83,
   "metadata": {},
   "outputs": [],
   "source": [
    "for i in range(len(strings)):\n",
    "    if i%2 == 1:\n",
    "        strings[i] = strings[i] + '\\\\'"
   ]
  },
  {
   "cell_type": "code",
   "execution_count": 85,
   "metadata": {},
   "outputs": [
    {
     "data": {
      "text/plain": [
       "Amphetamine dependence                                                 &962  (1.1367\\%) &\n",
       "Gestational diabetes mellitus                                     &5025  (5.9375\\%) &\\\\\\\\\n",
       "Pre-existing diabetes mellitus                                        &1159  (1.3695\\%) &\n",
       "Anxiety                                                           &3148  (3.7196\\%) &\\\\\\\\\n",
       "Anemia NOS                                                               &11  (0.013\\%) &\n",
       "Iron deficiency anemia                                            &1246  (1.4723\\%) &\\\\\\\\\n",
       "Other anemia                                                        &12784  (15.1054\\%) &\n",
       "Depression                                                        &2752  (3.2517\\%) &\\\\\\\\\n",
       "Primigravidas at the extremes of maternal age                         &1796  (2.1221\\%) &\n",
       "Hemorrhagic disorders due to intrinsic circulating antibodies           &0  (0.0\\%) &\\\\\\\\\n",
       "Systemic lupus erythematosus                                           &141  (0.1666\\%) &\n",
       "Lupus erythematosus                                                 &35  (0.0414\\%) &\\\\\\\\\n",
       "Autoimmune disease not elsewhere classified                              &9  (0.0106\\%) &\n",
       "Pure hypercholesterolemia                                           &25  (0.0295\\%) &\\\\\\\\\n",
       "Unspecified vitamin D deficiency                                       &189  (0.2233\\%) &\n",
       "Proteinuria                                                        &166  (0.1961\\%) &\\\\\\\\\n",
       "Current Smoker                                                        &5438  (6.4255\\%) &\n",
       "Hypertension                                                     &10276  (12.142\\%) &\\\\\\\\\n",
       "Hypertensive heart disease                                               &5  (0.0059\\%) &\n",
       "Chronic venous hypertension                                          &1  (0.0012\\%) &\\\\\\\\\n",
       "dtype: object"
      ]
     },
     "execution_count": 85,
     "metadata": {},
     "output_type": "execute_result"
    }
   ],
   "source": [
    "strings.head(20)"
   ]
  },
  {
   "cell_type": "code",
   "execution_count": 10,
   "metadata": {
    "collapsed": true
   },
   "outputs": [
    {
     "ename": "TypeError",
     "evalue": "unsupported operand type(s) for /: 'str' and 'int'",
     "output_type": "error",
     "traceback": [
      "\u001b[1;31m---------------------------------------------------------------------------\u001b[0m",
      "\u001b[1;31mTypeError\u001b[0m                                 Traceback (most recent call last)",
      "\u001b[1;32mC:\\ProgramData\\Anaconda3\\lib\\site-packages\\pandas\\core\\ops\\array_ops.py\u001b[0m in \u001b[0;36mna_arithmetic_op\u001b[1;34m(left, right, op, is_cmp)\u001b[0m\n\u001b[0;32m    142\u001b[0m     \u001b[1;32mtry\u001b[0m\u001b[1;33m:\u001b[0m\u001b[1;33m\u001b[0m\u001b[1;33m\u001b[0m\u001b[0m\n\u001b[1;32m--> 143\u001b[1;33m         \u001b[0mresult\u001b[0m \u001b[1;33m=\u001b[0m \u001b[0mexpressions\u001b[0m\u001b[1;33m.\u001b[0m\u001b[0mevaluate\u001b[0m\u001b[1;33m(\u001b[0m\u001b[0mop\u001b[0m\u001b[1;33m,\u001b[0m \u001b[0mleft\u001b[0m\u001b[1;33m,\u001b[0m \u001b[0mright\u001b[0m\u001b[1;33m)\u001b[0m\u001b[1;33m\u001b[0m\u001b[1;33m\u001b[0m\u001b[0m\n\u001b[0m\u001b[0;32m    144\u001b[0m     \u001b[1;32mexcept\u001b[0m \u001b[0mTypeError\u001b[0m\u001b[1;33m:\u001b[0m\u001b[1;33m\u001b[0m\u001b[1;33m\u001b[0m\u001b[0m\n",
      "\u001b[1;32mC:\\ProgramData\\Anaconda3\\lib\\site-packages\\pandas\\core\\computation\\expressions.py\u001b[0m in \u001b[0;36mevaluate\u001b[1;34m(op, a, b, use_numexpr)\u001b[0m\n\u001b[0;32m    232\u001b[0m         \u001b[1;32mif\u001b[0m \u001b[0muse_numexpr\u001b[0m\u001b[1;33m:\u001b[0m\u001b[1;33m\u001b[0m\u001b[1;33m\u001b[0m\u001b[0m\n\u001b[1;32m--> 233\u001b[1;33m             \u001b[1;32mreturn\u001b[0m \u001b[0m_evaluate\u001b[0m\u001b[1;33m(\u001b[0m\u001b[0mop\u001b[0m\u001b[1;33m,\u001b[0m \u001b[0mop_str\u001b[0m\u001b[1;33m,\u001b[0m \u001b[0ma\u001b[0m\u001b[1;33m,\u001b[0m \u001b[0mb\u001b[0m\u001b[1;33m)\u001b[0m  \u001b[1;31m# type: ignore\u001b[0m\u001b[1;33m\u001b[0m\u001b[1;33m\u001b[0m\u001b[0m\n\u001b[0m\u001b[0;32m    234\u001b[0m     \u001b[1;32mreturn\u001b[0m \u001b[0m_evaluate_standard\u001b[0m\u001b[1;33m(\u001b[0m\u001b[0mop\u001b[0m\u001b[1;33m,\u001b[0m \u001b[0mop_str\u001b[0m\u001b[1;33m,\u001b[0m \u001b[0ma\u001b[0m\u001b[1;33m,\u001b[0m \u001b[0mb\u001b[0m\u001b[1;33m)\u001b[0m\u001b[1;33m\u001b[0m\u001b[1;33m\u001b[0m\u001b[0m\n",
      "\u001b[1;32mC:\\ProgramData\\Anaconda3\\lib\\site-packages\\pandas\\core\\computation\\expressions.py\u001b[0m in \u001b[0;36m_evaluate_numexpr\u001b[1;34m(op, op_str, a, b)\u001b[0m\n\u001b[0;32m    118\u001b[0m     \u001b[1;32mif\u001b[0m \u001b[0mresult\u001b[0m \u001b[1;32mis\u001b[0m \u001b[1;32mNone\u001b[0m\u001b[1;33m:\u001b[0m\u001b[1;33m\u001b[0m\u001b[1;33m\u001b[0m\u001b[0m\n\u001b[1;32m--> 119\u001b[1;33m         \u001b[0mresult\u001b[0m \u001b[1;33m=\u001b[0m \u001b[0m_evaluate_standard\u001b[0m\u001b[1;33m(\u001b[0m\u001b[0mop\u001b[0m\u001b[1;33m,\u001b[0m \u001b[0mop_str\u001b[0m\u001b[1;33m,\u001b[0m \u001b[0ma\u001b[0m\u001b[1;33m,\u001b[0m \u001b[0mb\u001b[0m\u001b[1;33m)\u001b[0m\u001b[1;33m\u001b[0m\u001b[1;33m\u001b[0m\u001b[0m\n\u001b[0m\u001b[0;32m    120\u001b[0m \u001b[1;33m\u001b[0m\u001b[0m\n",
      "\u001b[1;32mC:\\ProgramData\\Anaconda3\\lib\\site-packages\\pandas\\core\\computation\\expressions.py\u001b[0m in \u001b[0;36m_evaluate_standard\u001b[1;34m(op, op_str, a, b)\u001b[0m\n\u001b[0;32m     67\u001b[0m     \u001b[1;32mwith\u001b[0m \u001b[0mnp\u001b[0m\u001b[1;33m.\u001b[0m\u001b[0merrstate\u001b[0m\u001b[1;33m(\u001b[0m\u001b[0mall\u001b[0m\u001b[1;33m=\u001b[0m\u001b[1;34m\"ignore\"\u001b[0m\u001b[1;33m)\u001b[0m\u001b[1;33m:\u001b[0m\u001b[1;33m\u001b[0m\u001b[1;33m\u001b[0m\u001b[0m\n\u001b[1;32m---> 68\u001b[1;33m         \u001b[1;32mreturn\u001b[0m \u001b[0mop\u001b[0m\u001b[1;33m(\u001b[0m\u001b[0ma\u001b[0m\u001b[1;33m,\u001b[0m \u001b[0mb\u001b[0m\u001b[1;33m)\u001b[0m\u001b[1;33m\u001b[0m\u001b[1;33m\u001b[0m\u001b[0m\n\u001b[0m\u001b[0;32m     69\u001b[0m \u001b[1;33m\u001b[0m\u001b[0m\n",
      "\u001b[1;31mTypeError\u001b[0m: unsupported operand type(s) for /: 'str' and 'int'",
      "\nDuring handling of the above exception, another exception occurred:\n",
      "\u001b[1;31mTypeError\u001b[0m                                 Traceback (most recent call last)",
      "\u001b[1;32m<ipython-input-10-5981f08803cb>\u001b[0m in \u001b[0;36m<module>\u001b[1;34m\u001b[0m\n\u001b[0;32m      1\u001b[0m \u001b[0msums\u001b[0m \u001b[1;33m=\u001b[0m \u001b[0mdata\u001b[0m\u001b[1;33m.\u001b[0m\u001b[0miloc\u001b[0m\u001b[1;33m[\u001b[0m\u001b[1;33m:\u001b[0m\u001b[1;33m,\u001b[0m\u001b[1;36m16\u001b[0m\u001b[1;33m:\u001b[0m\u001b[1;33m]\u001b[0m\u001b[1;33m.\u001b[0m\u001b[0msum\u001b[0m\u001b[1;33m(\u001b[0m\u001b[1;33m)\u001b[0m\u001b[1;33m\u001b[0m\u001b[1;33m\u001b[0m\u001b[0m\n\u001b[1;32m----> 2\u001b[1;33m \u001b[0mfreq\u001b[0m \u001b[1;33m=\u001b[0m \u001b[1;33m(\u001b[0m\u001b[0msums\u001b[0m\u001b[1;33m/\u001b[0m\u001b[0mlen\u001b[0m\u001b[1;33m(\u001b[0m\u001b[0mdata\u001b[0m\u001b[1;33m)\u001b[0m\u001b[1;33m*\u001b[0m\u001b[1;36m100\u001b[0m\u001b[1;33m)\u001b[0m\u001b[1;33m.\u001b[0m\u001b[0mround\u001b[0m\u001b[1;33m(\u001b[0m\u001b[1;36m4\u001b[0m\u001b[1;33m)\u001b[0m\u001b[1;33m\u001b[0m\u001b[1;33m\u001b[0m\u001b[0m\n\u001b[0m",
      "\u001b[1;32mC:\\ProgramData\\Anaconda3\\lib\\site-packages\\pandas\\core\\ops\\common.py\u001b[0m in \u001b[0;36mnew_method\u001b[1;34m(self, other)\u001b[0m\n\u001b[0;32m     63\u001b[0m         \u001b[0mother\u001b[0m \u001b[1;33m=\u001b[0m \u001b[0mitem_from_zerodim\u001b[0m\u001b[1;33m(\u001b[0m\u001b[0mother\u001b[0m\u001b[1;33m)\u001b[0m\u001b[1;33m\u001b[0m\u001b[1;33m\u001b[0m\u001b[0m\n\u001b[0;32m     64\u001b[0m \u001b[1;33m\u001b[0m\u001b[0m\n\u001b[1;32m---> 65\u001b[1;33m         \u001b[1;32mreturn\u001b[0m \u001b[0mmethod\u001b[0m\u001b[1;33m(\u001b[0m\u001b[0mself\u001b[0m\u001b[1;33m,\u001b[0m \u001b[0mother\u001b[0m\u001b[1;33m)\u001b[0m\u001b[1;33m\u001b[0m\u001b[1;33m\u001b[0m\u001b[0m\n\u001b[0m\u001b[0;32m     66\u001b[0m \u001b[1;33m\u001b[0m\u001b[0m\n\u001b[0;32m     67\u001b[0m     \u001b[1;32mreturn\u001b[0m \u001b[0mnew_method\u001b[0m\u001b[1;33m\u001b[0m\u001b[1;33m\u001b[0m\u001b[0m\n",
      "\u001b[1;32mC:\\ProgramData\\Anaconda3\\lib\\site-packages\\pandas\\core\\ops\\__init__.py\u001b[0m in \u001b[0;36mwrapper\u001b[1;34m(left, right)\u001b[0m\n\u001b[0;32m    341\u001b[0m         \u001b[0mlvalues\u001b[0m \u001b[1;33m=\u001b[0m \u001b[0mextract_array\u001b[0m\u001b[1;33m(\u001b[0m\u001b[0mleft\u001b[0m\u001b[1;33m,\u001b[0m \u001b[0mextract_numpy\u001b[0m\u001b[1;33m=\u001b[0m\u001b[1;32mTrue\u001b[0m\u001b[1;33m)\u001b[0m\u001b[1;33m\u001b[0m\u001b[1;33m\u001b[0m\u001b[0m\n\u001b[0;32m    342\u001b[0m         \u001b[0mrvalues\u001b[0m \u001b[1;33m=\u001b[0m \u001b[0mextract_array\u001b[0m\u001b[1;33m(\u001b[0m\u001b[0mright\u001b[0m\u001b[1;33m,\u001b[0m \u001b[0mextract_numpy\u001b[0m\u001b[1;33m=\u001b[0m\u001b[1;32mTrue\u001b[0m\u001b[1;33m)\u001b[0m\u001b[1;33m\u001b[0m\u001b[1;33m\u001b[0m\u001b[0m\n\u001b[1;32m--> 343\u001b[1;33m         \u001b[0mresult\u001b[0m \u001b[1;33m=\u001b[0m \u001b[0marithmetic_op\u001b[0m\u001b[1;33m(\u001b[0m\u001b[0mlvalues\u001b[0m\u001b[1;33m,\u001b[0m \u001b[0mrvalues\u001b[0m\u001b[1;33m,\u001b[0m \u001b[0mop\u001b[0m\u001b[1;33m)\u001b[0m\u001b[1;33m\u001b[0m\u001b[1;33m\u001b[0m\u001b[0m\n\u001b[0m\u001b[0;32m    344\u001b[0m \u001b[1;33m\u001b[0m\u001b[0m\n\u001b[0;32m    345\u001b[0m         \u001b[1;32mreturn\u001b[0m \u001b[0mleft\u001b[0m\u001b[1;33m.\u001b[0m\u001b[0m_construct_result\u001b[0m\u001b[1;33m(\u001b[0m\u001b[0mresult\u001b[0m\u001b[1;33m,\u001b[0m \u001b[0mname\u001b[0m\u001b[1;33m=\u001b[0m\u001b[0mres_name\u001b[0m\u001b[1;33m)\u001b[0m\u001b[1;33m\u001b[0m\u001b[1;33m\u001b[0m\u001b[0m\n",
      "\u001b[1;32mC:\\ProgramData\\Anaconda3\\lib\\site-packages\\pandas\\core\\ops\\array_ops.py\u001b[0m in \u001b[0;36marithmetic_op\u001b[1;34m(left, right, op)\u001b[0m\n\u001b[0;32m    188\u001b[0m     \u001b[1;32melse\u001b[0m\u001b[1;33m:\u001b[0m\u001b[1;33m\u001b[0m\u001b[1;33m\u001b[0m\u001b[0m\n\u001b[0;32m    189\u001b[0m         \u001b[1;32mwith\u001b[0m \u001b[0mnp\u001b[0m\u001b[1;33m.\u001b[0m\u001b[0merrstate\u001b[0m\u001b[1;33m(\u001b[0m\u001b[0mall\u001b[0m\u001b[1;33m=\u001b[0m\u001b[1;34m\"ignore\"\u001b[0m\u001b[1;33m)\u001b[0m\u001b[1;33m:\u001b[0m\u001b[1;33m\u001b[0m\u001b[1;33m\u001b[0m\u001b[0m\n\u001b[1;32m--> 190\u001b[1;33m             \u001b[0mres_values\u001b[0m \u001b[1;33m=\u001b[0m \u001b[0mna_arithmetic_op\u001b[0m\u001b[1;33m(\u001b[0m\u001b[0mlvalues\u001b[0m\u001b[1;33m,\u001b[0m \u001b[0mrvalues\u001b[0m\u001b[1;33m,\u001b[0m \u001b[0mop\u001b[0m\u001b[1;33m)\u001b[0m\u001b[1;33m\u001b[0m\u001b[1;33m\u001b[0m\u001b[0m\n\u001b[0m\u001b[0;32m    191\u001b[0m \u001b[1;33m\u001b[0m\u001b[0m\n\u001b[0;32m    192\u001b[0m     \u001b[1;32mreturn\u001b[0m \u001b[0mres_values\u001b[0m\u001b[1;33m\u001b[0m\u001b[1;33m\u001b[0m\u001b[0m\n",
      "\u001b[1;32mC:\\ProgramData\\Anaconda3\\lib\\site-packages\\pandas\\core\\ops\\array_ops.py\u001b[0m in \u001b[0;36mna_arithmetic_op\u001b[1;34m(left, right, op, is_cmp)\u001b[0m\n\u001b[0;32m    148\u001b[0m             \u001b[1;31m#  will handle complex numbers incorrectly, see GH#32047\u001b[0m\u001b[1;33m\u001b[0m\u001b[1;33m\u001b[0m\u001b[1;33m\u001b[0m\u001b[0m\n\u001b[0;32m    149\u001b[0m             \u001b[1;32mraise\u001b[0m\u001b[1;33m\u001b[0m\u001b[1;33m\u001b[0m\u001b[0m\n\u001b[1;32m--> 150\u001b[1;33m         \u001b[0mresult\u001b[0m \u001b[1;33m=\u001b[0m \u001b[0mmasked_arith_op\u001b[0m\u001b[1;33m(\u001b[0m\u001b[0mleft\u001b[0m\u001b[1;33m,\u001b[0m \u001b[0mright\u001b[0m\u001b[1;33m,\u001b[0m \u001b[0mop\u001b[0m\u001b[1;33m)\u001b[0m\u001b[1;33m\u001b[0m\u001b[1;33m\u001b[0m\u001b[0m\n\u001b[0m\u001b[0;32m    151\u001b[0m \u001b[1;33m\u001b[0m\u001b[0m\n\u001b[0;32m    152\u001b[0m     \u001b[1;32mif\u001b[0m \u001b[0mis_cmp\u001b[0m \u001b[1;32mand\u001b[0m \u001b[1;33m(\u001b[0m\u001b[0mis_scalar\u001b[0m\u001b[1;33m(\u001b[0m\u001b[0mresult\u001b[0m\u001b[1;33m)\u001b[0m \u001b[1;32mor\u001b[0m \u001b[0mresult\u001b[0m \u001b[1;32mis\u001b[0m \u001b[0mNotImplemented\u001b[0m\u001b[1;33m)\u001b[0m\u001b[1;33m:\u001b[0m\u001b[1;33m\u001b[0m\u001b[1;33m\u001b[0m\u001b[0m\n",
      "\u001b[1;32mC:\\ProgramData\\Anaconda3\\lib\\site-packages\\pandas\\core\\ops\\array_ops.py\u001b[0m in \u001b[0;36mmasked_arith_op\u001b[1;34m(x, y, op)\u001b[0m\n\u001b[0;32m    110\u001b[0m         \u001b[1;32mif\u001b[0m \u001b[0mmask\u001b[0m\u001b[1;33m.\u001b[0m\u001b[0many\u001b[0m\u001b[1;33m(\u001b[0m\u001b[1;33m)\u001b[0m\u001b[1;33m:\u001b[0m\u001b[1;33m\u001b[0m\u001b[1;33m\u001b[0m\u001b[0m\n\u001b[0;32m    111\u001b[0m             \u001b[1;32mwith\u001b[0m \u001b[0mnp\u001b[0m\u001b[1;33m.\u001b[0m\u001b[0merrstate\u001b[0m\u001b[1;33m(\u001b[0m\u001b[0mall\u001b[0m\u001b[1;33m=\u001b[0m\u001b[1;34m\"ignore\"\u001b[0m\u001b[1;33m)\u001b[0m\u001b[1;33m:\u001b[0m\u001b[1;33m\u001b[0m\u001b[1;33m\u001b[0m\u001b[0m\n\u001b[1;32m--> 112\u001b[1;33m                 \u001b[0mresult\u001b[0m\u001b[1;33m[\u001b[0m\u001b[0mmask\u001b[0m\u001b[1;33m]\u001b[0m \u001b[1;33m=\u001b[0m \u001b[0mop\u001b[0m\u001b[1;33m(\u001b[0m\u001b[0mxrav\u001b[0m\u001b[1;33m[\u001b[0m\u001b[0mmask\u001b[0m\u001b[1;33m]\u001b[0m\u001b[1;33m,\u001b[0m \u001b[0my\u001b[0m\u001b[1;33m)\u001b[0m\u001b[1;33m\u001b[0m\u001b[1;33m\u001b[0m\u001b[0m\n\u001b[0m\u001b[0;32m    113\u001b[0m \u001b[1;33m\u001b[0m\u001b[0m\n\u001b[0;32m    114\u001b[0m     \u001b[0mresult\u001b[0m\u001b[1;33m,\u001b[0m \u001b[0m_\u001b[0m \u001b[1;33m=\u001b[0m \u001b[0mmaybe_upcast_putmask\u001b[0m\u001b[1;33m(\u001b[0m\u001b[0mresult\u001b[0m\u001b[1;33m,\u001b[0m \u001b[1;33m~\u001b[0m\u001b[0mmask\u001b[0m\u001b[1;33m,\u001b[0m \u001b[0mnp\u001b[0m\u001b[1;33m.\u001b[0m\u001b[0mnan\u001b[0m\u001b[1;33m)\u001b[0m\u001b[1;33m\u001b[0m\u001b[1;33m\u001b[0m\u001b[0m\n",
      "\u001b[1;31mTypeError\u001b[0m: unsupported operand type(s) for /: 'str' and 'int'"
     ]
    }
   ],
   "source": [
    "sums = data.iloc[:,16:].sum()\n",
    "freq = (sums/len(data)*100).round(4)\n"
   ]
  },
  {
   "cell_type": "code",
   "execution_count": null,
   "metadata": {},
   "outputs": [],
   "source": [
    "           \n",
    "\n",
    "ok2017.drop(columns=['State', 'Zip', 'Sex', 'County', 'Length_of_stay', 'Status', 'pdx',\n",
    "                     'dx1', 'dx2', 'dx3', 'dx4', 'dx5', 'dx6', 'dx7',\n",
    "                     'dx8', 'dx9', 'dx10', 'dx11', 'dx12', 'dx13', 'dx14',\n",
    "                     'dx15', 'ppoa', 'poa1', 'poa2', 'poa3', 'poa4',\n",
    "                     'poa5', 'poa6', 'poa7', 'poa8', 'poa9', 'poa10',\n",
    "                     'poa11', 'poa12', 'poa13', 'poa14', 'poa15', 'ppx',\n",
    "                     'px1', 'px2', 'px3', 'px4', 'px5', 'px6', 'px7',\n",
    "                     'px8', 'px9', 'px10', 'px11', 'px12', 'px13', 'px14',\n",
    "                     'px15', 'county name'], inplace=True)\n",
    "\n",
    "ok2018.drop(columns=['State', 'Zip', 'Sex', 'County', 'Length_of_stay', 'Status', 'pdx',\n",
    "                     'dx1', 'dx2', 'dx3', 'dx4', 'dx5', 'dx6', 'dx7',\n",
    "                     'dx8', 'dx9', 'dx10', 'dx11', 'dx12', 'dx13', 'dx14',\n",
    "                     'dx15', 'ppoa', 'poa1', 'poa2', 'poa3', 'poa4',\n",
    "                     'poa5', 'poa6', 'poa7', 'poa8', 'poa9', 'poa10',\n",
    "                     'poa11', 'poa12', 'poa13', 'poa14', 'poa15', 'ppx',\n",
    "                     'px1', 'px2', 'px3', 'px4', 'px5', 'px6', 'px7',\n",
    "                     'px8', 'px9', 'px10', 'px11', 'px12', 'px13', 'px14',\n",
    "                     'px15', 'county name'], inplace=True)\n",
    "\n",
    "# Setting dummies to true makes a column for each category that states whether or not it is missing (0 or 1).\n",
    "ok2017 = pd.get_dummies(ok2017, prefix_sep=\"__\", dummy_na=True,\n",
    "                        columns=['Race', 'Marital_status', 'Metro status'])\n",
    "\n",
    "# Propogates the missing values via the indicator columns\n",
    "ok2017.loc[ok2017[\"Race__nan\"] == 1, ok2017.columns.str.startswith(\"Race__\")] = np.nan\n",
    "ok2017.loc[ok2017[\"Marital_status__nan\"] == 1, ok2017.columns.str.startswith(\"Marital_status__\")] = np.nan\n",
    "ok2017.loc[ok2017[\"Metro status__nan\"] == 1, ok2017.columns.str.startswith(\"Metro status__\")] = np.nan\n",
    "\n",
    "# Drops the missingness indicator columns\n",
    "ok2017 = ok2017.drop(['Race__nan'], axis=1)\n",
    "ok2017 = ok2017.drop(['Marital_status__nan'], axis=1)\n",
    "ok2017 = ok2017.drop(['Metro status__nan'], axis=1)\n",
    "\n",
    "# Setting dummies to true makes a column for each category that states whether or not it is missing (0 or 1).\n",
    "ok2018 = pd.get_dummies(ok2018, prefix_sep=\"__\", dummy_na=True,\n",
    "                        columns=['Race', 'Marital_status', 'Metro status'])\n",
    "\n",
    "# Propogates the missing values via the indicator columns\n",
    "ok2018.loc[ok2018[\"Race__nan\"] == 1, ok2018.columns.str.startswith(\"Race__\")] = np.nan\n",
    "ok2018.loc[ok2018[\"Marital_status__nan\"] == 1, ok2018.columns.str.startswith(\"Marital_status__\")] = np.nan\n",
    "ok2018.loc[ok2018[\"Metro status__nan\"] == 1, ok2018.columns.str.startswith(\"Metro status__\")] = np.nan\n",
    "\n",
    "# Drops the missingness indicator columns\n",
    "ok2018 = ok2018.drop(['Race__nan'], axis=1)\n",
    "ok2018 = ok2018.drop(['Marital_status__nan'], axis=1)\n",
    "ok2018 = ok2018.drop(['Metro status__nan'], axis=1)\n",
    "\n",
    "ok2017.rename(columns={'Race__White': 'White',\n",
    "                       'Race__Native American': 'Native American',\n",
    "                       'Race__Black': 'Black',\n",
    "                       'Race__Other/Unknown': 'Other/Unknown Race',\n",
    "                       'Marital_status__Married': 'Married',\n",
    "                       'Marital_status__Unmarried': 'Unmarried',\n",
    "                       'Metro status__Rural': 'Rural',\n",
    "                       'Metro status__Urban': 'Urban'}, inplace=True)\n",
    "\n",
    "ok2018.rename(columns={'Race__White': 'White',\n",
    "                       'Race__Native American': 'Native American',\n",
    "                       'Race__Black': 'Black',\n",
    "                       'Race__Other/Unknown': 'Other/Unknown Race',\n",
    "                       'Marital_status__Married': 'Married',\n",
    "                       'Marital_status__Unmarried': 'Unmarried',\n",
    "                       'Metro status__Rural': 'Rural',\n",
    "                       'Metro status__Urban': 'Urban'}, inplace=True)\n",
    "\n",
    "if (dropMetro == True):\n",
    "    ok2017.drop(columns=['Rural', 'Urban'], inplace=True)\n",
    "    ok2018.drop(columns=['Rural', 'Urban'], inplace=True)\n",
    "\n",
    "#ok2017.to_csv('Data/Oklahoma_Clean/ok2017_Incomplete.csv', index=False)\n",
    "#ok2018.to_csv('Data/Oklahoma_Clean/ok2018_Incomplete.csv', index=False)"
   ]
  }
 ],
 "metadata": {
  "kernelspec": {
   "display_name": "Python 3",
   "language": "python",
   "name": "python3"
  },
  "language_info": {
   "codemirror_mode": {
    "name": "ipython",
    "version": 3
   },
   "file_extension": ".py",
   "mimetype": "text/x-python",
   "name": "python",
   "nbconvert_exporter": "python",
   "pygments_lexer": "ipython3",
   "version": "3.7.6"
  }
 },
 "nbformat": 4,
 "nbformat_minor": 4
}

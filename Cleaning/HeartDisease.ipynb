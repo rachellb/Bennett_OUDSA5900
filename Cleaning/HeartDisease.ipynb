{
 "cells": [
  {
   "cell_type": "code",
   "execution_count": 1,
   "id": "compatible-graphic",
   "metadata": {},
   "outputs": [],
   "source": [
    "import os\n",
    "import pandas as pd\n",
    "import numpy as np\n",
    "\n",
    "# Get data\n",
    "parent = os.path.dirname(os.getcwd())\n",
    "dataPath = os.path.join(parent, 'Data/HeartDisease/reprocessed.hungarian.data')\n",
    "df = pd.read_csv(dataPath, header=None,delim_whitespace=True)\n",
    "\n",
    "df.columns = ['Age','Sex','CP','Trestbps','chol','fbs','restecg',\n",
    "             'thalach','exang','oldpeak','slope','ca','thal','num']"
   ]
  },
  {
   "cell_type": "code",
   "execution_count": 13,
   "id": "authentic-kitchen",
   "metadata": {},
   "outputs": [
    {
     "data": {
      "text/html": [
       "<div>\n",
       "<style scoped>\n",
       "    .dataframe tbody tr th:only-of-type {\n",
       "        vertical-align: middle;\n",
       "    }\n",
       "\n",
       "    .dataframe tbody tr th {\n",
       "        vertical-align: top;\n",
       "    }\n",
       "\n",
       "    .dataframe thead th {\n",
       "        text-align: right;\n",
       "    }\n",
       "</style>\n",
       "<table border=\"1\" class=\"dataframe\">\n",
       "  <thead>\n",
       "    <tr style=\"text-align: right;\">\n",
       "      <th></th>\n",
       "      <th>Age</th>\n",
       "      <th>Sex</th>\n",
       "      <th>CP</th>\n",
       "      <th>Trestbps</th>\n",
       "      <th>chol</th>\n",
       "      <th>fbs</th>\n",
       "      <th>restecg</th>\n",
       "      <th>thalach</th>\n",
       "      <th>exang</th>\n",
       "      <th>oldpeak</th>\n",
       "      <th>slope</th>\n",
       "      <th>ca</th>\n",
       "      <th>thal</th>\n",
       "      <th>num</th>\n",
       "    </tr>\n",
       "  </thead>\n",
       "  <tbody>\n",
       "    <tr>\n",
       "      <th>0</th>\n",
       "      <td>40</td>\n",
       "      <td>1</td>\n",
       "      <td>2</td>\n",
       "      <td>140</td>\n",
       "      <td>289</td>\n",
       "      <td>0</td>\n",
       "      <td>0</td>\n",
       "      <td>172</td>\n",
       "      <td>0</td>\n",
       "      <td>0.0</td>\n",
       "      <td>-9</td>\n",
       "      <td>-9</td>\n",
       "      <td>-9</td>\n",
       "      <td>0</td>\n",
       "    </tr>\n",
       "    <tr>\n",
       "      <th>1</th>\n",
       "      <td>49</td>\n",
       "      <td>0</td>\n",
       "      <td>3</td>\n",
       "      <td>160</td>\n",
       "      <td>180</td>\n",
       "      <td>0</td>\n",
       "      <td>0</td>\n",
       "      <td>156</td>\n",
       "      <td>0</td>\n",
       "      <td>1.0</td>\n",
       "      <td>2</td>\n",
       "      <td>-9</td>\n",
       "      <td>-9</td>\n",
       "      <td>1</td>\n",
       "    </tr>\n",
       "    <tr>\n",
       "      <th>2</th>\n",
       "      <td>37</td>\n",
       "      <td>1</td>\n",
       "      <td>2</td>\n",
       "      <td>130</td>\n",
       "      <td>283</td>\n",
       "      <td>0</td>\n",
       "      <td>1</td>\n",
       "      <td>98</td>\n",
       "      <td>0</td>\n",
       "      <td>0.0</td>\n",
       "      <td>-9</td>\n",
       "      <td>-9</td>\n",
       "      <td>-9</td>\n",
       "      <td>0</td>\n",
       "    </tr>\n",
       "    <tr>\n",
       "      <th>3</th>\n",
       "      <td>48</td>\n",
       "      <td>0</td>\n",
       "      <td>4</td>\n",
       "      <td>138</td>\n",
       "      <td>214</td>\n",
       "      <td>0</td>\n",
       "      <td>0</td>\n",
       "      <td>108</td>\n",
       "      <td>1</td>\n",
       "      <td>1.5</td>\n",
       "      <td>2</td>\n",
       "      <td>-9</td>\n",
       "      <td>-9</td>\n",
       "      <td>3</td>\n",
       "    </tr>\n",
       "    <tr>\n",
       "      <th>4</th>\n",
       "      <td>54</td>\n",
       "      <td>1</td>\n",
       "      <td>3</td>\n",
       "      <td>150</td>\n",
       "      <td>-9</td>\n",
       "      <td>0</td>\n",
       "      <td>0</td>\n",
       "      <td>122</td>\n",
       "      <td>0</td>\n",
       "      <td>0.0</td>\n",
       "      <td>-9</td>\n",
       "      <td>-9</td>\n",
       "      <td>-9</td>\n",
       "      <td>0</td>\n",
       "    </tr>\n",
       "  </tbody>\n",
       "</table>\n",
       "</div>"
      ],
      "text/plain": [
       "   Age  Sex  CP  Trestbps  chol  fbs  restecg  thalach  exang  oldpeak  slope  \\\n",
       "0   40    1   2       140   289    0        0      172      0      0.0     -9   \n",
       "1   49    0   3       160   180    0        0      156      0      1.0      2   \n",
       "2   37    1   2       130   283    0        1       98      0      0.0     -9   \n",
       "3   48    0   4       138   214    0        0      108      1      1.5      2   \n",
       "4   54    1   3       150    -9    0        0      122      0      0.0     -9   \n",
       "\n",
       "   ca  thal  num  \n",
       "0  -9    -9    0  \n",
       "1  -9    -9    1  \n",
       "2  -9    -9    0  \n",
       "3  -9    -9    3  \n",
       "4  -9    -9    0  "
      ]
     },
     "execution_count": 13,
     "metadata": {},
     "output_type": "execute_result"
    }
   ],
   "source": [
    "df.head()"
   ]
  },
  {
   "cell_type": "code",
   "execution_count": 2,
   "id": "corporate-nomination",
   "metadata": {},
   "outputs": [
    {
     "data": {
      "text/plain": [
       "(294, 14)"
      ]
     },
     "execution_count": 2,
     "metadata": {},
     "output_type": "execute_result"
    }
   ],
   "source": [
    "df.shape"
   ]
  },
  {
   "cell_type": "code",
   "execution_count": 4,
   "id": "becoming-practitioner",
   "metadata": {},
   "outputs": [
    {
     "data": {
      "text/plain": [
       "Age         0\n",
       "Sex         0\n",
       "CP          0\n",
       "Trestbps    0\n",
       "chol        0\n",
       "fbs         0\n",
       "restecg     0\n",
       "thalach     0\n",
       "exang       0\n",
       "oldpeak     0\n",
       "slope       0\n",
       "ca          0\n",
       "thal        0\n",
       "num         0\n",
       "dtype: int64"
      ]
     },
     "execution_count": 4,
     "metadata": {},
     "output_type": "execute_result"
    }
   ],
   "source": [
    "df.isnull().sum()"
   ]
  },
  {
   "cell_type": "code",
   "execution_count": 6,
   "id": "blessed-fitness",
   "metadata": {},
   "outputs": [],
   "source": [
    "df.replace(to_replace=-9.0, value=np.NaN, inplace=True)"
   ]
  },
  {
   "cell_type": "code",
   "execution_count": 7,
   "id": "colonial-accounting",
   "metadata": {},
   "outputs": [
    {
     "data": {
      "text/plain": [
       "Age           0\n",
       "Sex           0\n",
       "CP            0\n",
       "Trestbps      1\n",
       "chol         23\n",
       "fbs           8\n",
       "restecg       1\n",
       "thalach       1\n",
       "exang         1\n",
       "oldpeak       0\n",
       "slope       190\n",
       "ca          290\n",
       "thal        266\n",
       "num           0\n",
       "dtype: int64"
      ]
     },
     "execution_count": 7,
     "metadata": {},
     "output_type": "execute_result"
    }
   ],
   "source": [
    "df.isnull().sum()"
   ]
  },
  {
   "cell_type": "code",
   "execution_count": 5,
   "id": "dress-coach",
   "metadata": {},
   "outputs": [
    {
     "name": "stdout",
     "output_type": "stream",
     "text": [
      "---- Age ---\n",
      "54    25\n",
      "48    19\n",
      "52    17\n",
      "55    15\n",
      "49    15\n",
      "46    13\n",
      "53    12\n",
      "50    12\n",
      "43    12\n",
      "39    11\n",
      "41    11\n",
      "47    10\n",
      "56    10\n",
      "58     9\n",
      "51     9\n",
      "59     8\n",
      "45     8\n",
      "37     8\n",
      "42     7\n",
      "40     7\n",
      "38     7\n",
      "44     7\n",
      "36     5\n",
      "35     5\n",
      "57     5\n",
      "34     4\n",
      "32     4\n",
      "65     3\n",
      "61     2\n",
      "60     2\n",
      "62     2\n",
      "31     2\n",
      "33     2\n",
      "29     2\n",
      "63     1\n",
      "28     1\n",
      "30     1\n",
      "66     1\n",
      "Name: Age, dtype: int64\n",
      "---- Sex ---\n",
      "1    213\n",
      "0     81\n",
      "Name: Sex, dtype: int64\n",
      "---- CP ---\n",
      "4    123\n",
      "2    106\n",
      "3     54\n",
      "1     11\n",
      "Name: CP, dtype: int64\n",
      "---- Trestbps ---\n",
      " 120    65\n",
      " 130    54\n",
      " 140    50\n",
      " 150    23\n",
      " 110    21\n",
      " 160    20\n",
      " 125     8\n",
      " 100     6\n",
      " 180     6\n",
      " 135     5\n",
      " 170     5\n",
      " 145     5\n",
      " 112     3\n",
      " 122     2\n",
      " 124     2\n",
      " 118     2\n",
      " 115     2\n",
      "-9       1\n",
      " 155     1\n",
      " 190     1\n",
      " 142     1\n",
      " 128     1\n",
      " 138     1\n",
      " 136     1\n",
      " 132     1\n",
      " 92      1\n",
      " 113     1\n",
      " 108     1\n",
      " 106     1\n",
      " 105     1\n",
      " 98      1\n",
      " 200     1\n",
      "Name: Trestbps, dtype: int64\n",
      "---- chol ---\n",
      "-9      23\n",
      " 246     5\n",
      " 275     5\n",
      " 230     5\n",
      " 196     4\n",
      "        ..\n",
      " 226     1\n",
      " 221     1\n",
      " 218     1\n",
      " 217     1\n",
      " 491     1\n",
      "Name: chol, Length: 154, dtype: int64\n",
      "---- fbs ---\n",
      " 0    266\n",
      " 1     20\n",
      "-9      8\n",
      "Name: fbs, dtype: int64\n",
      "---- restecg ---\n",
      " 0    235\n",
      " 1     52\n",
      " 2      6\n",
      "-9      1\n",
      "Name: restecg, dtype: int64\n",
      "---- thalach ---\n",
      "150    29\n",
      "140    21\n",
      "130    17\n",
      "170    14\n",
      "160    13\n",
      "       ..\n",
      "129     1\n",
      "82      1\n",
      "139     1\n",
      "143     1\n",
      "190     1\n",
      "Name: thalach, Length: 72, dtype: int64\n",
      "---- exang ---\n",
      " 0    204\n",
      " 1     89\n",
      "-9      1\n",
      "Name: exang, dtype: int64\n",
      "---- oldpeak ---\n",
      "0.0    189\n",
      "1.0     41\n",
      "2.0     31\n",
      "1.5     16\n",
      "3.0      9\n",
      "2.5      3\n",
      "0.5      2\n",
      "0.8      1\n",
      "5.0      1\n",
      "4.0      1\n",
      "Name: oldpeak, dtype: int64\n",
      "---- slope ---\n",
      "-9    190\n",
      " 2     91\n",
      " 1     12\n",
      " 3      1\n",
      "Name: slope, dtype: int64\n",
      "---- ca ---\n",
      "-9    290\n",
      " 0      3\n",
      " 9      1\n",
      "Name: ca, dtype: int64\n",
      "---- thal ---\n",
      "-9    266\n",
      " 7     11\n",
      " 6     10\n",
      " 3      7\n",
      "Name: thal, dtype: int64\n",
      "---- num ---\n",
      "0    188\n",
      "1     37\n",
      "3     28\n",
      "2     26\n",
      "4     15\n",
      "Name: num, dtype: int64\n"
     ]
    }
   ],
   "source": [
    "for c in df.columns:\n",
    "    print (\"---- %s ---\" % c)\n",
    "    print (df[c].value_counts())"
   ]
  },
  {
   "cell_type": "code",
   "execution_count": 14,
   "id": "compliant-borough",
   "metadata": {},
   "outputs": [
    {
     "data": {
      "text/plain": [
       "0    188\n",
       "1     37\n",
       "3     28\n",
       "2     26\n",
       "4     15\n",
       "Name: num, dtype: int64"
      ]
     },
     "execution_count": 14,
     "metadata": {},
     "output_type": "execute_result"
    }
   ],
   "source": [
    "df.num.value_counts()"
   ]
  },
  {
   "cell_type": "code",
   "execution_count": 15,
   "id": "sublime-transport",
   "metadata": {},
   "outputs": [
    {
     "data": {
      "text/plain": [
       "106"
      ]
     },
     "execution_count": 15,
     "metadata": {},
     "output_type": "execute_result"
    }
   ],
   "source": [
    "37+28+26+15"
   ]
  },
  {
   "cell_type": "code",
   "execution_count": 17,
   "id": "apart-bronze",
   "metadata": {},
   "outputs": [],
   "source": [
    "df['num'] = np.where(df['num'].isin([1,2,3,4]), 1, df['num'])  # Change to 0 if 2, otherwise leave as is"
   ]
  },
  {
   "cell_type": "code",
   "execution_count": 18,
   "id": "tender-swedish",
   "metadata": {},
   "outputs": [
    {
     "data": {
      "text/plain": [
       "0    188\n",
       "1    106\n",
       "Name: num, dtype: int64"
      ]
     },
     "execution_count": 18,
     "metadata": {},
     "output_type": "execute_result"
    }
   ],
   "source": [
    "df.num.value_counts()"
   ]
  }
 ],
 "metadata": {
  "kernelspec": {
   "display_name": "Python 3",
   "language": "python",
   "name": "python3"
  },
  "language_info": {
   "codemirror_mode": {
    "name": "ipython",
    "version": 3
   },
   "file_extension": ".py",
   "mimetype": "text/x-python",
   "name": "python",
   "nbconvert_exporter": "python",
   "pygments_lexer": "ipython3",
   "version": "3.7.6"
  }
 },
 "nbformat": 4,
 "nbformat_minor": 5
}

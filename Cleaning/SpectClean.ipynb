{
 "cells": [
  {
   "cell_type": "code",
   "execution_count": 1,
   "metadata": {},
   "outputs": [],
   "source": [
    "import os\n",
    "import pandas as pd\n",
    "import numpy as np\n",
    "\n",
    "# Get data\n",
    "parent = os.path.dirname(os.getcwd())\n",
    "trainPath = os.path.join(parent, 'Data/Spect/SPECT.train')\n",
    "testPath = os.path.join(parent, 'Data/Spect/SPECT.test')\n",
    "\n",
    "train = pd.read_csv(trainPath, header=None)\n",
    "test = pd.read_csv(testPath, header=None)\n",
    "\n",
    "frames =[train, test]\n",
    "df = pd.concat(frames)\n",
    "\n",
    "df.rename(columns={0:'Label'}, inplace=True)"
   ]
  },
  {
   "cell_type": "code",
   "execution_count": 2,
   "metadata": {},
   "outputs": [
    {
     "data": {
      "text/plain": [
       "1    212\n",
       "0     55\n",
       "Name: Label, dtype: int64"
      ]
     },
     "execution_count": 2,
     "metadata": {},
     "output_type": "execute_result"
    }
   ],
   "source": [
    "df.Label.value_counts()"
   ]
  },
  {
   "cell_type": "code",
   "execution_count": 3,
   "metadata": {},
   "outputs": [
    {
     "name": "stdout",
     "output_type": "stream",
     "text": [
      "---- Label ---\n",
      "1    212\n",
      "0     55\n",
      "Name: Label, dtype: int64\n",
      "---- 1 ---\n",
      "0    148\n",
      "1    119\n",
      "Name: 1, dtype: int64\n",
      "---- 2 ---\n",
      "0    201\n",
      "1     66\n",
      "Name: 2, dtype: int64\n",
      "---- 3 ---\n",
      "0    162\n",
      "1    105\n",
      "Name: 3, dtype: int64\n",
      "---- 4 ---\n",
      "0    191\n",
      "1     76\n",
      "Name: 4, dtype: int64\n",
      "---- 5 ---\n",
      "0    159\n",
      "1    108\n",
      "Name: 5, dtype: int64\n",
      "---- 6 ---\n",
      "0    204\n",
      "1     63\n",
      "Name: 6, dtype: int64\n",
      "---- 7 ---\n",
      "0    191\n",
      "1     76\n",
      "Name: 7, dtype: int64\n",
      "---- 8 ---\n",
      "0    153\n",
      "1    114\n",
      "Name: 8, dtype: int64\n",
      "---- 9 ---\n",
      "0    184\n",
      "1     83\n",
      "Name: 9, dtype: int64\n",
      "---- 10 ---\n",
      "0    166\n",
      "1    101\n",
      "Name: 10, dtype: int64\n",
      "---- 11 ---\n",
      "0    202\n",
      "1     65\n",
      "Name: 11, dtype: int64\n",
      "---- 12 ---\n",
      "0    188\n",
      "1     79\n",
      "Name: 12, dtype: int64\n",
      "---- 13 ---\n",
      "0    135\n",
      "1    132\n",
      "Name: 13, dtype: int64\n",
      "---- 14 ---\n",
      "0    186\n",
      "1     81\n",
      "Name: 14, dtype: int64\n",
      "---- 15 ---\n",
      "0    220\n",
      "1     47\n",
      "Name: 15, dtype: int64\n",
      "---- 16 ---\n",
      "0    184\n",
      "1     83\n",
      "Name: 16, dtype: int64\n",
      "---- 17 ---\n",
      "0    229\n",
      "1     38\n",
      "Name: 17, dtype: int64\n",
      "---- 18 ---\n",
      "0    232\n",
      "1     35\n",
      "Name: 18, dtype: int64\n",
      "---- 19 ---\n",
      "0    201\n",
      "1     66\n",
      "Name: 19, dtype: int64\n",
      "---- 20 ---\n",
      "0    181\n",
      "1     86\n",
      "Name: 20, dtype: int64\n",
      "---- 21 ---\n",
      "0    170\n",
      "1     97\n",
      "Name: 21, dtype: int64\n",
      "---- 22 ---\n",
      "0    157\n",
      "1    110\n",
      "Name: 22, dtype: int64\n"
     ]
    }
   ],
   "source": [
    "for c in df.columns:\n",
    "    print (\"---- %s ---\" % c)\n",
    "    print (df[c].value_counts())"
   ]
  },
  {
   "cell_type": "code",
   "execution_count": 10,
   "metadata": {},
   "outputs": [
    {
     "data": {
      "text/plain": [
       "Label    0\n",
       "1        0\n",
       "2        0\n",
       "3        0\n",
       "4        0\n",
       "5        0\n",
       "6        0\n",
       "7        0\n",
       "8        0\n",
       "9        0\n",
       "10       0\n",
       "11       0\n",
       "12       0\n",
       "13       0\n",
       "14       0\n",
       "15       0\n",
       "16       0\n",
       "17       0\n",
       "18       0\n",
       "19       0\n",
       "20       0\n",
       "21       0\n",
       "22       0\n",
       "dtype: int64"
      ]
     },
     "execution_count": 10,
     "metadata": {},
     "output_type": "execute_result"
    }
   ],
   "source": [
    "df.isnull().sum()"
   ]
  },
  {
   "cell_type": "code",
   "execution_count": 4,
   "metadata": {},
   "outputs": [
    {
     "data": {
      "text/plain": [
       "267"
      ]
     },
     "execution_count": 4,
     "metadata": {},
     "output_type": "execute_result"
    }
   ],
   "source": [
    "len(df)"
   ]
  }
 ],
 "metadata": {
  "kernelspec": {
   "display_name": "Python 3",
   "language": "python",
   "name": "python3"
  },
  "language_info": {
   "codemirror_mode": {
    "name": "ipython",
    "version": 3
   },
   "file_extension": ".py",
   "mimetype": "text/x-python",
   "name": "python",
   "nbconvert_exporter": "python",
   "pygments_lexer": "ipython3",
   "version": "3.8.5"
  }
 },
 "nbformat": 4,
 "nbformat_minor": 5
}
